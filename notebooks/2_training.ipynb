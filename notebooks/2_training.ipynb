{
 "cells": [
  {
   "cell_type": "code",
   "execution_count": 2,
   "metadata": {},
   "outputs": [],
   "source": [
    "import pandas as pd\n",
    "import numpy as np\n",
    "from sklearn.preprocessing import StandardScaler\n",
    "from sklearn.model_selection import train_test_split, cross_validate, GridSearchCV\n",
    "from sklearn.metrics import classification_report, confusion_matrix\n",
    "from sklearn.neighbors import KNeighborsClassifier\n",
    "from sklearn.linear_model import LogisticRegression\n",
    "from sklearn import tree, naive_bayes, svm"
   ]
  },
  {
   "cell_type": "code",
   "execution_count": 3,
   "metadata": {},
   "outputs": [],
   "source": [
    "df = pd.read_csv('data/bank_additional_preprocessed.csv', sep=';')"
   ]
  },
  {
   "cell_type": "code",
   "execution_count": 4,
   "metadata": {
    "scrolled": true
   },
   "outputs": [
    {
     "name": "stdout",
     "output_type": "stream",
     "text": [
      "<class 'pandas.core.frame.DataFrame'>\n",
      "RangeIndex: 41188 entries, 0 to 41187\n",
      "Data columns (total 70 columns):\n",
      " #   Column                         Non-Null Count  Dtype  \n",
      "---  ------                         --------------  -----  \n",
      " 0   age                            41188 non-null  int64  \n",
      " 1   campaign                       41188 non-null  int64  \n",
      " 2   pdays                          41188 non-null  int64  \n",
      " 3   emp.var.rate                   41188 non-null  float64\n",
      " 4   cons.price.idx                 41188 non-null  float64\n",
      " 5   cons.conf.idx                  41188 non-null  float64\n",
      " 6   euribor3m                      41188 non-null  float64\n",
      " 7   nr.employed                    41188 non-null  float64\n",
      " 8   y                              41188 non-null  int64  \n",
      " 9   job_admin.                     41188 non-null  int64  \n",
      " 10  job_blue-collar                41188 non-null  int64  \n",
      " 11  job_entrepreneur               41188 non-null  int64  \n",
      " 12  job_housemaid                  41188 non-null  int64  \n",
      " 13  job_management                 41188 non-null  int64  \n",
      " 14  job_retired                    41188 non-null  int64  \n",
      " 15  job_self-employed              41188 non-null  int64  \n",
      " 16  job_services                   41188 non-null  int64  \n",
      " 17  job_student                    41188 non-null  int64  \n",
      " 18  job_technician                 41188 non-null  int64  \n",
      " 19  job_unemployed                 41188 non-null  int64  \n",
      " 20  job_unknown                    41188 non-null  int64  \n",
      " 21  marital_divorced               41188 non-null  int64  \n",
      " 22  marital_married                41188 non-null  int64  \n",
      " 23  marital_single                 41188 non-null  int64  \n",
      " 24  marital_unknown                41188 non-null  int64  \n",
      " 25  education_basic.4y             41188 non-null  int64  \n",
      " 26  education_basic.6y             41188 non-null  int64  \n",
      " 27  education_basic.9y             41188 non-null  int64  \n",
      " 28  education_high.school          41188 non-null  int64  \n",
      " 29  education_illiterate           41188 non-null  int64  \n",
      " 30  education_professional.course  41188 non-null  int64  \n",
      " 31  education_university.degree    41188 non-null  int64  \n",
      " 32  education_unknown              41188 non-null  int64  \n",
      " 33  default_no                     41188 non-null  int64  \n",
      " 34  default_unknown                41188 non-null  int64  \n",
      " 35  default_yes                    41188 non-null  int64  \n",
      " 36  housing_no                     41188 non-null  int64  \n",
      " 37  housing_unknown                41188 non-null  int64  \n",
      " 38  housing_yes                    41188 non-null  int64  \n",
      " 39  loan_no                        41188 non-null  int64  \n",
      " 40  loan_unknown                   41188 non-null  int64  \n",
      " 41  loan_yes                       41188 non-null  int64  \n",
      " 42  contact_cellular               41188 non-null  int64  \n",
      " 43  contact_telephone              41188 non-null  int64  \n",
      " 44  month_apr                      41188 non-null  int64  \n",
      " 45  month_aug                      41188 non-null  int64  \n",
      " 46  month_dec                      41188 non-null  int64  \n",
      " 47  month_jul                      41188 non-null  int64  \n",
      " 48  month_jun                      41188 non-null  int64  \n",
      " 49  month_mar                      41188 non-null  int64  \n",
      " 50  month_may                      41188 non-null  int64  \n",
      " 51  month_nov                      41188 non-null  int64  \n",
      " 52  month_oct                      41188 non-null  int64  \n",
      " 53  month_sep                      41188 non-null  int64  \n",
      " 54  day_of_week_fri                41188 non-null  int64  \n",
      " 55  day_of_week_mon                41188 non-null  int64  \n",
      " 56  day_of_week_thu                41188 non-null  int64  \n",
      " 57  day_of_week_tue                41188 non-null  int64  \n",
      " 58  day_of_week_wed                41188 non-null  int64  \n",
      " 59  poutcome_failure               41188 non-null  int64  \n",
      " 60  poutcome_nonexistent           41188 non-null  int64  \n",
      " 61  poutcome_success               41188 non-null  int64  \n",
      " 62  previous_0                     41188 non-null  int64  \n",
      " 63  previous_1                     41188 non-null  int64  \n",
      " 64  previous_2                     41188 non-null  int64  \n",
      " 65  previous_3                     41188 non-null  int64  \n",
      " 66  previous_4                     41188 non-null  int64  \n",
      " 67  previous_5                     41188 non-null  int64  \n",
      " 68  previous_6                     41188 non-null  int64  \n",
      " 69  previous_7                     41188 non-null  int64  \n",
      "dtypes: float64(5), int64(65)\n",
      "memory usage: 22.0 MB\n"
     ]
    }
   ],
   "source": [
    "df.info()"
   ]
  },
  {
   "cell_type": "markdown",
   "metadata": {},
   "source": [
    "### Разделим данные на обучение и тест, нормализуем их"
   ]
  },
  {
   "cell_type": "code",
   "execution_count": 5,
   "metadata": {},
   "outputs": [],
   "source": [
    "X = df.drop('y', axis=1)\n",
    "y = df.y"
   ]
  },
  {
   "cell_type": "markdown",
   "metadata": {},
   "source": [
    "Для удобства обработки разделим признаки на категориальные и вещественные"
   ]
  },
  {
   "cell_type": "code",
   "execution_count": 6,
   "metadata": {},
   "outputs": [],
   "source": [
    "numeric_cols = np.array(['age', 'campaign', 'pdays', 'emp.var.rate', 'cons.price.idx', \n",
    "           'cons.conf.idx', 'euribor3m', 'nr.employed'])\n",
    "X_numeric = X.drop(numeric_cols, axis=1)"
   ]
  },
  {
   "cell_type": "code",
   "execution_count": 7,
   "metadata": {},
   "outputs": [
    {
     "name": "stderr",
     "output_type": "stream",
     "text": [
      "<ipython-input-7-45ba4a5426bd>:4: SettingWithCopyWarning: \n",
      "A value is trying to be set on a copy of a slice from a DataFrame.\n",
      "Try using .loc[row_indexer,col_indexer] = value instead\n",
      "\n",
      "See the caveats in the documentation: https://pandas.pydata.org/pandas-docs/stable/user_guide/indexing.html#returning-a-view-versus-a-copy\n",
      "  X_categorical[col] = X_categorical[col].astype('string')\n"
     ]
    }
   ],
   "source": [
    "categorical_cols = list(set(X.columns.values.tolist()) - set(numeric_cols))\n",
    "X_categorical = X[categorical_cols]\n",
    "for col in categorical_cols:\n",
    "    X_categorical[col] = X_categorical[col].astype('string')"
   ]
  },
  {
   "cell_type": "code",
   "execution_count": 8,
   "metadata": {
    "scrolled": true
   },
   "outputs": [
    {
     "name": "stdout",
     "output_type": "stream",
     "text": [
      "<class 'pandas.core.frame.DataFrame'>\n",
      "RangeIndex: 41188 entries, 0 to 41187\n",
      "Data columns (total 61 columns):\n",
      " #   Column                         Non-Null Count  Dtype \n",
      "---  ------                         --------------  ----- \n",
      " 0   education_illiterate           41188 non-null  string\n",
      " 1   previous_1                     41188 non-null  string\n",
      " 2   month_nov                      41188 non-null  string\n",
      " 3   job_blue-collar                41188 non-null  string\n",
      " 4   marital_married                41188 non-null  string\n",
      " 5   education_professional.course  41188 non-null  string\n",
      " 6   month_oct                      41188 non-null  string\n",
      " 7   education_basic.9y             41188 non-null  string\n",
      " 8   default_yes                    41188 non-null  string\n",
      " 9   job_technician                 41188 non-null  string\n",
      " 10  loan_unknown                   41188 non-null  string\n",
      " 11  poutcome_failure               41188 non-null  string\n",
      " 12  job_retired                    41188 non-null  string\n",
      " 13  education_basic.6y             41188 non-null  string\n",
      " 14  education_university.degree    41188 non-null  string\n",
      " 15  month_aug                      41188 non-null  string\n",
      " 16  job_entrepreneur               41188 non-null  string\n",
      " 17  default_no                     41188 non-null  string\n",
      " 18  month_sep                      41188 non-null  string\n",
      " 19  job_services                   41188 non-null  string\n",
      " 20  month_jun                      41188 non-null  string\n",
      " 21  month_jul                      41188 non-null  string\n",
      " 22  housing_yes                    41188 non-null  string\n",
      " 23  education_basic.4y             41188 non-null  string\n",
      " 24  month_mar                      41188 non-null  string\n",
      " 25  poutcome_success               41188 non-null  string\n",
      " 26  day_of_week_fri                41188 non-null  string\n",
      " 27  default_unknown                41188 non-null  string\n",
      " 28  marital_single                 41188 non-null  string\n",
      " 29  previous_6                     41188 non-null  string\n",
      " 30  housing_no                     41188 non-null  string\n",
      " 31  education_unknown              41188 non-null  string\n",
      " 32  contact_cellular               41188 non-null  string\n",
      " 33  day_of_week_thu                41188 non-null  string\n",
      " 34  loan_no                        41188 non-null  string\n",
      " 35  day_of_week_tue                41188 non-null  string\n",
      " 36  poutcome_nonexistent           41188 non-null  string\n",
      " 37  previous_5                     41188 non-null  string\n",
      " 38  previous_7                     41188 non-null  string\n",
      " 39  day_of_week_mon                41188 non-null  string\n",
      " 40  previous_0                     41188 non-null  string\n",
      " 41  previous_4                     41188 non-null  string\n",
      " 42  job_admin.                     41188 non-null  string\n",
      " 43  job_housemaid                  41188 non-null  string\n",
      " 44  month_apr                      41188 non-null  string\n",
      " 45  day_of_week_wed                41188 non-null  string\n",
      " 46  marital_divorced               41188 non-null  string\n",
      " 47  previous_2                     41188 non-null  string\n",
      " 48  job_unknown                    41188 non-null  string\n",
      " 49  housing_unknown                41188 non-null  string\n",
      " 50  job_student                    41188 non-null  string\n",
      " 51  month_dec                      41188 non-null  string\n",
      " 52  contact_telephone              41188 non-null  string\n",
      " 53  job_self-employed              41188 non-null  string\n",
      " 54  previous_3                     41188 non-null  string\n",
      " 55  marital_unknown                41188 non-null  string\n",
      " 56  job_unemployed                 41188 non-null  string\n",
      " 57  education_high.school          41188 non-null  string\n",
      " 58  job_management                 41188 non-null  string\n",
      " 59  month_may                      41188 non-null  string\n",
      " 60  loan_yes                       41188 non-null  string\n",
      "dtypes: string(61)\n",
      "memory usage: 19.2 MB\n",
      "None\n"
     ]
    }
   ],
   "source": [
    "print(X_categorical.info())"
   ]
  },
  {
   "cell_type": "markdown",
   "metadata": {},
   "source": [
    "Разделим данные на обучение и тест"
   ]
  },
  {
   "cell_type": "code",
   "execution_count": 9,
   "metadata": {},
   "outputs": [],
   "source": [
    "X_train, X_test, X_train_cat, X_test_cat, X_train_num, X_test_num, y_train, y_test = train_test_split(X, X_categorical, X_numeric, y, test_size=0.25)"
   ]
  },
  {
   "cell_type": "markdown",
   "metadata": {},
   "source": [
    "Нормализируем значения"
   ]
  },
  {
   "cell_type": "code",
   "execution_count": 10,
   "metadata": {},
   "outputs": [],
   "source": [
    "scaler = StandardScaler()\n",
    "scaler.fit(X_train_num)\n",
    "\n",
    "X_train_num_sc = scaler.transform(X_train_num)\n",
    "X_test_num_sc = scaler.transform(X_test_num)"
   ]
  },
  {
   "cell_type": "markdown",
   "metadata": {},
   "source": [
    "Соединяем воедино все значения"
   ]
  },
  {
   "cell_type": "code",
   "execution_count": 11,
   "metadata": {},
   "outputs": [],
   "source": [
    "X_train_transform = np.hstack((X_train_num_sc, X_train_cat))\n",
    "X_test_transform = np.hstack((X_test_num_sc, X_test_cat))"
   ]
  },
  {
   "cell_type": "markdown",
   "metadata": {},
   "source": [
    "# Обучение алгоритмов"
   ]
  },
  {
   "cell_type": "markdown",
   "metadata": {},
   "source": [
    "### KNN"
   ]
  },
  {
   "cell_type": "code",
   "execution_count": 11,
   "metadata": {},
   "outputs": [
    {
     "name": "stdout",
     "output_type": "stream",
     "text": [
      "              precision    recall  f1-score   support\n",
      "\n",
      "           0       0.91      0.97      0.94      9143\n",
      "           1       0.49      0.24      0.32      1154\n",
      "\n",
      "    accuracy                           0.89     10297\n",
      "   macro avg       0.70      0.60      0.63     10297\n",
      "weighted avg       0.86      0.89      0.87     10297\n",
      "\n",
      "Wall time: 1min 10s\n"
     ]
    }
   ],
   "source": [
    "%%time\n",
    "\n",
    "classifier_KNN = KNeighborsClassifier()\n",
    "classifier_KNN.fit(X_train_transform, y_train)\n",
    "y_pred_KNN = classifier_KNN.predict(X_test_transform)\n",
    "score_KNN = classification_report(y_test, y_pred_KNN)\n",
    "\n",
    "print(score_KNN)"
   ]
  },
  {
   "cell_type": "markdown",
   "metadata": {},
   "source": [
    "### Decision Tree"
   ]
  },
  {
   "cell_type": "code",
   "execution_count": 12,
   "metadata": {},
   "outputs": [
    {
     "name": "stdout",
     "output_type": "stream",
     "text": [
      "              precision    recall  f1-score   support\n",
      "\n",
      "           0       0.91      0.94      0.93      9143\n",
      "           1       0.37      0.26      0.31      1154\n",
      "\n",
      "    accuracy                           0.87     10297\n",
      "   macro avg       0.64      0.60      0.62     10297\n",
      "weighted avg       0.85      0.87      0.86     10297\n",
      "\n",
      "Wall time: 1.35 s\n"
     ]
    }
   ],
   "source": [
    "%%time\n",
    "\n",
    "classifier_DTC = tree.DecisionTreeClassifier()\n",
    "classifier_DTC.fit(X_train_transform, y_train)\n",
    "y_pred_DTC = classifier_DTC.predict(X_test_transform)\n",
    "score_DTC = classification_report(y_test, y_pred_DTC)\n",
    "\n",
    "print(score_DTC)"
   ]
  },
  {
   "cell_type": "markdown",
   "metadata": {},
   "source": [
    "### Naive Bayes"
   ]
  },
  {
   "cell_type": "code",
   "execution_count": 13,
   "metadata": {},
   "outputs": [
    {
     "name": "stdout",
     "output_type": "stream",
     "text": [
      "              precision    recall  f1-score   support\n",
      "\n",
      "           0       0.93      0.85      0.89      9143\n",
      "           1       0.30      0.52      0.38      1154\n",
      "\n",
      "    accuracy                           0.81     10297\n",
      "   macro avg       0.62      0.68      0.63     10297\n",
      "weighted avg       0.86      0.81      0.83     10297\n",
      "\n",
      "Wall time: 571 ms\n"
     ]
    }
   ],
   "source": [
    "%%time\n",
    "\n",
    "classifier_NB = naive_bayes.GaussianNB()\n",
    "classifier_NB.fit(X_train_transform, y_train)\n",
    "y_pred_NB = classifier_NB.predict(X_test_transform)\n",
    "score_NB = classification_report(y_test, y_pred_NB)\n",
    "\n",
    "print(score_NB)"
   ]
  },
  {
   "cell_type": "markdown",
   "metadata": {},
   "source": [
    "### Support Vector Machine"
   ]
  },
  {
   "cell_type": "code",
   "execution_count": 14,
   "metadata": {},
   "outputs": [
    {
     "name": "stdout",
     "output_type": "stream",
     "text": [
      "              precision    recall  f1-score   support\n",
      "\n",
      "           0       0.91      0.99      0.94      9143\n",
      "           1       0.64      0.20      0.30      1154\n",
      "\n",
      "    accuracy                           0.90     10297\n",
      "   macro avg       0.77      0.59      0.62     10297\n",
      "weighted avg       0.88      0.90      0.87     10297\n",
      "\n",
      "Wall time: 4min 42s\n"
     ]
    }
   ],
   "source": [
    "%%time\n",
    "\n",
    "classifier_CVM = svm.SVC(kernel='linear')\n",
    "classifier_CVM.fit(X_train_transform, y_train)\n",
    "y_pred_CVM = classifier_CVM.predict(X_test_transform)\n",
    "score_CVM = classification_report(y_test, y_pred_CVM)\n",
    "\n",
    "print(score_CVM)"
   ]
  },
  {
   "cell_type": "markdown",
   "metadata": {},
   "source": [
    "### Logistic Regression"
   ]
  },
  {
   "cell_type": "code",
   "execution_count": 15,
   "metadata": {
    "scrolled": true
   },
   "outputs": [
    {
     "name": "stdout",
     "output_type": "stream",
     "text": [
      "              precision    recall  f1-score   support\n",
      "\n",
      "           0       0.94      0.84      0.89      9143\n",
      "           1       0.31      0.59      0.41      1154\n",
      "\n",
      "    accuracy                           0.81     10297\n",
      "   macro avg       0.63      0.71      0.65     10297\n",
      "weighted avg       0.87      0.81      0.83     10297\n",
      "\n",
      "Wall time: 1.85 s\n"
     ]
    }
   ],
   "source": [
    "%%time\n",
    "\n",
    "classifier_LR = LogisticRegression(solver='liblinear', class_weight='balanced')\n",
    "classifier_LR.fit(X_train_transform, y_train)\n",
    "y_pred_LR = classifier_LR.predict(X_test_transform)\n",
    "score_LR = classification_report(y_test, y_pred_LR)\n",
    "\n",
    "print(score_LR)"
   ]
  },
  {
   "cell_type": "markdown",
   "metadata": {},
   "source": [
    "# Подбор гиперпараметров"
   ]
  },
  {
   "cell_type": "markdown",
   "metadata": {},
   "source": [
    "### KNN"
   ]
  },
  {
   "cell_type": "code",
   "execution_count": 16,
   "metadata": {},
   "outputs": [
    {
     "name": "stdout",
     "output_type": "stream",
     "text": [
      "Wall time: 12min 52s\n"
     ]
    },
    {
     "data": {
      "text/plain": [
       "GridSearchCV(estimator=KNeighborsClassifier(),\n",
       "             param_grid={'n_neighbors': [1, 2, 3, 4, 5]})"
      ]
     },
     "execution_count": 16,
     "metadata": {},
     "output_type": "execute_result"
    }
   ],
   "source": [
    "%%time\n",
    "\n",
    "parameters = {'n_neighbors': [1, 2, 3, 4, 5]}\n",
    "\n",
    "classifier_KNN = KNeighborsClassifier()\n",
    "\n",
    "clf_KNN = GridSearchCV(classifier_KNN, parameters)\n",
    "clf_KNN.fit(X_train_transform, y_train)"
   ]
  },
  {
   "cell_type": "code",
   "execution_count": 17,
   "metadata": {},
   "outputs": [
    {
     "name": "stdout",
     "output_type": "stream",
     "text": [
      "KNeighborsClassifier(n_neighbors=4)\n"
     ]
    }
   ],
   "source": [
    "best_estimator_KNN = clf_KNN.best_estimator_\n",
    "\n",
    "print(best_estimator_KNN)"
   ]
  },
  {
   "cell_type": "markdown",
   "metadata": {},
   "source": [
    "### Decision Tree"
   ]
  },
  {
   "cell_type": "code",
   "execution_count": 18,
   "metadata": {},
   "outputs": [
    {
     "name": "stdout",
     "output_type": "stream",
     "text": [
      "Wall time: 3min 51s\n"
     ]
    },
    {
     "data": {
      "text/plain": [
       "GridSearchCV(estimator=DecisionTreeClassifier(),\n",
       "             param_grid={'max_depth': [1, 3, 5, 10, 100],\n",
       "                         'min_samples_split': [2, 3, 5, 8]})"
      ]
     },
     "execution_count": 18,
     "metadata": {},
     "output_type": "execute_result"
    }
   ],
   "source": [
    "%%time\n",
    "\n",
    "parameters = {\n",
    "    'max_depth': [1, 3, 5, 10, 100],\n",
    "    'min_samples_split': [2, 3, 5, 8]\n",
    "}\n",
    "\n",
    "classifier_DTC = tree.DecisionTreeClassifier()\n",
    "\n",
    "clf_DTC = GridSearchCV(classifier_DTC, parameters)\n",
    "clf_DTC.fit(X_train_transform, y_train)"
   ]
  },
  {
   "cell_type": "code",
   "execution_count": 19,
   "metadata": {},
   "outputs": [
    {
     "name": "stdout",
     "output_type": "stream",
     "text": [
      "DecisionTreeClassifier(max_depth=3)\n"
     ]
    }
   ],
   "source": [
    "best_estimator_DTC = clf_DTC.best_estimator_\n",
    "\n",
    "print(best_estimator_DTC)"
   ]
  },
  {
   "cell_type": "markdown",
   "metadata": {},
   "source": [
    "### Naive Bayes"
   ]
  },
  {
   "cell_type": "code",
   "execution_count": 20,
   "metadata": {},
   "outputs": [
    {
     "name": "stdout",
     "output_type": "stream",
     "text": [
      "Wall time: 1min 48s\n"
     ]
    },
    {
     "data": {
      "text/plain": [
       "GridSearchCV(estimator=GaussianNB(),\n",
       "             param_grid={'var_smoothing': [1e-10, 1e-09, 1e-08, 1e-05, 0.01,\n",
       "                                           0.1, 1, 10, 100]})"
      ]
     },
     "execution_count": 20,
     "metadata": {},
     "output_type": "execute_result"
    }
   ],
   "source": [
    "%%time\n",
    "\n",
    "parameters = {\n",
    "    'var_smoothing': [1e-10, 1e-9, 1e-8, 1e-5, 1e-2, 1e-1, 1, 10, 100]\n",
    "}\n",
    "\n",
    "classifier_NB = naive_bayes.GaussianNB()\n",
    "\n",
    "clf_NB = GridSearchCV(classifier_NB, parameters)\n",
    "clf_NB.fit(X_train_transform, y_train)"
   ]
  },
  {
   "cell_type": "code",
   "execution_count": 21,
   "metadata": {},
   "outputs": [
    {
     "name": "stdout",
     "output_type": "stream",
     "text": [
      "GaussianNB(var_smoothing=10)\n"
     ]
    }
   ],
   "source": [
    "best_estimator_NB = clf_NB.best_estimator_\n",
    "\n",
    "print(best_estimator_NB)"
   ]
  },
  {
   "cell_type": "markdown",
   "metadata": {},
   "source": [
    "### Support Vector Machine"
   ]
  },
  {
   "cell_type": "code",
   "execution_count": 22,
   "metadata": {},
   "outputs": [
    {
     "name": "stdout",
     "output_type": "stream",
     "text": [
      "Wall time: 29min 20s\n"
     ]
    },
    {
     "data": {
      "text/plain": [
       "GridSearchCV(cv=3, estimator=SVC(), param_grid={'kernel': ['linear', 'rbf']})"
      ]
     },
     "execution_count": 22,
     "metadata": {},
     "output_type": "execute_result"
    }
   ],
   "source": [
    "%%time\n",
    "\n",
    "parameters = {\n",
    "    'kernel': ['linear', 'rbf']\n",
    "}\n",
    "\n",
    "classifier_CVM = svm.SVC()\n",
    "\n",
    "clf_CVM = GridSearchCV(classifier_CVM, parameters, cv=3)\n",
    "clf_CVM.fit(X_train_transform, y_train)"
   ]
  },
  {
   "cell_type": "code",
   "execution_count": 23,
   "metadata": {},
   "outputs": [
    {
     "name": "stdout",
     "output_type": "stream",
     "text": [
      "SVC(kernel='linear')\n"
     ]
    }
   ],
   "source": [
    "best_estimator_CVM = clf_CVM.best_estimator_\n",
    "\n",
    "print(best_estimator_CVM)"
   ]
  },
  {
   "cell_type": "markdown",
   "metadata": {},
   "source": [
    "### Logistic Regression"
   ]
  },
  {
   "cell_type": "code",
   "execution_count": 24,
   "metadata": {
    "scrolled": true
   },
   "outputs": [
    {
     "name": "stderr",
     "output_type": "stream",
     "text": [
      "D:\\ProgramData\\Anaconda3\\lib\\site-packages\\sklearn\\model_selection\\_validation.py:548: FitFailedWarning: Estimator fit failed. The score on this train-test partition for these parameters will be set to nan. Details: \n",
      "Traceback (most recent call last):\n",
      "  File \"D:\\ProgramData\\Anaconda3\\lib\\site-packages\\sklearn\\model_selection\\_validation.py\", line 531, in _fit_and_score\n",
      "    estimator.fit(X_train, y_train, **fit_params)\n",
      "  File \"D:\\ProgramData\\Anaconda3\\lib\\site-packages\\sklearn\\linear_model\\_logistic.py\", line 1304, in fit\n",
      "    solver = _check_solver(self.solver, self.penalty, self.dual)\n",
      "  File \"D:\\ProgramData\\Anaconda3\\lib\\site-packages\\sklearn\\linear_model\\_logistic.py\", line 442, in _check_solver\n",
      "    raise ValueError(\"Solver %s supports only 'l2' or 'none' penalties, \"\n",
      "ValueError: Solver lbfgs supports only 'l2' or 'none' penalties, got l1 penalty.\n",
      "\n",
      "  warnings.warn(\"Estimator fit failed. The score on this train-test\"\n",
      "D:\\ProgramData\\Anaconda3\\lib\\site-packages\\sklearn\\model_selection\\_validation.py:548: FitFailedWarning: Estimator fit failed. The score on this train-test partition for these parameters will be set to nan. Details: \n",
      "Traceback (most recent call last):\n",
      "  File \"D:\\ProgramData\\Anaconda3\\lib\\site-packages\\sklearn\\model_selection\\_validation.py\", line 531, in _fit_and_score\n",
      "    estimator.fit(X_train, y_train, **fit_params)\n",
      "  File \"D:\\ProgramData\\Anaconda3\\lib\\site-packages\\sklearn\\linear_model\\_logistic.py\", line 1304, in fit\n",
      "    solver = _check_solver(self.solver, self.penalty, self.dual)\n",
      "  File \"D:\\ProgramData\\Anaconda3\\lib\\site-packages\\sklearn\\linear_model\\_logistic.py\", line 442, in _check_solver\n",
      "    raise ValueError(\"Solver %s supports only 'l2' or 'none' penalties, \"\n",
      "ValueError: Solver newton-cg supports only 'l2' or 'none' penalties, got l1 penalty.\n",
      "\n",
      "  warnings.warn(\"Estimator fit failed. The score on this train-test\"\n"
     ]
    },
    {
     "name": "stdout",
     "output_type": "stream",
     "text": [
      "Wall time: 42.5 s\n"
     ]
    },
    {
     "data": {
      "text/plain": [
       "GridSearchCV(cv=3, estimator=LogisticRegression(),\n",
       "             param_grid={'class_weight': ['balanced'], 'penalty': ['l1', 'l2'],\n",
       "                         'solver': ['liblinear', 'lbfgs', 'newton-cg']})"
      ]
     },
     "execution_count": 24,
     "metadata": {},
     "output_type": "execute_result"
    }
   ],
   "source": [
    "%%time\n",
    "\n",
    "parameters = {\n",
    "    'class_weight': ['balanced'],\n",
    "    'solver': ['liblinear', 'lbfgs', 'newton-cg'],\n",
    "    'penalty': ['l1', 'l2'],\n",
    "}\n",
    "\n",
    "classifier_LR = LogisticRegression()\n",
    "\n",
    "clf_LR = GridSearchCV(classifier_LR, parameters, cv=3)\n",
    "clf_LR.fit(X_train_transform, y_train)\n"
   ]
  },
  {
   "cell_type": "code",
   "execution_count": 25,
   "metadata": {},
   "outputs": [
    {
     "name": "stdout",
     "output_type": "stream",
     "text": [
      "LogisticRegression(class_weight='balanced', penalty='l1', solver='liblinear')\n"
     ]
    }
   ],
   "source": [
    "best_estimator_LR = clf_LR.best_estimator_\n",
    "\n",
    "print(best_estimator_LR)"
   ]
  }
 ],
 "metadata": {
  "kernelspec": {
   "display_name": "Python 3",
   "language": "python",
   "name": "python3"
  },
  "language_info": {
   "codemirror_mode": {
    "name": "ipython",
    "version": 3
   },
   "file_extension": ".py",
   "mimetype": "text/x-python",
   "name": "python",
   "nbconvert_exporter": "python",
   "pygments_lexer": "ipython3",
   "version": "3.8.5"
  }
 },
 "nbformat": 4,
 "nbformat_minor": 4
}
