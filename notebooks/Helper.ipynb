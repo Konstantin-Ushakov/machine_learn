{
 "cells": [
  {
   "cell_type": "code",
   "execution_count": 1,
   "id": "4194e2bf",
   "metadata": {},
   "outputs": [],
   "source": [
    "import pandas as pd\n",
    "import numpy as np\n",
    "import seaborn as sns"
   ]
  },
  {
   "cell_type": "code",
   "execution_count": 2,
   "id": "02c09c01",
   "metadata": {},
   "outputs": [],
   "source": [
    "from matplotlib import pyplot as plt\n",
    "%matplotlib inline"
   ]
  },
  {
   "cell_type": "markdown",
   "id": "1ba2831c",
   "metadata": {},
   "source": [
    "# Предобработка данных"
   ]
  },
  {
   "cell_type": "code",
   "execution_count": 3,
   "id": "6a4d363a",
   "metadata": {},
   "outputs": [],
   "source": [
    "df = pd.DataFrame(data = [[1, 2.43, None, None, 'Yes'], [2, 1.3, None, 'ABC', 'No'], \n",
    "                          [2, 2.4, '2011-11-11 11:34:31', None, 'Yes'], \n",
    "                          [None, None, None, 'ABC', None]], \n",
    "                  columns=['numer', 'fl', 'datatime', 'str', 'bin'])\n",
    "df.to_csv('example.csv', index=False)"
   ]
  },
  {
   "cell_type": "markdown",
   "id": "4128a4a7",
   "metadata": {},
   "source": [
    "## Общие методы"
   ]
  },
  {
   "cell_type": "markdown",
   "id": "71072b62",
   "metadata": {},
   "source": [
    "Загрузка с датами"
   ]
  },
  {
   "cell_type": "code",
   "execution_count": 4,
   "id": "d9018fc6",
   "metadata": {
    "scrolled": true
   },
   "outputs": [
    {
     "name": "stdout",
     "output_type": "stream",
     "text": [
      "<class 'pandas.core.frame.DataFrame'>\n",
      "RangeIndex: 4 entries, 0 to 3\n",
      "Data columns (total 5 columns):\n",
      " #   Column    Non-Null Count  Dtype         \n",
      "---  ------    --------------  -----         \n",
      " 0   numer     3 non-null      float64       \n",
      " 1   fl        3 non-null      float64       \n",
      " 2   datatime  1 non-null      datetime64[ns]\n",
      " 3   str       2 non-null      object        \n",
      " 4   bin       3 non-null      object        \n",
      "dtypes: datetime64[ns](1), float64(2), object(2)\n",
      "memory usage: 288.0+ bytes\n"
     ]
    }
   ],
   "source": [
    "df = pd.read_csv('example.csv', parse_dates=['datatime'])\n",
    "df.info()"
   ]
  },
  {
   "cell_type": "code",
   "execution_count": 5,
   "id": "9ed02616",
   "metadata": {},
   "outputs": [
    {
     "data": {
      "text/html": [
       "<div>\n",
       "<style scoped>\n",
       "    .dataframe tbody tr th:only-of-type {\n",
       "        vertical-align: middle;\n",
       "    }\n",
       "\n",
       "    .dataframe tbody tr th {\n",
       "        vertical-align: top;\n",
       "    }\n",
       "\n",
       "    .dataframe thead th {\n",
       "        text-align: right;\n",
       "    }\n",
       "</style>\n",
       "<table border=\"1\" class=\"dataframe\">\n",
       "  <thead>\n",
       "    <tr style=\"text-align: right;\">\n",
       "      <th></th>\n",
       "      <th>numer</th>\n",
       "      <th>fl</th>\n",
       "      <th>datatime</th>\n",
       "      <th>str</th>\n",
       "      <th>bin</th>\n",
       "    </tr>\n",
       "  </thead>\n",
       "  <tbody>\n",
       "    <tr>\n",
       "      <th>0</th>\n",
       "      <td>1.0</td>\n",
       "      <td>2.43</td>\n",
       "      <td>NaT</td>\n",
       "      <td>NaN</td>\n",
       "      <td>Yes</td>\n",
       "    </tr>\n",
       "    <tr>\n",
       "      <th>1</th>\n",
       "      <td>2.0</td>\n",
       "      <td>1.30</td>\n",
       "      <td>NaT</td>\n",
       "      <td>ABC</td>\n",
       "      <td>No</td>\n",
       "    </tr>\n",
       "    <tr>\n",
       "      <th>2</th>\n",
       "      <td>2.0</td>\n",
       "      <td>2.40</td>\n",
       "      <td>2011-11-11 11:34:31</td>\n",
       "      <td>NaN</td>\n",
       "      <td>Yes</td>\n",
       "    </tr>\n",
       "    <tr>\n",
       "      <th>3</th>\n",
       "      <td>NaN</td>\n",
       "      <td>NaN</td>\n",
       "      <td>NaT</td>\n",
       "      <td>ABC</td>\n",
       "      <td>NaN</td>\n",
       "    </tr>\n",
       "  </tbody>\n",
       "</table>\n",
       "</div>"
      ],
      "text/plain": [
       "   numer    fl            datatime  str  bin\n",
       "0    1.0  2.43                 NaT  NaN  Yes\n",
       "1    2.0  1.30                 NaT  ABC   No\n",
       "2    2.0  2.40 2011-11-11 11:34:31  NaN  Yes\n",
       "3    NaN   NaN                 NaT  ABC  NaN"
      ]
     },
     "execution_count": 5,
     "metadata": {},
     "output_type": "execute_result"
    }
   ],
   "source": [
    "df"
   ]
  },
  {
   "cell_type": "markdown",
   "id": "79a77552",
   "metadata": {},
   "source": [
    "Описание данных"
   ]
  },
  {
   "cell_type": "code",
   "execution_count": 6,
   "id": "f8f83671",
   "metadata": {},
   "outputs": [
    {
     "data": {
      "text/html": [
       "<div>\n",
       "<style scoped>\n",
       "    .dataframe tbody tr th:only-of-type {\n",
       "        vertical-align: middle;\n",
       "    }\n",
       "\n",
       "    .dataframe tbody tr th {\n",
       "        vertical-align: top;\n",
       "    }\n",
       "\n",
       "    .dataframe thead th {\n",
       "        text-align: right;\n",
       "    }\n",
       "</style>\n",
       "<table border=\"1\" class=\"dataframe\">\n",
       "  <thead>\n",
       "    <tr style=\"text-align: right;\">\n",
       "      <th></th>\n",
       "      <th>numer</th>\n",
       "      <th>fl</th>\n",
       "    </tr>\n",
       "  </thead>\n",
       "  <tbody>\n",
       "    <tr>\n",
       "      <th>count</th>\n",
       "      <td>3.000000</td>\n",
       "      <td>3.000000</td>\n",
       "    </tr>\n",
       "    <tr>\n",
       "      <th>mean</th>\n",
       "      <td>1.666667</td>\n",
       "      <td>2.043333</td>\n",
       "    </tr>\n",
       "    <tr>\n",
       "      <th>std</th>\n",
       "      <td>0.577350</td>\n",
       "      <td>0.643920</td>\n",
       "    </tr>\n",
       "    <tr>\n",
       "      <th>min</th>\n",
       "      <td>1.000000</td>\n",
       "      <td>1.300000</td>\n",
       "    </tr>\n",
       "    <tr>\n",
       "      <th>25%</th>\n",
       "      <td>1.500000</td>\n",
       "      <td>1.850000</td>\n",
       "    </tr>\n",
       "    <tr>\n",
       "      <th>50%</th>\n",
       "      <td>2.000000</td>\n",
       "      <td>2.400000</td>\n",
       "    </tr>\n",
       "    <tr>\n",
       "      <th>75%</th>\n",
       "      <td>2.000000</td>\n",
       "      <td>2.415000</td>\n",
       "    </tr>\n",
       "    <tr>\n",
       "      <th>max</th>\n",
       "      <td>2.000000</td>\n",
       "      <td>2.430000</td>\n",
       "    </tr>\n",
       "  </tbody>\n",
       "</table>\n",
       "</div>"
      ],
      "text/plain": [
       "          numer        fl\n",
       "count  3.000000  3.000000\n",
       "mean   1.666667  2.043333\n",
       "std    0.577350  0.643920\n",
       "min    1.000000  1.300000\n",
       "25%    1.500000  1.850000\n",
       "50%    2.000000  2.400000\n",
       "75%    2.000000  2.415000\n",
       "max    2.000000  2.430000"
      ]
     },
     "execution_count": 6,
     "metadata": {},
     "output_type": "execute_result"
    }
   ],
   "source": [
    "df.describe()"
   ]
  },
  {
   "cell_type": "markdown",
   "id": "a10e989d",
   "metadata": {},
   "source": [
    "Изменение типа колонок"
   ]
  },
  {
   "cell_type": "code",
   "execution_count": 7,
   "id": "cc7f147b",
   "metadata": {},
   "outputs": [],
   "source": [
    "def prepare_types(df, columns=[], type_cols='string'):\n",
    "    df[columns] = df[columns].astype(type_cols)\n",
    "    return df"
   ]
  },
  {
   "cell_type": "markdown",
   "id": "6a6dba2c",
   "metadata": {},
   "source": [
    "Заполнение колонок по правилу"
   ]
  },
  {
   "cell_type": "code",
   "execution_count": 8,
   "id": "5aae735e",
   "metadata": {},
   "outputs": [],
   "source": [
    "def fillna(df, columns=[], type_fill='mean', fill_val=None):\n",
    "    if fill_val is None:\n",
    "        if type_fill == 'mean':\n",
    "            fill_val = df[columns].dropna().mean()\n",
    "        elif type_fill == 'median':\n",
    "            fill_val = df[columns].dropna().median()\n",
    "        elif type_fill == 'mode':\n",
    "            fill_val = df[columns].dropna().mode()\n",
    "        else:\n",
    "            fill_val = df[columns].dropna().mode()\n",
    "    for col in columns:\n",
    "        df[col] = df[col].fillna(fill_val[col])\n",
    "    return df"
   ]
  },
  {
   "cell_type": "markdown",
   "id": "6f44766d",
   "metadata": {},
   "source": [
    "Поиск наиболее часто встречающегося значения"
   ]
  },
  {
   "cell_type": "code",
   "execution_count": 9,
   "id": "7b2625e8",
   "metadata": {},
   "outputs": [],
   "source": [
    "def str_mode(col):\n",
    "    vals, counts = np.unique(col.dropna(), return_counts=True)\n",
    "    return vals[np.where(counts == np.max(counts))][0]"
   ]
  },
  {
   "cell_type": "markdown",
   "id": "664e82e4",
   "metadata": {},
   "source": [
    "## Числовые значения"
   ]
  },
  {
   "cell_type": "markdown",
   "id": "bcd2e9eb",
   "metadata": {},
   "source": [
    "Заполнение"
   ]
  },
  {
   "cell_type": "code",
   "execution_count": 10,
   "id": "2f2c5b0a",
   "metadata": {},
   "outputs": [
    {
     "data": {
      "text/html": [
       "<div>\n",
       "<style scoped>\n",
       "    .dataframe tbody tr th:only-of-type {\n",
       "        vertical-align: middle;\n",
       "    }\n",
       "\n",
       "    .dataframe tbody tr th {\n",
       "        vertical-align: top;\n",
       "    }\n",
       "\n",
       "    .dataframe thead th {\n",
       "        text-align: right;\n",
       "    }\n",
       "</style>\n",
       "<table border=\"1\" class=\"dataframe\">\n",
       "  <thead>\n",
       "    <tr style=\"text-align: right;\">\n",
       "      <th></th>\n",
       "      <th>numer</th>\n",
       "      <th>fl</th>\n",
       "      <th>datatime</th>\n",
       "      <th>str</th>\n",
       "      <th>bin</th>\n",
       "    </tr>\n",
       "  </thead>\n",
       "  <tbody>\n",
       "    <tr>\n",
       "      <th>0</th>\n",
       "      <td>1.000000</td>\n",
       "      <td>2.430000</td>\n",
       "      <td>NaT</td>\n",
       "      <td>NaN</td>\n",
       "      <td>Yes</td>\n",
       "    </tr>\n",
       "    <tr>\n",
       "      <th>1</th>\n",
       "      <td>2.000000</td>\n",
       "      <td>1.300000</td>\n",
       "      <td>NaT</td>\n",
       "      <td>ABC</td>\n",
       "      <td>No</td>\n",
       "    </tr>\n",
       "    <tr>\n",
       "      <th>2</th>\n",
       "      <td>2.000000</td>\n",
       "      <td>2.400000</td>\n",
       "      <td>2011-11-11 11:34:31</td>\n",
       "      <td>NaN</td>\n",
       "      <td>Yes</td>\n",
       "    </tr>\n",
       "    <tr>\n",
       "      <th>3</th>\n",
       "      <td>1.666667</td>\n",
       "      <td>2.043333</td>\n",
       "      <td>NaT</td>\n",
       "      <td>ABC</td>\n",
       "      <td>NaN</td>\n",
       "    </tr>\n",
       "  </tbody>\n",
       "</table>\n",
       "</div>"
      ],
      "text/plain": [
       "      numer        fl            datatime  str  bin\n",
       "0  1.000000  2.430000                 NaT  NaN  Yes\n",
       "1  2.000000  1.300000                 NaT  ABC   No\n",
       "2  2.000000  2.400000 2011-11-11 11:34:31  NaN  Yes\n",
       "3  1.666667  2.043333                 NaT  ABC  NaN"
      ]
     },
     "execution_count": 10,
     "metadata": {},
     "output_type": "execute_result"
    }
   ],
   "source": [
    "numeric_cols = ['numer', 'fl']\n",
    "df = fillna(df, columns=numeric_cols)\n",
    "df"
   ]
  },
  {
   "cell_type": "markdown",
   "id": "037c4d6e",
   "metadata": {},
   "source": [
    "Корелляция. `numeric_cols` - имена столбцов"
   ]
  },
  {
   "cell_type": "code",
   "execution_count": 11,
   "id": "2648e09f",
   "metadata": {
    "scrolled": true
   },
   "outputs": [
    {
     "data": {
      "text/html": [
       "<div>\n",
       "<style scoped>\n",
       "    .dataframe tbody tr th:only-of-type {\n",
       "        vertical-align: middle;\n",
       "    }\n",
       "\n",
       "    .dataframe tbody tr th {\n",
       "        vertical-align: top;\n",
       "    }\n",
       "\n",
       "    .dataframe thead th {\n",
       "        text-align: right;\n",
       "    }\n",
       "</style>\n",
       "<table border=\"1\" class=\"dataframe\">\n",
       "  <thead>\n",
       "    <tr style=\"text-align: right;\">\n",
       "      <th></th>\n",
       "      <th>numer</th>\n",
       "      <th>fl</th>\n",
       "    </tr>\n",
       "  </thead>\n",
       "  <tbody>\n",
       "    <tr>\n",
       "      <th>numer</th>\n",
       "      <td>1.000000</td>\n",
       "      <td>-0.520038</td>\n",
       "    </tr>\n",
       "    <tr>\n",
       "      <th>fl</th>\n",
       "      <td>-0.520038</td>\n",
       "      <td>1.000000</td>\n",
       "    </tr>\n",
       "  </tbody>\n",
       "</table>\n",
       "</div>"
      ],
      "text/plain": [
       "          numer        fl\n",
       "numer  1.000000 -0.520038\n",
       "fl    -0.520038  1.000000"
      ]
     },
     "execution_count": 11,
     "metadata": {},
     "output_type": "execute_result"
    }
   ],
   "source": [
    "df[numeric_cols].corr()"
   ]
  },
  {
   "cell_type": "code",
   "execution_count": 12,
   "id": "6b52c2a4",
   "metadata": {
    "scrolled": false
   },
   "outputs": [
    {
     "data": {
      "text/plain": [
       "<AxesSubplot:>"
      ]
     },
     "execution_count": 12,
     "metadata": {},
     "output_type": "execute_result"
    },
    {
     "data": {
      "image/png": "[encoded data removed]",
      "text/plain": [
       "<Figure size 432x288 with 2 Axes>"
      ]
     },
     "metadata": {
      "needs_background": "light"
     },
     "output_type": "display_data"
    }
   ],
   "source": [
    "sns.heatmap(df[numeric_cols].corr())"
   ]
  },
  {
   "cell_type": "markdown",
   "id": "fc2832f1",
   "metadata": {},
   "source": [
    "Избавляемся от пары признаков с корелляцией corr > 0.9  "
   ]
  },
  {
   "cell_type": "code",
   "execution_count": 13,
   "id": "d1864aac",
   "metadata": {},
   "outputs": [
    {
     "data": {
      "text/plain": [
       "numer    1.000000\n",
       "fl      -0.520038\n",
       "Name: numer, dtype: float64"
      ]
     },
     "execution_count": 13,
     "metadata": {},
     "output_type": "execute_result"
    }
   ],
   "source": [
    "target = 'numer' # Целевая переменная\n",
    "df[numeric_cols].corr()[target].sort_values(ascending=False)"
   ]
  },
  {
   "cell_type": "markdown",
   "id": "e5dd2b52",
   "metadata": {},
   "source": [
    "Избавляемся от признаков с корелляцией с целевой переменной |corr| < 0.05"
   ]
  },
  {
   "cell_type": "markdown",
   "id": "9c405785",
   "metadata": {},
   "source": [
    "## Дата-время"
   ]
  },
  {
   "cell_type": "markdown",
   "id": "e58ffa0c",
   "metadata": {},
   "source": [
    "Признак `DateTime` - признак даты / времени"
   ]
  },
  {
   "cell_type": "code",
   "execution_count": 14,
   "id": "8bf55f4f",
   "metadata": {},
   "outputs": [],
   "source": [
    "datetime_cols = ['datatime']"
   ]
  },
  {
   "cell_type": "markdown",
   "id": "2b4626e7",
   "metadata": {},
   "source": [
    "Напишем функцию, подготавливающую данные. Самое часто используемое время - в секундах. Переводим время в секунды для обучения"
   ]
  },
  {
   "cell_type": "code",
   "execution_count": 15,
   "id": "ca1e7ce1",
   "metadata": {},
   "outputs": [],
   "source": [
    "def prepared_datetime(df, columns=[], type_cols='int64', to='s'):\n",
    "    # We start with new day so we translate to seconds\n",
    "    if to.lower() in ['s', 'sec', 'seconds']:\n",
    "        translate_time = 1e9\n",
    "    elif to.lower() in ['m', 'min', 'minutes']:\n",
    "        translate_time = 6e10\n",
    "    elif to.lower() in ['h', 'hour', 'hours']:\n",
    "        translate_time = 3.6e12\n",
    "    else:\n",
    "        translate_time = 1\n",
    "    df[columns] = df[columns].astype(type_cols) // translate_time\n",
    "    df[columns] = df[columns].astype(type_cols)\n",
    "    return df"
   ]
  },
  {
   "cell_type": "markdown",
   "id": "d7dc703c",
   "metadata": {},
   "source": [
    "Заполняем пропуски часто встречающимися значениями, преобразуем дату и время в секунды"
   ]
  },
  {
   "cell_type": "code",
   "execution_count": 16,
   "id": "5ecdfc73",
   "metadata": {},
   "outputs": [],
   "source": [
    "mode_datetime = df[datetime_cols].apply(str_mode)"
   ]
  },
  {
   "cell_type": "code",
   "execution_count": 17,
   "id": "d36b5ff5",
   "metadata": {
    "scrolled": true
   },
   "outputs": [
    {
     "data": {
      "text/html": [
       "<div>\n",
       "<style scoped>\n",
       "    .dataframe tbody tr th:only-of-type {\n",
       "        vertical-align: middle;\n",
       "    }\n",
       "\n",
       "    .dataframe tbody tr th {\n",
       "        vertical-align: top;\n",
       "    }\n",
       "\n",
       "    .dataframe thead th {\n",
       "        text-align: right;\n",
       "    }\n",
       "</style>\n",
       "<table border=\"1\" class=\"dataframe\">\n",
       "  <thead>\n",
       "    <tr style=\"text-align: right;\">\n",
       "      <th></th>\n",
       "      <th>datatime</th>\n",
       "    </tr>\n",
       "  </thead>\n",
       "  <tbody>\n",
       "    <tr>\n",
       "      <th>0</th>\n",
       "      <td>1321011271</td>\n",
       "    </tr>\n",
       "    <tr>\n",
       "      <th>1</th>\n",
       "      <td>1321011271</td>\n",
       "    </tr>\n",
       "    <tr>\n",
       "      <th>2</th>\n",
       "      <td>1321011271</td>\n",
       "    </tr>\n",
       "    <tr>\n",
       "      <th>3</th>\n",
       "      <td>1321011271</td>\n",
       "    </tr>\n",
       "  </tbody>\n",
       "</table>\n",
       "</div>"
      ],
      "text/plain": [
       "     datatime\n",
       "0  1321011271\n",
       "1  1321011271\n",
       "2  1321011271\n",
       "3  1321011271"
      ]
     },
     "execution_count": 17,
     "metadata": {},
     "output_type": "execute_result"
    }
   ],
   "source": [
    "df = fillna(df, datetime_cols, fill_val=mode_datetime)\n",
    "df = prepared_datetime(df, columns=datetime_cols)\n",
    "df[datetime_cols]"
   ]
  },
  {
   "cell_type": "markdown",
   "id": "cb489a1c",
   "metadata": {},
   "source": [
    "С достаточно хорошей точностью можно заполнить средним по столбцу"
   ]
  },
  {
   "cell_type": "markdown",
   "id": "68426841",
   "metadata": {},
   "source": [
    "## Строки"
   ]
  },
  {
   "cell_type": "code",
   "execution_count": 18,
   "id": "d5052df2",
   "metadata": {
    "scrolled": true
   },
   "outputs": [],
   "source": [
    "str_vals=['str']"
   ]
  },
  {
   "cell_type": "markdown",
   "id": "6825d28d",
   "metadata": {},
   "source": [
    "Заполнение часто встречающимися значениями"
   ]
  },
  {
   "cell_type": "code",
   "execution_count": 19,
   "id": "43b69730",
   "metadata": {},
   "outputs": [],
   "source": [
    "mode_str = df[str_vals].apply(str_mode)\n",
    "df = fillna(df, str_vals, fill_val=mode_str)"
   ]
  },
  {
   "cell_type": "markdown",
   "id": "2f0bc745",
   "metadata": {},
   "source": [
    "Перекодировка"
   ]
  },
  {
   "cell_type": "code",
   "execution_count": 20,
   "id": "53bc5870",
   "metadata": {},
   "outputs": [],
   "source": [
    "df = pd.get_dummies(df, columns=str_vals)"
   ]
  },
  {
   "cell_type": "markdown",
   "id": "8f3fa718",
   "metadata": {},
   "source": [
    "## Бинарные значения"
   ]
  },
  {
   "cell_type": "code",
   "execution_count": 21,
   "id": "226101bb",
   "metadata": {
    "scrolled": true
   },
   "outputs": [],
   "source": [
    "bin_cols=['bin']"
   ]
  },
  {
   "cell_type": "markdown",
   "id": "47519aa8",
   "metadata": {},
   "source": [
    "Заполнение часто встречающимися значениями"
   ]
  },
  {
   "cell_type": "code",
   "execution_count": 22,
   "id": "b1ec1c8e",
   "metadata": {},
   "outputs": [],
   "source": [
    "mode_str = df[bin_cols].apply(str_mode)\n",
    "df = fillna(df, bin_cols, fill_val=mode_str)"
   ]
  },
  {
   "cell_type": "markdown",
   "id": "36d964c0",
   "metadata": {},
   "source": [
    "Перекодировка"
   ]
  },
  {
   "cell_type": "code",
   "execution_count": 23,
   "id": "02550a23",
   "metadata": {},
   "outputs": [
    {
     "data": {
      "text/plain": [
       "array(['No', 'Yes'], dtype=object)"
      ]
     },
     "execution_count": 23,
     "metadata": {},
     "output_type": "execute_result"
    }
   ],
   "source": [
    "values = np.unique(df[bin_cols])\n",
    "values"
   ]
  },
  {
   "cell_type": "code",
   "execution_count": 24,
   "id": "862d92c5",
   "metadata": {},
   "outputs": [],
   "source": [
    "mapping = {'Yes': 1, 'No': 2}\n",
    "for col in bin_cols:\n",
    "    df[col] = df[col].map(mapping)"
   ]
  },
  {
   "cell_type": "markdown",
   "id": "58d15a17",
   "metadata": {},
   "source": [
    "# Резюме"
   ]
  },
  {
   "cell_type": "code",
   "execution_count": 25,
   "id": "ef774ce8",
   "metadata": {
    "scrolled": true
   },
   "outputs": [
    {
     "data": {
      "text/plain": [
       "numer       0\n",
       "fl          0\n",
       "datatime    0\n",
       "bin         0\n",
       "str_ABC     0\n",
       "dtype: int64"
      ]
     },
     "execution_count": 25,
     "metadata": {},
     "output_type": "execute_result"
    }
   ],
   "source": [
    "df.isna().sum()"
   ]
  },
  {
   "cell_type": "code",
   "execution_count": 26,
   "id": "81b1e119",
   "metadata": {},
   "outputs": [
    {
     "name": "stdout",
     "output_type": "stream",
     "text": [
      "<class 'pandas.core.frame.DataFrame'>\n",
      "RangeIndex: 4 entries, 0 to 3\n",
      "Data columns (total 5 columns):\n",
      " #   Column    Non-Null Count  Dtype  \n",
      "---  ------    --------------  -----  \n",
      " 0   numer     4 non-null      float64\n",
      " 1   fl        4 non-null      float64\n",
      " 2   datatime  4 non-null      int64  \n",
      " 3   bin       4 non-null      int64  \n",
      " 4   str_ABC   4 non-null      uint8  \n",
      "dtypes: float64(2), int64(2), uint8(1)\n",
      "memory usage: 260.0 bytes\n"
     ]
    }
   ],
   "source": [
    "df.info()"
   ]
  },
  {
   "cell_type": "code",
   "execution_count": 27,
   "id": "16b7ddc5",
   "metadata": {
    "scrolled": true
   },
   "outputs": [
    {
     "data": {
      "text/html": [
       "<div>\n",
       "<style scoped>\n",
       "    .dataframe tbody tr th:only-of-type {\n",
       "        vertical-align: middle;\n",
       "    }\n",
       "\n",
       "    .dataframe tbody tr th {\n",
       "        vertical-align: top;\n",
       "    }\n",
       "\n",
       "    .dataframe thead th {\n",
       "        text-align: right;\n",
       "    }\n",
       "</style>\n",
       "<table border=\"1\" class=\"dataframe\">\n",
       "  <thead>\n",
       "    <tr style=\"text-align: right;\">\n",
       "      <th></th>\n",
       "      <th>numer</th>\n",
       "      <th>fl</th>\n",
       "      <th>datatime</th>\n",
       "      <th>bin</th>\n",
       "      <th>str_ABC</th>\n",
       "    </tr>\n",
       "  </thead>\n",
       "  <tbody>\n",
       "    <tr>\n",
       "      <th>0</th>\n",
       "      <td>1.000000</td>\n",
       "      <td>2.430000</td>\n",
       "      <td>1321011271</td>\n",
       "      <td>1</td>\n",
       "      <td>1</td>\n",
       "    </tr>\n",
       "    <tr>\n",
       "      <th>1</th>\n",
       "      <td>2.000000</td>\n",
       "      <td>1.300000</td>\n",
       "      <td>1321011271</td>\n",
       "      <td>2</td>\n",
       "      <td>1</td>\n",
       "    </tr>\n",
       "    <tr>\n",
       "      <th>2</th>\n",
       "      <td>2.000000</td>\n",
       "      <td>2.400000</td>\n",
       "      <td>1321011271</td>\n",
       "      <td>1</td>\n",
       "      <td>1</td>\n",
       "    </tr>\n",
       "    <tr>\n",
       "      <th>3</th>\n",
       "      <td>1.666667</td>\n",
       "      <td>2.043333</td>\n",
       "      <td>1321011271</td>\n",
       "      <td>1</td>\n",
       "      <td>1</td>\n",
       "    </tr>\n",
       "  </tbody>\n",
       "</table>\n",
       "</div>"
      ],
      "text/plain": [
       "      numer        fl    datatime  bin  str_ABC\n",
       "0  1.000000  2.430000  1321011271    1        1\n",
       "1  2.000000  1.300000  1321011271    2        1\n",
       "2  2.000000  2.400000  1321011271    1        1\n",
       "3  1.666667  2.043333  1321011271    1        1"
      ]
     },
     "execution_count": 27,
     "metadata": {},
     "output_type": "execute_result"
    }
   ],
   "source": [
    "df.head()"
   ]
  },
  {
   "cell_type": "markdown",
   "id": "447bef1a",
   "metadata": {},
   "source": [
    "# Все-в-одном"
   ]
  },
  {
   "cell_type": "code",
   "execution_count": 28,
   "id": "db624581",
   "metadata": {},
   "outputs": [],
   "source": [
    "def later_prepare(df):\n",
    "    # TODO later\n",
    "    return df"
   ]
  },
  {
   "cell_type": "code",
   "execution_count": 29,
   "id": "7d82722c",
   "metadata": {},
   "outputs": [],
   "source": [
    "def prepare_dataset(filename='example.csv', \n",
    "                    parse_dates=['datatime'], \n",
    "                    numeric_cols = ['numer', 'fl'], \n",
    "                    datetime_cols = ['datatime'],\n",
    "                    bin_cols=['bin'], \n",
    "                    str_cols=['str'],\n",
    "                    mapping = {'Yes': 1, 'No': 0}):\n",
    "    df = pd.read_csv(filename, parse_dates=parse_dates)\n",
    "    # Numeric values\n",
    "    # fill\n",
    "    df = fillna(df, columns=numeric_cols)\n",
    "    # Datetime values\n",
    "    mode_datetime = df[datetime_cols].apply(str_mode)\n",
    "    df = fillna(df, datetime_cols, fill_val=mode_datetime)\n",
    "    df = prepared_datetime(df, columns=datetime_cols)\n",
    "    # String values\n",
    "    mode_str = df[str_vals].apply(str_mode)\n",
    "    df = fillna(df, str_vals, fill_val=mode_str)\n",
    "    # One-hot encoding\n",
    "    df = pd.get_dummies(df, columns=str_vals)\n",
    "    # Binary values\n",
    "    # fill\n",
    "    mode_bin = df[bin_cols].apply(str_mode)\n",
    "    df = fillna(df, bin_cols, fill_val=mode_bin)\n",
    "    # mapping\n",
    "    mapping = {'Yes': 1, 'No': 2}\n",
    "    for col in bin_cols:\n",
    "        df[col] = df[col].map(mapping)\n",
    "    return df"
   ]
  },
  {
   "cell_type": "code",
   "execution_count": 30,
   "id": "4e7c6566",
   "metadata": {},
   "outputs": [],
   "source": [
    "df = prepare_dataset()"
   ]
  },
  {
   "cell_type": "markdown",
   "id": "c3f3cd7f",
   "metadata": {},
   "source": [
    "# Сохранение датасета"
   ]
  },
  {
   "cell_type": "code",
   "execution_count": 31,
   "id": "0d2a87fa",
   "metadata": {},
   "outputs": [],
   "source": [
    "df = prepare_dataset()"
   ]
  },
  {
   "cell_type": "code",
   "execution_count": 32,
   "id": "64fbbe25",
   "metadata": {},
   "outputs": [],
   "source": [
    "df.to_csv('example_preprocessed.csv', index=False)"
   ]
  },
  {
   "cell_type": "code",
   "execution_count": 33,
   "id": "96d173b5",
   "metadata": {},
   "outputs": [
    {
     "name": "stdout",
     "output_type": "stream",
     "text": [
      "<class 'pandas.core.frame.DataFrame'>\n",
      "RangeIndex: 4 entries, 0 to 3\n",
      "Data columns (total 5 columns):\n",
      " #   Column    Non-Null Count  Dtype  \n",
      "---  ------    --------------  -----  \n",
      " 0   numer     4 non-null      float64\n",
      " 1   fl        4 non-null      float64\n",
      " 2   datatime  4 non-null      int64  \n",
      " 3   bin       4 non-null      int64  \n",
      " 4   str_ABC   4 non-null      uint8  \n",
      "dtypes: float64(2), int64(2), uint8(1)\n",
      "memory usage: 260.0 bytes\n"
     ]
    }
   ],
   "source": [
    "df.info()"
   ]
  },
  {
   "cell_type": "code",
   "execution_count": 34,
   "id": "5ef6cafc",
   "metadata": {},
   "outputs": [
    {
     "name": "stdout",
     "output_type": "stream",
     "text": [
      "<class 'pandas.core.frame.DataFrame'>\n",
      "RangeIndex: 4 entries, 0 to 3\n",
      "Data columns (total 5 columns):\n",
      " #   Column    Non-Null Count  Dtype  \n",
      "---  ------    --------------  -----  \n",
      " 0   numer     4 non-null      float64\n",
      " 1   fl        4 non-null      float64\n",
      " 2   datatime  4 non-null      int64  \n",
      " 3   bin       4 non-null      int64  \n",
      " 4   str_ABC   4 non-null      int64  \n",
      "dtypes: float64(2), int64(3)\n",
      "memory usage: 288.0 bytes\n"
     ]
    }
   ],
   "source": [
    "df_prep = pd.read_csv('example_preprocessed.csv')\n",
    "df_prep.info()"
   ]
  },
  {
   "cell_type": "code",
   "execution_count": 35,
   "id": "5ba5bf26",
   "metadata": {},
   "outputs": [
    {
     "data": {
      "text/html": [
       "<div>\n",
       "<style scoped>\n",
       "    .dataframe tbody tr th:only-of-type {\n",
       "        vertical-align: middle;\n",
       "    }\n",
       "\n",
       "    .dataframe tbody tr th {\n",
       "        vertical-align: top;\n",
       "    }\n",
       "\n",
       "    .dataframe thead th {\n",
       "        text-align: right;\n",
       "    }\n",
       "</style>\n",
       "<table border=\"1\" class=\"dataframe\">\n",
       "  <thead>\n",
       "    <tr style=\"text-align: right;\">\n",
       "      <th></th>\n",
       "      <th>numer</th>\n",
       "      <th>fl</th>\n",
       "      <th>datatime</th>\n",
       "      <th>bin</th>\n",
       "      <th>str_ABC</th>\n",
       "    </tr>\n",
       "  </thead>\n",
       "  <tbody>\n",
       "    <tr>\n",
       "      <th>0</th>\n",
       "      <td>1.000000</td>\n",
       "      <td>2.430000</td>\n",
       "      <td>1321011271</td>\n",
       "      <td>1</td>\n",
       "      <td>1</td>\n",
       "    </tr>\n",
       "    <tr>\n",
       "      <th>1</th>\n",
       "      <td>2.000000</td>\n",
       "      <td>1.300000</td>\n",
       "      <td>1321011271</td>\n",
       "      <td>2</td>\n",
       "      <td>1</td>\n",
       "    </tr>\n",
       "    <tr>\n",
       "      <th>2</th>\n",
       "      <td>2.000000</td>\n",
       "      <td>2.400000</td>\n",
       "      <td>1321011271</td>\n",
       "      <td>1</td>\n",
       "      <td>1</td>\n",
       "    </tr>\n",
       "    <tr>\n",
       "      <th>3</th>\n",
       "      <td>1.666667</td>\n",
       "      <td>2.043333</td>\n",
       "      <td>1321011271</td>\n",
       "      <td>1</td>\n",
       "      <td>1</td>\n",
       "    </tr>\n",
       "  </tbody>\n",
       "</table>\n",
       "</div>"
      ],
      "text/plain": [
       "      numer        fl    datatime  bin  str_ABC\n",
       "0  1.000000  2.430000  1321011271    1        1\n",
       "1  2.000000  1.300000  1321011271    2        1\n",
       "2  2.000000  2.400000  1321011271    1        1\n",
       "3  1.666667  2.043333  1321011271    1        1"
      ]
     },
     "execution_count": 35,
     "metadata": {},
     "output_type": "execute_result"
    }
   ],
   "source": [
    "df_prep"
   ]
  },
  {
   "cell_type": "code",
   "execution_count": null,
   "id": "93beace1",
   "metadata": {},
   "outputs": [],
   "source": []
  }
 ],
 "metadata": {
  "kernelspec": {
   "display_name": "Python 3",
   "language": "python",
   "name": "python3"
  },
  "language_info": {
   "codemirror_mode": {
    "name": "ipython",
    "version": 3
   },
   "file_extension": ".py",
   "mimetype": "text/x-python",
   "name": "python",
   "nbconvert_exporter": "python",
   "pygments_lexer": "ipython3",
   "version": "3.8.8"
  }
 },
 "nbformat": 4,
 "nbformat_minor": 5
}
