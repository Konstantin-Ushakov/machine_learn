{
 "cells": [
  {
   "cell_type": "code",
   "execution_count": 1,
   "metadata": {},
   "outputs": [
    {
     "name": "stdout",
     "output_type": "stream",
     "text": [
      "['a', 3]\n",
      "[]\n"
     ]
    }
   ],
   "source": [
    "def unique_elems(l1, l2):\n",
    "    answ = []\n",
    "    for elem in l1:\n",
    "        if elem in l2:\n",
    "            answ.append(elem)\n",
    "    # set - множество уникальных значений\n",
    "    # Убираем дублирующиеся элементы\n",
    "    return list(set(answ))\n",
    "    \n",
    "print(unique_elems(list([1, 2, 'a', 3]), list(['a', 'b', 'c', 3])))\n",
    "print(unique_elems(list([1, 2, 3]), list(['1', '2', '3'])))"
   ]
  },
  {
   "cell_type": "code",
   "execution_count": null,
   "metadata": {},
   "outputs": [],
   "source": []
  }
 ],
 "metadata": {
  "kernelspec": {
   "display_name": "Python 3",
   "language": "python",
   "name": "python3"
  },
  "language_info": {
   "codemirror_mode": {
    "name": "ipython",
    "version": 3
   },
   "file_extension": ".py",
   "mimetype": "text/x-python",
   "name": "python",
   "nbconvert_exporter": "python",
   "pygments_lexer": "ipython3",
   "version": "3.8.5"
  }
 },
 "nbformat": 4,
 "nbformat_minor": 4
}
