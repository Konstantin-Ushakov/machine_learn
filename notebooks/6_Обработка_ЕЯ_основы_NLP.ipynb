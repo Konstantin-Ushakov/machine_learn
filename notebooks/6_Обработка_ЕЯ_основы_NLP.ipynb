{
 "cells": [
  {
   "cell_type": "markdown",
   "id": "59707832",
   "metadata": {},
   "source": [
    "Задание:\n",
    "\n",
    "С помощью метода get_prepared_all_vacancies_from_hh\n",
    "загрузить 10000 вакансии с сайта hh.ru.\n",
    "\n",
    "Договоритесь чтобы вакансии не повторялись.\n",
    "\n",
    "Сохранить результат в виде csv файла с тремя столбцами:\n",
    "1. id вакансии\n",
    "2. сырой json\n",
    "3. подготовленное описание вакансии\n",
    "\n",
    "Не забывайте про обработку ошибок"
   ]
  },
  {
   "cell_type": "code",
   "execution_count": 71,
   "id": "92627d79",
   "metadata": {},
   "outputs": [
    {
     "name": "stdout",
     "output_type": "stream",
     "text": [
      "Requirement already satisfied: langdetect in d:\\programdata\\anaconda3\\lib\\site-packages (1.0.9)\n",
      "Requirement already satisfied: six in d:\\programdata\\anaconda3\\lib\\site-packages (from langdetect) (1.16.0)\n"
     ]
    },
    {
     "name": "stderr",
     "output_type": "stream",
     "text": [
      "WARNING: Ignoring invalid distribution -ip (d:\\programdata\\anaconda3\\lib\\site-packages)\n",
      "WARNING: Ignoring invalid distribution -ip (d:\\programdata\\anaconda3\\lib\\site-packages)\n",
      "WARNING: Ignoring invalid distribution -ip (d:\\programdata\\anaconda3\\lib\\site-packages)\n",
      "WARNING: Ignoring invalid distribution -ip (d:\\programdata\\anaconda3\\lib\\site-packages)\n",
      "WARNING: Ignoring invalid distribution -ip (d:\\programdata\\anaconda3\\lib\\site-packages)\n"
     ]
    }
   ],
   "source": [
    "!pip install langdetect"
   ]
  },
  {
   "cell_type": "code",
   "execution_count": 2,
   "id": "02dbfcf9",
   "metadata": {},
   "outputs": [
    {
     "name": "stdout",
     "output_type": "stream",
     "text": [
      "Requirement already satisfied: aiohttp in d:\\programdata\\anaconda3\\lib\\site-packages (3.7.4.post0)\n",
      "Requirement already satisfied: typing-extensions>=3.6.5 in d:\\programdata\\anaconda3\\lib\\site-packages (from aiohttp) (3.10.0.2)\n",
      "Requirement already satisfied: yarl<2.0,>=1.0 in d:\\programdata\\anaconda3\\lib\\site-packages (from aiohttp) (1.7.0)\n",
      "Requirement already satisfied: multidict<7.0,>=4.5 in d:\\programdata\\anaconda3\\lib\\site-packages (from aiohttp) (5.2.0)\n",
      "Requirement already satisfied: async-timeout<4.0,>=3.0 in d:\\programdata\\anaconda3\\lib\\site-packages (from aiohttp) (3.0.1)\n",
      "Requirement already satisfied: attrs>=17.3.0 in d:\\programdata\\anaconda3\\lib\\site-packages (from aiohttp) (21.2.0)\n",
      "Requirement already satisfied: chardet<5.0,>=2.0 in d:\\programdata\\anaconda3\\lib\\site-packages (from aiohttp) (4.0.0)\n",
      "Requirement already satisfied: idna>=2.0 in d:\\programdata\\anaconda3\\lib\\site-packages (from yarl<2.0,>=1.0->aiohttp) (2.10)\n"
     ]
    },
    {
     "name": "stderr",
     "output_type": "stream",
     "text": [
      "WARNING: Ignoring invalid distribution -ip (d:\\programdata\\anaconda3\\lib\\site-packages)\n",
      "WARNING: Ignoring invalid distribution -ip (d:\\programdata\\anaconda3\\lib\\site-packages)\n",
      "WARNING: Ignoring invalid distribution -ip (d:\\programdata\\anaconda3\\lib\\site-packages)\n",
      "WARNING: Ignoring invalid distribution -ip (d:\\programdata\\anaconda3\\lib\\site-packages)\n",
      "WARNING: Ignoring invalid distribution -ip (d:\\programdata\\anaconda3\\lib\\site-packages)\n"
     ]
    }
   ],
   "source": [
    "!pip install aiohttp"
   ]
  },
  {
   "cell_type": "markdown",
   "id": "1adb69f5",
   "metadata": {},
   "source": [
    "Ибо Колаб кривой, добавляем немного [магии](https://gist.github.com/korakot/f1d835321fa14075227add61b90debb3) для обработки асинхронных запросов"
   ]
  },
  {
   "cell_type": "code",
   "execution_count": 3,
   "id": "3cfe195a",
   "metadata": {},
   "outputs": [
    {
     "name": "stdout",
     "output_type": "stream",
     "text": [
      "Requirement already satisfied: nest-asyncio in d:\\programdata\\anaconda3\\lib\\site-packages (1.5.1)\n"
     ]
    },
    {
     "name": "stderr",
     "output_type": "stream",
     "text": [
      "WARNING: Ignoring invalid distribution -ip (d:\\programdata\\anaconda3\\lib\\site-packages)\n",
      "WARNING: Ignoring invalid distribution -ip (d:\\programdata\\anaconda3\\lib\\site-packages)\n",
      "WARNING: Ignoring invalid distribution -ip (d:\\programdata\\anaconda3\\lib\\site-packages)\n",
      "WARNING: Ignoring invalid distribution -ip (d:\\programdata\\anaconda3\\lib\\site-packages)\n",
      "WARNING: Ignoring invalid distribution -ip (d:\\programdata\\anaconda3\\lib\\site-packages)\n"
     ]
    }
   ],
   "source": [
    "!pip install nest-asyncio"
   ]
  },
  {
   "cell_type": "code",
   "execution_count": 4,
   "id": "bb3affa8",
   "metadata": {},
   "outputs": [],
   "source": [
    "import nest_asyncio\n",
    "nest_asyncio.apply()"
   ]
  },
  {
   "cell_type": "markdown",
   "id": "34ccf8d7",
   "metadata": {},
   "source": [
    "Тестовый запуск асинхронного кода"
   ]
  },
  {
   "cell_type": "code",
   "execution_count": 5,
   "id": "917ad060",
   "metadata": {},
   "outputs": [],
   "source": [
    "import asyncio\n",
    "import time"
   ]
  },
  {
   "cell_type": "code",
   "execution_count": 6,
   "id": "e60e69b3",
   "metadata": {},
   "outputs": [
    {
     "name": "stdout",
     "output_type": "stream",
     "text": [
      "Новый заказ: Паста\n",
      "Паста - готово\n",
      "Новый заказ: Салат Цезарь\n",
      "Салат Цезарь - готово\n",
      "Новый заказ: Отбивные\n",
      "Отбивные - готово\n"
     ]
    }
   ],
   "source": [
    "async def waiter() -> None:\n",
    "    await cook('Паста', 2)\n",
    "    await cook('Салат Цезарь', 3)\n",
    "    await cook('Отбивные', 1)\n",
    "\n",
    "async def cook(order, time_to_prepare):\n",
    "    print(f'Новый заказ: {order}')\n",
    "    await asyncio.sleep(time_to_prepare)\n",
    "    print(order, '- готово')\n",
    "\n",
    "asyncio.run(waiter())"
   ]
  },
  {
   "cell_type": "markdown",
   "id": "8da5c5d6",
   "metadata": {},
   "source": [
    "Импорты библиотек для работы с данными"
   ]
  },
  {
   "cell_type": "code",
   "execution_count": 74,
   "id": "9310cc5c",
   "metadata": {},
   "outputs": [],
   "source": [
    "from langdetect import detect"
   ]
  },
  {
   "cell_type": "code",
   "execution_count": 7,
   "id": "6f14a9d4",
   "metadata": {},
   "outputs": [],
   "source": [
    "import pandas as pd\n",
    "import json"
   ]
  },
  {
   "cell_type": "code",
   "execution_count": 8,
   "id": "6358eda6",
   "metadata": {},
   "outputs": [],
   "source": [
    "import asyncio\n",
    "import aiohttp"
   ]
  },
  {
   "cell_type": "markdown",
   "id": "565ece3a",
   "metadata": {},
   "source": [
    "# Загрузка данных"
   ]
  },
  {
   "cell_type": "code",
   "execution_count": 17,
   "id": "d8fab9a2",
   "metadata": {},
   "outputs": [],
   "source": [
    "import spacy"
   ]
  },
  {
   "cell_type": "code",
   "execution_count": 18,
   "id": "a54d6a1d",
   "metadata": {},
   "outputs": [],
   "source": [
    "import pandas as pd\n",
    "import numpy as np\n",
    "import re"
   ]
  },
  {
   "cell_type": "code",
   "execution_count": 19,
   "id": "51aa4426",
   "metadata": {},
   "outputs": [
    {
     "name": "stderr",
     "output_type": "stream",
     "text": [
      "[nltk_data] Downloading package punkt to\n",
      "[nltk_data]     C:\\Users\\Ko\\AppData\\Roaming\\nltk_data...\n",
      "[nltk_data]   Package punkt is already up-to-date!\n",
      "[nltk_data] Downloading package wordnet to\n",
      "[nltk_data]     C:\\Users\\Ko\\AppData\\Roaming\\nltk_data...\n",
      "[nltk_data]   Package wordnet is already up-to-date!\n",
      "[nltk_data] Downloading package stopwords to\n",
      "[nltk_data]     C:\\Users\\Ko\\AppData\\Roaming\\nltk_data...\n",
      "[nltk_data]   Package stopwords is already up-to-date!\n"
     ]
    },
    {
     "data": {
      "text/plain": [
       "True"
      ]
     },
     "execution_count": 19,
     "metadata": {},
     "output_type": "execute_result"
    }
   ],
   "source": [
    "from nltk.tokenize import word_tokenize\n",
    "from nltk.stem import WordNetLemmatizer\n",
    "from nltk.stem.snowball import SnowballStemmer \n",
    "from nltk.corpus import stopwords\n",
    "import nltk\n",
    "nltk.download('punkt')\n",
    "nltk.download('wordnet')\n",
    "nltk.download('stopwords')"
   ]
  },
  {
   "cell_type": "markdown",
   "id": "bd4ab15b",
   "metadata": {},
   "source": [
    "# Предобработка данных"
   ]
  },
  {
   "cell_type": "markdown",
   "id": "c8467833",
   "metadata": {},
   "source": [
    "## Загрузка данных"
   ]
  },
  {
   "cell_type": "code",
   "execution_count": 97,
   "id": "9412d9f5",
   "metadata": {},
   "outputs": [
    {
     "data": {
      "text/html": [
       "<div>\n",
       "<style scoped>\n",
       "    .dataframe tbody tr th:only-of-type {\n",
       "        vertical-align: middle;\n",
       "    }\n",
       "\n",
       "    .dataframe tbody tr th {\n",
       "        vertical-align: top;\n",
       "    }\n",
       "\n",
       "    .dataframe thead th {\n",
       "        text-align: right;\n",
       "    }\n",
       "</style>\n",
       "<table border=\"1\" class=\"dataframe\">\n",
       "  <thead>\n",
       "    <tr style=\"text-align: right;\">\n",
       "      <th></th>\n",
       "      <th>vacancy_id</th>\n",
       "      <th>json</th>\n",
       "      <th>description</th>\n",
       "      <th>tokens</th>\n",
       "    </tr>\n",
       "  </thead>\n",
       "  <tbody>\n",
       "    <tr>\n",
       "      <th>0</th>\n",
       "      <td>33551858.0</td>\n",
       "      <td>{'id': '33551858', 'premium': False, 'billing_...</td>\n",
       "      <td>&lt;p&gt; &lt;/p&gt; &lt;p&gt;Приглашаем на серьёзную ответствен...</td>\n",
       "      <td>приглаша серьезн ответствен работ приветств ли...</td>\n",
       "    </tr>\n",
       "    <tr>\n",
       "      <th>1</th>\n",
       "      <td>33551859.0</td>\n",
       "      <td>{'id': '33551859', 'premium': False, 'billing_...</td>\n",
       "      <td>&lt;p&gt;&lt;strong&gt;&lt;em&gt;Департамент управления барами –...</td>\n",
       "      <td>департамент управлен бар – « вкусн » подраздел...</td>\n",
       "    </tr>\n",
       "    <tr>\n",
       "      <th>2</th>\n",
       "      <td>33551860.0</td>\n",
       "      <td>{'id': '33551860', 'premium': False, 'billing_...</td>\n",
       "      <td>&lt;p&gt;«Сеть фитнес клубов ФизКульт является призн...</td>\n",
       "      <td>« сет фитнес клуб физкульт явля призна лидер ф...</td>\n",
       "    </tr>\n",
       "    <tr>\n",
       "      <th>3</th>\n",
       "      <td>33551861.0</td>\n",
       "      <td>{'id': '33551861', 'premium': False, 'billing_...</td>\n",
       "      <td>&lt;p&gt;&lt;strong&gt;Должностные обязанности:&lt;/strong&gt;&lt;/...</td>\n",
       "      <td>должностн обязан • осуществлен расчетно-кассов...</td>\n",
       "    </tr>\n",
       "    <tr>\n",
       "      <th>4</th>\n",
       "      <td>33551862.0</td>\n",
       "      <td>{'id': '33551862', 'premium': False, 'billing_...</td>\n",
       "      <td>&lt;p&gt;&lt;strong&gt;Обязанности:&lt;/strong&gt;&lt;/p&gt; &lt;ul&gt; &lt;li&gt;...</td>\n",
       "      <td>обязан амбулаторно-поликлиническ требован нали...</td>\n",
       "    </tr>\n",
       "    <tr>\n",
       "      <th>...</th>\n",
       "      <td>...</td>\n",
       "      <td>...</td>\n",
       "      <td>...</td>\n",
       "      <td>...</td>\n",
       "    </tr>\n",
       "    <tr>\n",
       "      <th>9833</th>\n",
       "      <td>33587460.0</td>\n",
       "      <td>{'id': '33587460', 'premium': False, 'billing_...</td>\n",
       "      <td>&lt;p&gt;Рудник «Ирокинда» расположен в Муйском райо...</td>\n",
       "      <td>рудник « ирокинд » располож муйск район респуб...</td>\n",
       "    </tr>\n",
       "    <tr>\n",
       "      <th>9834</th>\n",
       "      <td>33587461.0</td>\n",
       "      <td>{'id': '33587461', 'premium': False, 'billing_...</td>\n",
       "      <td>&lt;p&gt;Рудник «Ирокинда» расположен в Муйском райо...</td>\n",
       "      <td>рудник « ирокинд » располож муйск район респуб...</td>\n",
       "    </tr>\n",
       "    <tr>\n",
       "      <th>9835</th>\n",
       "      <td>33587462.0</td>\n",
       "      <td>{'id': '33587462', 'premium': False, 'billing_...</td>\n",
       "      <td>&lt;strong&gt;Обязанности:&lt;/strong&gt; &lt;ul&gt; &lt;li&gt;знание ...</td>\n",
       "      <td>обязан знан программ 1с 8 3 зарплат кадр оформ...</td>\n",
       "    </tr>\n",
       "    <tr>\n",
       "      <th>9836</th>\n",
       "      <td>33587463.0</td>\n",
       "      <td>{'id': '33587463', 'premium': False, 'billing_...</td>\n",
       "      <td>&lt;p&gt;&lt;strong&gt;LaGarderobe&lt;/strong&gt; – это мультибр...</td>\n",
       "      <td>lagarderob – эт мультибрендов магазин элегантн...</td>\n",
       "    </tr>\n",
       "    <tr>\n",
       "      <th>9837</th>\n",
       "      <td>33587464.0</td>\n",
       "      <td>{'id': '33587464', 'premium': False, 'billing_...</td>\n",
       "      <td>&lt;p&gt;В связи с расширением ищем менеджера по про...</td>\n",
       "      <td>связ расширен ищ менеджер продаж одн точек ком...</td>\n",
       "    </tr>\n",
       "  </tbody>\n",
       "</table>\n",
       "<p>9838 rows × 4 columns</p>\n",
       "</div>"
      ],
      "text/plain": [
       "      vacancy_id                                               json  \\\n",
       "0     33551858.0  {'id': '33551858', 'premium': False, 'billing_...   \n",
       "1     33551859.0  {'id': '33551859', 'premium': False, 'billing_...   \n",
       "2     33551860.0  {'id': '33551860', 'premium': False, 'billing_...   \n",
       "3     33551861.0  {'id': '33551861', 'premium': False, 'billing_...   \n",
       "4     33551862.0  {'id': '33551862', 'premium': False, 'billing_...   \n",
       "...          ...                                                ...   \n",
       "9833  33587460.0  {'id': '33587460', 'premium': False, 'billing_...   \n",
       "9834  33587461.0  {'id': '33587461', 'premium': False, 'billing_...   \n",
       "9835  33587462.0  {'id': '33587462', 'premium': False, 'billing_...   \n",
       "9836  33587463.0  {'id': '33587463', 'premium': False, 'billing_...   \n",
       "9837  33587464.0  {'id': '33587464', 'premium': False, 'billing_...   \n",
       "\n",
       "                                            description  \\\n",
       "0     <p> </p> <p>Приглашаем на серьёзную ответствен...   \n",
       "1     <p><strong><em>Департамент управления барами –...   \n",
       "2     <p>«Сеть фитнес клубов ФизКульт является призн...   \n",
       "3     <p><strong>Должностные обязанности:</strong></...   \n",
       "4     <p><strong>Обязанности:</strong></p> <ul> <li>...   \n",
       "...                                                 ...   \n",
       "9833  <p>Рудник «Ирокинда» расположен в Муйском райо...   \n",
       "9834  <p>Рудник «Ирокинда» расположен в Муйском райо...   \n",
       "9835  <strong>Обязанности:</strong> <ul> <li>знание ...   \n",
       "9836  <p><strong>LaGarderobe</strong> – это мультибр...   \n",
       "9837  <p>В связи с расширением ищем менеджера по про...   \n",
       "\n",
       "                                                 tokens  \n",
       "0     приглаша серьезн ответствен работ приветств ли...  \n",
       "1     департамент управлен бар – « вкусн » подраздел...  \n",
       "2     « сет фитнес клуб физкульт явля призна лидер ф...  \n",
       "3     должностн обязан • осуществлен расчетно-кассов...  \n",
       "4     обязан амбулаторно-поликлиническ требован нали...  \n",
       "...                                                 ...  \n",
       "9833  рудник « ирокинд » располож муйск район респуб...  \n",
       "9834  рудник « ирокинд » располож муйск район респуб...  \n",
       "9835  обязан знан программ 1с 8 3 зарплат кадр оформ...  \n",
       "9836  lagarderob – эт мультибрендов магазин элегантн...  \n",
       "9837  связ расширен ищ менеджер продаж одн точек ком...  \n",
       "\n",
       "[9838 rows x 4 columns]"
      ]
     },
     "execution_count": 97,
     "metadata": {},
     "output_type": "execute_result"
    }
   ],
   "source": [
    "name = '../data/vacancy.csv'\n",
    "df = pd.read_csv(name, sep=\",\")\n",
    "df"
   ]
  },
  {
   "cell_type": "markdown",
   "id": "a9c4202c",
   "metadata": {},
   "source": [
    "# Предобработка данных"
   ]
  },
  {
   "cell_type": "markdown",
   "id": "10ac3ad1",
   "metadata": {},
   "source": [
    "## Обработка данных"
   ]
  },
  {
   "cell_type": "markdown",
   "id": "a5ca5aa1",
   "metadata": {},
   "source": [
    "РЕАЛИЗОВАТЬ `remove_garbage`\n",
    "\n",
    "Используйте регулярные выражения:\n",
    "\n",
    "- IN: str '<p\\>ТРЕБОВАНИЯ: <br /\\> - обязательно высшее или незаконченное высшее экономическое образование;...';\n",
    "- OUT: str 'ТРЕБОВАНИЯ: - обязательно высшее или незаконченное высшее экономическое образование;...'"
   ]
  },
  {
   "cell_type": "code",
   "execution_count": 21,
   "id": "9f505b9c",
   "metadata": {},
   "outputs": [],
   "source": [
    "def remove_garbage(raw_text: str):\n",
    "    text = re.sub(r\"<[^>]*>\", \"\", raw_text)\n",
    "    return text"
   ]
  },
  {
   "cell_type": "code",
   "execution_count": 63,
   "id": "d6c415c0",
   "metadata": {},
   "outputs": [
    {
     "data": {
      "text/plain": [
       "'ТРЕБОВАНИЯ: '"
      ]
     },
     "execution_count": 63,
     "metadata": {},
     "output_type": "execute_result"
    }
   ],
   "source": [
    "remove_garbage(\"<p\\>ТРЕБОВАНИЯ: <br /\\>\")"
   ]
  },
  {
   "cell_type": "markdown",
   "id": "8b8ceff1",
   "metadata": {},
   "source": [
    "РЕАЛИЗОВАТЬ `tokenize`\n",
    "\n",
    "Используйте `word_tokenize` из `nltk.tokenize`\n",
    "\n",
    "- IN: str 'ТРЕБОВАНИЯ: - обязательно высшее или незаконченное высшее экономическое образование;...'\n",
    "- OUT: list ['требования', ':', '-', 'обязательно', 'высшее', 'или', 'незаконченное', 'высшее', 'экономическое', 'образование']"
   ]
  },
  {
   "cell_type": "code",
   "execution_count": 22,
   "id": "260708d4",
   "metadata": {},
   "outputs": [],
   "source": [
    "def tokenize(raw_text):\n",
    "    tokens = word_tokenize(raw_text)\n",
    "    return tokens"
   ]
  },
  {
   "cell_type": "code",
   "execution_count": 23,
   "id": "4a5df7e1",
   "metadata": {},
   "outputs": [
    {
     "data": {
      "text/plain": [
       "['ТРЕБОВАНИЯ',\n",
       " ':',\n",
       " '-',\n",
       " 'обязательно',\n",
       " 'высшее',\n",
       " 'или',\n",
       " 'незаконченное',\n",
       " 'высшее',\n",
       " 'экономическое',\n",
       " 'образование',\n",
       " ';',\n",
       " '...']"
      ]
     },
     "execution_count": 23,
     "metadata": {},
     "output_type": "execute_result"
    }
   ],
   "source": [
    "tokenize(\"ТРЕБОВАНИЯ: - обязательно высшее или незаконченное высшее экономическое образование;...\")"
   ]
  },
  {
   "cell_type": "markdown",
   "id": "e0f51c59",
   "metadata": {},
   "source": [
    "РЕАЛИЗОВАТЬ `to_base_form`\n",
    "\n",
    "Можно использовать и лемматизацию и стемминг: pymystem3, ntlk, Spacy, gensim\n",
    "\n",
    "- IN: str 'Красивая мама красиво мыла раму'\n",
    "- OUT: str 'красивый мама красиво мыть рама'"
   ]
  },
  {
   "cell_type": "code",
   "execution_count": 24,
   "id": "a7530e2e",
   "metadata": {},
   "outputs": [],
   "source": [
    "# spacy.load('en_core_web_trf')\n",
    "# spacy.load('ru_core_news_lg')"
   ]
  },
  {
   "cell_type": "code",
   "execution_count": 57,
   "id": "5febd43d",
   "metadata": {},
   "outputs": [],
   "source": [
    "def to_base_form(raw_text, is_lemming=True):\n",
    "    if type(raw_text) == str:\n",
    "        if is_lemming:\n",
    "            # Лемматизация\n",
    "            lemmatizer = spacy.load('ru_core_news_lg', disable=['parser', 'ner'])\n",
    "            tokens = lemmatizer(raw_text)\n",
    "            token = \" \".join([token.lemma_ for token in tokens])\n",
    "            \n",
    "            lemmatizer = spacy.load('en_core_web_trf', disable=['parser', 'ner'])\n",
    "            tokens = lemmatizer(token)\n",
    "            token = \" \".join([token.lemma_ for token in tokens])\n",
    "        else:\n",
    "            # Стемминг\n",
    "            stemmer = SnowballStemmer(\"russian\")\n",
    "            tokens = tokenize(raw_text)\n",
    "            stemming = [stemmer.stem(word) for word in tokens]\n",
    "            token = \" \".join(stemming)\n",
    "            \n",
    "            stemmer = SnowballStemmer(\"english\")\n",
    "            tokens = tokenize(token)\n",
    "            stemming = [stemmer.stem(word) for word in tokens]\n",
    "            token = \" \".join(stemming)\n",
    "    \n",
    "    if type(raw_text) in [list, np.ndarray]:\n",
    "        # Стемминг\n",
    "        stemmer = SnowballStemmer(\"russian\")\n",
    "        token = [stemmer.stem(word) for word in raw_text]\n",
    "    return token"
   ]
  },
  {
   "cell_type": "code",
   "execution_count": 64,
   "id": "978a0a31",
   "metadata": {},
   "outputs": [
    {
     "name": "stderr",
     "output_type": "stream",
     "text": [
      "D:\\ProgramData\\Anaconda3\\lib\\site-packages\\torch\\autocast_mode.py:141: UserWarning: User provided device_type of 'cuda', but CUDA is not available. Disabling\n",
      "  warnings.warn('User provided device_type of \\'cuda\\', but CUDA is not available. Disabling')\n"
     ]
    },
    {
     "name": "stdout",
     "output_type": "stream",
     "text": [
      "['требования', ':', '-', 'обязательно', 'высокий', 'или', 'незаконченный', 'высокий', 'экономический', 'образование', ';', '...']\n"
     ]
    },
    {
     "data": {
      "text/plain": [
       "['we', 'be', 'go', 'to', 'fire', 'this', 'world']"
      ]
     },
     "execution_count": 64,
     "metadata": {},
     "output_type": "execute_result"
    }
   ],
   "source": [
    "str_test = \"<p>ТРЕБОВАНИЯ: <br /> - обязательно высшее или незаконченное высшее экономическое образование;...\"\n",
    "print(tokenize(to_base_form(remove_garbage(str_test))))\n",
    "\n",
    "str_test = \"We are going to fire this world\"\n",
    "tokenize(to_base_form(remove_garbage(str_test)))"
   ]
  },
  {
   "cell_type": "code",
   "execution_count": 65,
   "id": "904df5e9",
   "metadata": {},
   "outputs": [
    {
     "name": "stdout",
     "output_type": "stream",
     "text": [
      "['требован', ':', '-', 'обязательн', 'высш', 'ил', 'незакончен', 'высш', 'экономическ', 'образован', ';', '...', 'ни', ':', '-', 'обязательн', 'высш', 'ил', 'незакончен', 'высш', 'экономическ', 'образован', ';', '...', 'ни', ':', '-', 'обязательн', 'высш', 'ил', 'незакончен', 'высш', 'экономическ', 'образован', ';', '...', 'ни', ':', '-', 'обязательн', 'высш', 'ил', 'незакончен', 'высш', 'экономическ', 'образован', ';', '...', 'ни', ':', '-', 'обязательн', 'высш', 'ил', 'незакончен', 'высш', 'экономическ', 'образован', ';', '...', 'ни', ':', '-', 'обязательн', 'высш', 'ил', 'незакончен', 'высш', 'экономическ', 'образован', ';', '...', 'ни', ':', '-', 'обязательн', 'высш', 'ил', 'незакончен', 'высш', 'экономическ', 'образован', ';', '...', 'ни', ':', '-', 'обязательн', 'высш', 'ил', 'незакончен', 'высш', 'экономическ', 'образован', ';', '...', 'ни', ':', '-', 'обязательн', 'высш', 'ил', 'незакончен', 'высш', 'экономическ', 'образован', ';', '...', 'ни', ':', '-', 'обязательн', 'высш', 'ил', 'незакончен', 'высш', 'экономическ', 'образован', ';', '...', 'ни', ':', '-', 'обязательн', 'высш', 'ил', 'незакончен', 'высш', 'экономическ', 'образован', ';', '...', 'ни', ':', '-', 'обязательн', 'высш', 'ил', 'незакончен', 'высш', 'экономическ', 'образован', ';', '...', 'ни', ':', '-', 'обязательн', 'высш', 'ил', 'незакончен', 'высш', 'экономическ', 'образован', ';', '...', 'ни', ':', '-', 'обязательн', 'высш', 'ил', 'незакончен', 'высш', 'экономическ', 'образован', ';', '...', 'ни', ':', '-', 'обязательн', 'высш', 'ил', 'незакончен', 'высш', 'экономическ', 'образован', ';', '...', 'ни', ':', '-', 'обязательн', 'высш', 'ил', 'незакончен', 'высш', 'экономическ', 'образован', ';', '...', 'ни', ':', '-', 'обязательн', 'высш', 'ил', 'незакончен', 'высш', 'экономическ', 'образован', ';', '...', 'ни', ':', '-', 'обязательн', 'высш', 'ил', 'незакончен', 'высш', 'экономическ', 'образован', ';', '...', 'ни', ':', '-', 'обязательн', 'высш', 'ил', 'незакончен', 'высш', 'экономическ', 'образован', ';', '...', 'ни', ':', '-', 'обязательн', 'высш', 'ил', 'незакончен', 'высш', 'экономическ', 'образован', ';', '...', 'ни', ':', '-', 'обязательн', 'высш', 'ил', 'незакончен', 'высш', 'экономическ', 'образован', ';', '...', 'ни', ':', '-', 'обязательн', 'высш', 'ил', 'незакончен', 'высш', 'экономическ', 'образован', ';', '...', 'ни', ':', '-', 'обязательн', 'высш', 'ил', 'незакончен', 'высш', 'экономическ', 'образован', ';', '...', 'ни', ':', '-', 'обязательн', 'высш', 'ил', 'незакончен', 'высш', 'экономическ', 'образован', ';', '...', 'ни', ':', '-', 'обязательн', 'высш', 'ил', 'незакончен', 'высш', 'экономическ', 'образован', ';', '...', 'ни', ':', '-', 'обязательн', 'высш', 'ил', 'незакончен', 'высш', 'экономическ', 'образован', ';', '...', 'ни', ':', '-', 'обязательн', 'высш', 'ил', 'незакончен', 'высш', 'экономическ', 'образован', ';', '...', 'ни', ':', '-', 'обязательн', 'высш', 'ил', 'незакончен', 'высш', 'экономическ', 'образован', ';', '...', 'ни', ':', '-', 'обязательн', 'высш', 'ил', 'незакончен', 'высш', 'экономическ', 'образован', ';', '...']\n"
     ]
    }
   ],
   "source": [
    "str_test = \"<p>ТРЕБОВАНИЯ: <br /> - обязательно высшее или незаконченное высшее экономическое образование;...НИЯ: <br /> - обязательно высшее или незаконченное высшее экономическое образование;...НИЯ: <br /> - обязательно высшее или незаконченное высшее экономическое образование;...НИЯ: <br /> - обязательно высшее или незаконченное высшее экономическое образование;...НИЯ: <br /> - обязательно высшее или незаконченное высшее экономическое образование;...НИЯ: <br /> - обязательно высшее или незаконченное высшее экономическое образование;...НИЯ: <br /> - обязательно высшее или незаконченное высшее экономическое образование;...НИЯ: <br /> - обязательно высшее или незаконченное высшее экономическое образование;...НИЯ: <br /> - обязательно высшее или незаконченное высшее экономическое образование;...НИЯ: <br /> - обязательно высшее или незаконченное высшее экономическое образование;...НИЯ: <br /> - обязательно высшее или незаконченное высшее экономическое образование;...НИЯ: <br /> - обязательно высшее или незаконченное высшее экономическое образование;...НИЯ: <br /> - обязательно высшее или незаконченное высшее экономическое образование;...НИЯ: <br /> - обязательно высшее или незаконченное высшее экономическое образование;...НИЯ: <br /> - обязательно высшее или незаконченное высшее экономическое образование;...НИЯ: <br /> - обязательно высшее или незаконченное высшее экономическое образование;...НИЯ: <br /> - обязательно высшее или незаконченное высшее экономическое образование;...НИЯ: <br /> - обязательно высшее или незаконченное высшее экономическое образование;...НИЯ: <br /> - обязательно высшее или незаконченное высшее экономическое образование;...НИЯ: <br /> - обязательно высшее или незаконченное высшее экономическое образование;...НИЯ: <br /> - обязательно высшее или незаконченное высшее экономическое образование;...НИЯ: <br /> - обязательно высшее или незаконченное высшее экономическое образование;...НИЯ: <br /> - обязательно высшее или незаконченное высшее экономическое образование;...НИЯ: <br /> - обязательно высшее или незаконченное высшее экономическое образование;...НИЯ: <br /> - обязательно высшее или незаконченное высшее экономическое образование;...НИЯ: <br /> - обязательно высшее или незаконченное высшее экономическое образование;...НИЯ: <br /> - обязательно высшее или незаконченное высшее экономическое образование;...НИЯ: <br /> - обязательно высшее или незаконченное высшее экономическое образование;...НИЯ: <br /> - обязательно высшее или незаконченное высшее экономическое образование;...\"\n",
    "print(tokenize(to_base_form(remove_garbage(str_test), is_lemming=False)))"
   ]
  },
  {
   "cell_type": "markdown",
   "id": "236d0a7b",
   "metadata": {},
   "source": [
    "РЕАЛИЗОВАТЬ `remove_stop_words`\n",
    "\n",
    "Используйте stopwords из nltk.corpus \n",
    "\n",
    "- IN: list ['требования', ':', '-', 'обязательно', 'высший', 'или', 'незаконченный', 'высший', 'экономический', 'образование']\n",
    "- OUT: list ['требование', 'обязательно', 'высший', 'незаконченный', 'высший', 'экономический', 'образование']"
   ]
  },
  {
   "cell_type": "code",
   "execution_count": 37,
   "id": "18697334",
   "metadata": {},
   "outputs": [],
   "source": [
    "import string"
   ]
  },
  {
   "cell_type": "code",
   "execution_count": 38,
   "id": "03081af9",
   "metadata": {},
   "outputs": [],
   "source": [
    "def remove_stop_words(raw_text):\n",
    "    text_without_ru_stop = list(filter(lambda word: word not in stopwords.words('russian'), raw_text))\n",
    "    text_without_ru_en_stop = list(filter(lambda word: word not in stopwords.words('english'), text_without_ru_stop))\n",
    "    text = list(filter(lambda word: word not in string.punctuation, text_without_ru_en_stop))\n",
    "    return text"
   ]
  },
  {
   "cell_type": "code",
   "execution_count": 66,
   "id": "e41e9da9",
   "metadata": {
    "scrolled": true
   },
   "outputs": [
    {
     "name": "stdout",
     "output_type": "stream",
     "text": [
      "['требования', 'обязательно', 'высший', 'незаконченный', 'высший', 'экономический', 'образование']\n",
      "['Hello', 'brothers']\n"
     ]
    }
   ],
   "source": [
    "print(remove_stop_words(tokenize(\"требования : - обязательно высший или незаконченный высший экономический образование\")))\n",
    "print(remove_stop_words(tokenize(\"Hello me and / or my brothers!\")))"
   ]
  },
  {
   "cell_type": "markdown",
   "id": "b4ca66d3",
   "metadata": {},
   "source": [
    "РЕАЛИЗОВАТЬ `get_prepared_vacancy_description_from_hh`\n",
    "\n",
    "Используйте реализованные ранее методы\n",
    "\n",
    "- IN: int 72323\n",
    "- OUT1: str vacancy_json dump\n",
    "- OUT2: list[list] [['требование', 'обязательно', 'высший', 'незаконченный', 'высший', 'экономический', 'образование', ...], [...], ...]"
   ]
  },
  {
   "cell_type": "code",
   "execution_count": 40,
   "id": "14ac0a54",
   "metadata": {},
   "outputs": [],
   "source": [
    "def get_description_from_string(json_str):\n",
    "    regexp = r'\\'description\\': \\'([^\\']*)\\''\n",
    "    match = re.search(regexp, str(json_str))\n",
    "    return match.group(1) if match else \"\""
   ]
  },
  {
   "cell_type": "code",
   "execution_count": 41,
   "id": "f5e87658",
   "metadata": {},
   "outputs": [
    {
     "data": {
      "text/plain": [
       "'<p>ТРЕБОВАНИЯ: <br />- обязательно высшее или незаконченное высшее экономическое образование; <br />- уверенный пользователь ПК; <br />- приветствуется знание программ 1С на уровне пользователя и/или основ бухгалтерского учета; <br />- готовность заниматься продвижением программных продуктов 1С. </p><p>ОБЯЗАННОСТИ: <br />Выезд к заказчику на демонстрацию программного обеспечения,<br />осуществление продаж, поддержка клиентской базы. <br />Поиск клиентов в обязанности не входит. <br />Офисно-разъездной характер работы, возможен гибкий график, неполный рабочий день (но не менее 3,5-4 дней в неделю). </p><p>УСЛОВИЯ: <br />Начальное обучение и стажировка, <br />зарплата – оклад от $ 200 + %, перспективы роста. </p><p>Высылая резюме, ОБЯЗАТЕЛЬНО укажите название вакансии в теме письма. </p>'"
      ]
     },
     "execution_count": 41,
     "metadata": {},
     "output_type": "execute_result"
    }
   ],
   "source": [
    "get_description_from_string(\"{'id': '72323', 'premium': False, 'billing_type': {'id': 'standard', 'name': 'Стандарт'}, 'relations': [], 'name': 'Консультант в отдел продаж 1С', 'insider_interview': None, 'response_letter_required': True, 'area': {'id': '2', 'name': 'Санкт-Петербург', 'url': 'https://api.hh.ru/areas/2'}, 'salary': None, 'type': {'id': 'open', 'name': 'Открытая'}, 'address': None, 'allow_messages': True, 'site': {'id': 'hh', 'name': 'hh.ru'}, 'experience': {'id': 'noExperience', 'name': 'Нет опыта'}, 'schedule': {'id': 'fullDay', 'name': 'Полный день'}, 'employment': {'id': 'full', 'name': 'Полная занятость'}, 'department': None, 'contacts': None, 'description': '<p>ТРЕБОВАНИЯ: <br />- обязательно высшее или незаконченное высшее экономическое образование; <br />- уверенный пользователь ПК; <br />- приветствуется знание программ 1С на уровне пользователя и/или основ бухгалтерского учета; <br />- готовность заниматься продвижением программных продуктов 1С. </p><p>ОБЯЗАННОСТИ: <br />Выезд к заказчику на демонстрацию программного обеспечения,<br />осуществление продаж, поддержка клиентской базы. <br />Поиск клиентов в обязанности не входит. <br />Офисно-разъездной характер работы, возможен гибкий график, неполный рабочий день (но не менее 3,5-4 дней в неделю). </p><p>УСЛОВИЯ: <br />Начальное обучение и стажировка, <br />зарплата – оклад от $ 200 + %, перспективы роста. </p><p>Высылая резюме, ОБЯЗАТЕЛЬНО укажите название вакансии в теме письма. </p>', 'branded_description': None, 'vacancy_constructor_template': None, 'key_skills': [], 'accept_handicapped': False, 'accept_kids': False, 'archived': True, 'response_url': None, 'specializations': [{'id': '2.43', 'name': 'Бухгалтер', 'profarea_id': '2', 'profarea_name': 'Бухгалтерия, управленческий учет, финансы предприятия'}, {'id': '2.179', 'name': 'Начальный уровень, Мало опыта', 'profarea_id': '2', 'profarea_name': 'Бухгалтерия, управленческий учет, финансы предприятия'}, {'id': '1.225', 'name': 'Продажи', 'profarea_id': '1', 'profarea_name': 'Информационные технологии, интернет, телеком'}], 'professional_roles': [], 'code': None, 'hidden': False, 'quick_responses_allowed': False, 'driver_license_types': [], 'accept_incomplete_resumes': False, 'employer': {'id': '3177', 'name': 'Первый Бит', 'url': 'https://api.hh.ru/employers/3177', 'alternate_url': 'https://hh.ru/employer/3177', 'logo_urls': {'original': 'https://hhcdn.ru/employer-logo-original/635336.png', '90': 'https://hhcdn.ru/employer-logo/2982496.png', '240': 'https://hhcdn.ru/employer-logo/2982497.png'}, 'vacancies_url': 'https://api.hh.ru/vacancies?employer_id=3177', 'trusted': True}, 'published_at': '2004-10-27T11:42:35+0400', 'created_at': '2004-10-27T11:42:35+0400', 'negotiations_url': None, 'suitable_resumes_url': None, 'apply_alternate_url': 'https://hh.ru/applicant/vacancy_response?vacancyId=72323', 'has_test': False, 'test': None, 'alternate_url': 'https://hh.ru/vacancy/72323', 'working_days': [], 'working_time_intervals': [], 'working_time_modes': [], 'accept_temporary': False}\")"
   ]
  },
  {
   "cell_type": "code",
   "execution_count": 42,
   "id": "6aba998a",
   "metadata": {},
   "outputs": [],
   "source": [
    "def get_prepared_vacancy_description(vacancy_description, is_lemming=True):\n",
    "    vacancy_description_sentences = vacancy_description.split(\".\") # получить лист предложений из вакансии\n",
    "    prepared_vacancy_description = []\n",
    "    for sentence in vacancy_description_sentences:\n",
    "        sentense_no_garbage = remove_garbage(sentence)\n",
    "        tokens = tokenize(to_base_form(sentense_no_garbage, is_lemming=is_lemming))\n",
    "        prepared_vacancy_description += remove_stop_words(tokens)\n",
    "    return prepared_vacancy_description"
   ]
  },
  {
   "cell_type": "code",
   "execution_count": 43,
   "id": "26ec5eff",
   "metadata": {},
   "outputs": [],
   "source": [
    "def get_prepared_vacancy_from_base_string(vacancy_json, is_lemming=True):\n",
    "    vacancy_description = get_description_from_string(vacancy_json) # получить описание вакансии из json\n",
    "    prepared_vacancy_description = get_prepared_vacancy_description(vacancy_description, is_lemming=is_lemming)\n",
    "    return vacancy_json, prepared_vacancy_description"
   ]
  },
  {
   "cell_type": "code",
   "execution_count": 44,
   "id": "2fa2c998",
   "metadata": {},
   "outputs": [],
   "source": [
    "def get_prepared_vacancy_from_hh(vacancy_id, is_lemming=True):\n",
    "    base_url = 'https://api.hh.ru/vacancies/'\n",
    "    vacancy_json = download_json(base_url + str(vacancy_id))\n",
    "    str_json = asyncio.run(asyncio.gather(vacancy_json))[0]\n",
    "    return get_prepared_vacancy_from_base_string(str_json, is_lemming=is_lemming)"
   ]
  },
  {
   "cell_type": "code",
   "execution_count": 45,
   "id": "1f61e332",
   "metadata": {},
   "outputs": [
    {
     "data": {
      "text/plain": [
       "(\"{'id': '72323', 'premium': False, 'billing_type': {'id': 'standard', 'name': 'Стандарт'}, 'relations': [], 'name': 'Консультант в отдел продаж 1С', 'insider_interview': None, 'response_letter_required': True, 'area': {'id': '2', 'name': 'Санкт-Петербург', 'url': 'https://api.hh.ru/areas/2'}, 'salary': None, 'type': {'id': 'open', 'name': 'Открытая'}, 'address': None, 'allow_messages': True, 'site': {'id': 'hh', 'name': 'hh.ru'}, 'experience': {'id': 'noExperience', 'name': 'Нет опыта'}, 'schedule': {'id': 'fullDay', 'name': 'Полный день'}, 'employment': {'id': 'full', 'name': 'Полная занятость'}, 'department': None, 'contacts': None, 'description': '<p>ТРЕБОВАНИЯ: <br />- обязательно высшее или незаконченное высшее экономическое образование; <br />- уверенный пользователь ПК; <br />- приветствуется знание программ 1С на уровне пользователя и/или основ бухгалтерского учета; <br />- готовность заниматься продвижением программных продуктов 1С. </p><p>ОБЯЗАННОСТИ: <br />Выезд к заказчику на демонстрацию программного обеспечения,<br />осуществление продаж, поддержка клиентской базы. <br />Поиск клиентов в обязанности не входит. <br />Офисно-разъездной характер работы, возможен гибкий график, неполный рабочий день (но не менее 3,5-4 дней в неделю). </p><p>УСЛОВИЯ: <br />Начальное обучение и стажировка, <br />зарплата – оклад от $ 200 + %, перспективы роста. </p><p>Высылая резюме, ОБЯЗАТЕЛЬНО укажите название вакансии в теме письма. </p>', 'branded_description': None, 'vacancy_constructor_template': None, 'key_skills': [], 'accept_handicapped': False, 'accept_kids': False, 'archived': True, 'response_url': None, 'specializations': [{'id': '2.43', 'name': 'Бухгалтер', 'profarea_id': '2', 'profarea_name': 'Бухгалтерия, управленческий учет, финансы предприятия'}, {'id': '2.179', 'name': 'Начальный уровень, Мало опыта', 'profarea_id': '2', 'profarea_name': 'Бухгалтерия, управленческий учет, финансы предприятия'}, {'id': '1.225', 'name': 'Продажи', 'profarea_id': '1', 'profarea_name': 'Информационные технологии, интернет, телеком'}], 'professional_roles': [], 'code': None, 'hidden': False, 'quick_responses_allowed': False, 'driver_license_types': [], 'accept_incomplete_resumes': False, 'employer': {'id': '3177', 'name': 'Первый Бит', 'url': 'https://api.hh.ru/employers/3177', 'alternate_url': 'https://hh.ru/employer/3177', 'logo_urls': {'original': 'https://hhcdn.ru/employer-logo-original/635336.png', '90': 'https://hhcdn.ru/employer-logo/2982496.png', '240': 'https://hhcdn.ru/employer-logo/2982497.png'}, 'vacancies_url': 'https://api.hh.ru/vacancies?employer_id=3177', 'trusted': True}, 'published_at': '2004-10-27T11:42:35+0400', 'created_at': '2004-10-27T11:42:35+0400', 'negotiations_url': None, 'suitable_resumes_url': None, 'apply_alternate_url': 'https://hh.ru/applicant/vacancy_response?vacancyId=72323', 'has_test': False, 'test': None, 'alternate_url': 'https://hh.ru/vacancy/72323', 'working_days': [], 'working_time_intervals': [], 'working_time_modes': [], 'accept_temporary': False}\",\n",
       " ['требования',\n",
       "  'обязательно',\n",
       "  'высшее',\n",
       "  'незаконченное',\n",
       "  'высшее',\n",
       "  'экономическое',\n",
       "  'образование',\n",
       "  'уверенный',\n",
       "  'пользователь',\n",
       "  'пк',\n",
       "  'приветствуется',\n",
       "  'знание',\n",
       "  'программ',\n",
       "  '1с',\n",
       "  'уровне',\n",
       "  'пользователя',\n",
       "  'и/или',\n",
       "  'основ',\n",
       "  'бухгалтерского',\n",
       "  'учета',\n",
       "  'готовность',\n",
       "  'заниматься',\n",
       "  'продвижением',\n",
       "  'программных',\n",
       "  'продуктов',\n",
       "  '1с',\n",
       "  'обязанности',\n",
       "  'выезд',\n",
       "  'заказчику',\n",
       "  'демонстрацию',\n",
       "  'программного',\n",
       "  'обеспечения',\n",
       "  'осуществление',\n",
       "  'продаж',\n",
       "  'поддержка',\n",
       "  'клиентской',\n",
       "  'базы',\n",
       "  'поиск',\n",
       "  'клиентов',\n",
       "  'обязанности',\n",
       "  'входит',\n",
       "  'офисно-разъездной',\n",
       "  'характер',\n",
       "  'работы',\n",
       "  'возможен',\n",
       "  'гибкий',\n",
       "  'график',\n",
       "  'неполный',\n",
       "  'рабочий',\n",
       "  'день',\n",
       "  'менее',\n",
       "  '3,5-4',\n",
       "  'дней',\n",
       "  'неделю',\n",
       "  'условия',\n",
       "  'начальное',\n",
       "  'обучение',\n",
       "  'стажировка',\n",
       "  'зарплата',\n",
       "  '–',\n",
       "  'оклад',\n",
       "  '200',\n",
       "  'перспективы',\n",
       "  'роста',\n",
       "  'высылая',\n",
       "  'резюме',\n",
       "  'обязательно',\n",
       "  'укажите',\n",
       "  'название',\n",
       "  'вакансии',\n",
       "  'теме',\n",
       "  'письма'])"
      ]
     },
     "execution_count": 45,
     "metadata": {},
     "output_type": "execute_result"
    }
   ],
   "source": [
    "get_prepared_vacancy_from_hh(72323, is_lemming=False)"
   ]
  },
  {
   "cell_type": "markdown",
   "id": "06f2404e",
   "metadata": {},
   "source": [
    "РЕАЛИЗОВАТЬ `get_prepared_all_vacancies_from_hh`\n",
    "\n",
    "Используйте `get_prepared_vacancy_from_hh` и `ThreadPoolExecutor` из `concurrent.futures`\n",
    "\n",
    "- IN: list [int]\n",
    "- OUT: list [vacancy_id, raw_description, prepared_description]"
   ]
  },
  {
   "cell_type": "code",
   "execution_count": 46,
   "id": "d60b6884",
   "metadata": {},
   "outputs": [],
   "source": [
    "def get_prepared_all_vacancies_from_hh(vacancy_ids, is_lemming=True):\n",
    "    return [get_prepared_vacancy_from_hh(vacancy_id, is_lemming=is_lemming) for vacancy_id in vacancy_ids]"
   ]
  },
  {
   "cell_type": "code",
   "execution_count": 48,
   "id": "1fb5781f",
   "metadata": {},
   "outputs": [
    {
     "data": {
      "text/plain": [
       "[(\"{'id': '72323', 'premium': False, 'billing_type': {'id': 'standard', 'name': 'Стандарт'}, 'relations': [], 'name': 'Консультант в отдел продаж 1С', 'insider_interview': None, 'response_letter_required': True, 'area': {'id': '2', 'name': 'Санкт-Петербург', 'url': 'https://api.hh.ru/areas/2'}, 'salary': None, 'type': {'id': 'open', 'name': 'Открытая'}, 'address': None, 'allow_messages': True, 'site': {'id': 'hh', 'name': 'hh.ru'}, 'experience': {'id': 'noExperience', 'name': 'Нет опыта'}, 'schedule': {'id': 'fullDay', 'name': 'Полный день'}, 'employment': {'id': 'full', 'name': 'Полная занятость'}, 'department': None, 'contacts': None, 'description': '<p>ТРЕБОВАНИЯ: <br />- обязательно высшее или незаконченное высшее экономическое образование; <br />- уверенный пользователь ПК; <br />- приветствуется знание программ 1С на уровне пользователя и/или основ бухгалтерского учета; <br />- готовность заниматься продвижением программных продуктов 1С. </p><p>ОБЯЗАННОСТИ: <br />Выезд к заказчику на демонстрацию программного обеспечения,<br />осуществление продаж, поддержка клиентской базы. <br />Поиск клиентов в обязанности не входит. <br />Офисно-разъездной характер работы, возможен гибкий график, неполный рабочий день (но не менее 3,5-4 дней в неделю). </p><p>УСЛОВИЯ: <br />Начальное обучение и стажировка, <br />зарплата – оклад от $ 200 + %, перспективы роста. </p><p>Высылая резюме, ОБЯЗАТЕЛЬНО укажите название вакансии в теме письма. </p>', 'branded_description': None, 'vacancy_constructor_template': None, 'key_skills': [], 'accept_handicapped': False, 'accept_kids': False, 'archived': True, 'response_url': None, 'specializations': [{'id': '2.43', 'name': 'Бухгалтер', 'profarea_id': '2', 'profarea_name': 'Бухгалтерия, управленческий учет, финансы предприятия'}, {'id': '2.179', 'name': 'Начальный уровень, Мало опыта', 'profarea_id': '2', 'profarea_name': 'Бухгалтерия, управленческий учет, финансы предприятия'}, {'id': '1.225', 'name': 'Продажи', 'profarea_id': '1', 'profarea_name': 'Информационные технологии, интернет, телеком'}], 'professional_roles': [], 'code': None, 'hidden': False, 'quick_responses_allowed': False, 'driver_license_types': [], 'accept_incomplete_resumes': False, 'employer': {'id': '3177', 'name': 'Первый Бит', 'url': 'https://api.hh.ru/employers/3177', 'alternate_url': 'https://hh.ru/employer/3177', 'logo_urls': {'original': 'https://hhcdn.ru/employer-logo-original/635336.png', '90': 'https://hhcdn.ru/employer-logo/2982496.png', '240': 'https://hhcdn.ru/employer-logo/2982497.png'}, 'vacancies_url': 'https://api.hh.ru/vacancies?employer_id=3177', 'trusted': True}, 'published_at': '2004-10-27T11:42:35+0400', 'created_at': '2004-10-27T11:42:35+0400', 'negotiations_url': None, 'suitable_resumes_url': None, 'apply_alternate_url': 'https://hh.ru/applicant/vacancy_response?vacancyId=72323', 'has_test': False, 'test': None, 'alternate_url': 'https://hh.ru/vacancy/72323', 'working_days': [], 'working_time_intervals': [], 'working_time_modes': [], 'accept_temporary': False}\",\n",
       "  ['требования',\n",
       "   'обязательно',\n",
       "   'высшее',\n",
       "   'незаконченное',\n",
       "   'высшее',\n",
       "   'экономическое',\n",
       "   'образование',\n",
       "   'уверенный',\n",
       "   'пользователь',\n",
       "   'пк',\n",
       "   'приветствуется',\n",
       "   'знание',\n",
       "   'программ',\n",
       "   '1с',\n",
       "   'уровне',\n",
       "   'пользователя',\n",
       "   'и/или',\n",
       "   'основ',\n",
       "   'бухгалтерского',\n",
       "   'учета',\n",
       "   'готовность',\n",
       "   'заниматься',\n",
       "   'продвижением',\n",
       "   'программных',\n",
       "   'продуктов',\n",
       "   '1с',\n",
       "   'обязанности',\n",
       "   'выезд',\n",
       "   'заказчику',\n",
       "   'демонстрацию',\n",
       "   'программного',\n",
       "   'обеспечения',\n",
       "   'осуществление',\n",
       "   'продаж',\n",
       "   'поддержка',\n",
       "   'клиентской',\n",
       "   'базы',\n",
       "   'поиск',\n",
       "   'клиентов',\n",
       "   'обязанности',\n",
       "   'входит',\n",
       "   'офисно-разъездной',\n",
       "   'характер',\n",
       "   'работы',\n",
       "   'возможен',\n",
       "   'гибкий',\n",
       "   'график',\n",
       "   'неполный',\n",
       "   'рабочий',\n",
       "   'день',\n",
       "   'менее',\n",
       "   '3,5-4',\n",
       "   'дней',\n",
       "   'неделю',\n",
       "   'условия',\n",
       "   'начальное',\n",
       "   'обучение',\n",
       "   'стажировка',\n",
       "   'зарплата',\n",
       "   '–',\n",
       "   'оклад',\n",
       "   '200',\n",
       "   'перспективы',\n",
       "   'роста',\n",
       "   'высылая',\n",
       "   'резюме',\n",
       "   'обязательно',\n",
       "   'укажите',\n",
       "   'название',\n",
       "   'вакансии',\n",
       "   'теме',\n",
       "   'письма']),\n",
       " (None, []),\n",
       " (\"{'id': '72325', 'premium': False, 'billing_type': {'id': 'standard', 'name': 'Стандарт'}, 'relations': [], 'name': 'Финансовый директор крупного производственного предприятия', 'insider_interview': None, 'response_letter_required': False, 'area': {'id': '78', 'name': 'Самара', 'url': 'https://api.hh.ru/areas/78'}, 'salary': {'from': None, 'to': 5000, 'currency': 'USD', 'gross': None}, 'type': {'id': 'open', 'name': 'Открытая'}, 'address': None, 'allow_messages': True, 'site': {'id': 'hh', 'name': 'hh.ru'}, 'experience': {'id': 'between3And6', 'name': 'От 3 до 6 лет'}, 'schedule': {'id': 'fullDay', 'name': 'Полный день'}, 'employment': {'id': 'full', 'name': 'Полная занятость'}, 'department': None, 'contacts': None, 'description': '<p>В крупную производственную компанию приглашается Финансовый директор. </p><p>Основные обязанности: <br />работа с кредитными организациями, <br />проектное финансирование, <br />планирование финансовых потоков, <br />разработка и анализ финансовых показателей деятельности предприятия,<br />постановка управленческой и финансовой отчетности.</p><p>Требования: <br />25-45 лет, <br />высшее образование, <br />опыт работы в аналогичной должности - от 3-5 лет.</p><p>Место работы: г.Самара.</p>', 'branded_description': None, 'vacancy_constructor_template': None, 'key_skills': [], 'accept_handicapped': False, 'accept_kids': False, 'archived': True, 'response_url': None, 'specializations': [{'id': '18.13', 'name': 'Авиационная промышленность', 'profarea_id': '18', 'profarea_name': 'Производство, сельское хозяйство'}, {'id': '9.238', 'name': 'Производство, Технология', 'profarea_id': '9', 'profarea_name': 'Высший менеджмент'}, {'id': '9.345', 'name': 'Финансы', 'profarea_id': '9', 'profarea_name': 'Высший менеджмент'}, {'id': '2.344', 'name': 'Финансовый менеджмент', 'profarea_id': '2', 'profarea_name': 'Бухгалтерия, управленческий учет, финансы предприятия'}], 'professional_roles': [{'id': '137', 'name': 'Финансовый менеджер'}], 'code': None, 'hidden': False, 'quick_responses_allowed': False, 'driver_license_types': [], 'accept_incomplete_resumes': False, 'employer': {'id': '175', 'name': 'Генерация (Generation Invest)', 'url': 'https://api.hh.ru/employers/175', 'alternate_url': 'https://hh.ru/employer/175', 'logo_urls': None, 'vacancies_url': 'https://api.hh.ru/vacancies?employer_id=175', 'trusted': True}, 'published_at': '2004-09-27T15:39:30+0400', 'created_at': '2004-09-27T15:39:30+0400', 'negotiations_url': None, 'suitable_resumes_url': None, 'apply_alternate_url': 'https://hh.ru/applicant/vacancy_response?vacancyId=72325', 'has_test': False, 'test': None, 'alternate_url': 'https://hh.ru/vacancy/72325', 'working_days': [], 'working_time_intervals': [], 'working_time_modes': [], 'accept_temporary': False}\",\n",
       "  ['крупную',\n",
       "   'производственную',\n",
       "   'компанию',\n",
       "   'приглашается',\n",
       "   'финансовый',\n",
       "   'директор',\n",
       "   'основные',\n",
       "   'обязанности',\n",
       "   'работа',\n",
       "   'кредитными',\n",
       "   'организациями',\n",
       "   'проектное',\n",
       "   'финансирование',\n",
       "   'планирование',\n",
       "   'финансовых',\n",
       "   'потоков',\n",
       "   'разработка',\n",
       "   'анализ',\n",
       "   'финансовых',\n",
       "   'показателей',\n",
       "   'деятельности',\n",
       "   'предприятия',\n",
       "   'постановка',\n",
       "   'управленческой',\n",
       "   'финансовой',\n",
       "   'отчетности',\n",
       "   'требования',\n",
       "   '25-45',\n",
       "   'лет',\n",
       "   'высшее',\n",
       "   'образование',\n",
       "   'опыт',\n",
       "   'работы',\n",
       "   'аналогичной',\n",
       "   'должности',\n",
       "   '3-5',\n",
       "   'лет',\n",
       "   'место',\n",
       "   'работы',\n",
       "   'г',\n",
       "   'самара'])]"
      ]
     },
     "execution_count": 48,
     "metadata": {},
     "output_type": "execute_result"
    }
   ],
   "source": [
    "get_prepared_all_vacancies_from_hh(range(72323, 72326), is_lemming=False)"
   ]
  },
  {
   "cell_type": "markdown",
   "id": "faa06df9",
   "metadata": {},
   "source": [
    "## Формирование и обработка датасета"
   ]
  },
  {
   "cell_type": "code",
   "execution_count": 9,
   "id": "7ba722c0",
   "metadata": {},
   "outputs": [],
   "source": [
    "async def download_json(url):\n",
    "    async with aiohttp.ClientSession() as session:\n",
    "        async with session.get(url) as response:\n",
    "            if response.status == 200:\n",
    "                data_json = str(json.loads(await response.text()))\n",
    "                return data_json\n",
    "            else:\n",
    "                return None\n",
    "\n",
    "# пример: download_json('https://api.hh.ru/vacancies/43551857')"
   ]
  },
  {
   "cell_type": "markdown",
   "id": "0f91bb0c",
   "metadata": {},
   "source": [
    "Получим объект типа `concurrent` - для дальнейшего вызова его в основном методе"
   ]
  },
  {
   "cell_type": "code",
   "execution_count": 10,
   "id": "05445fc7",
   "metadata": {},
   "outputs": [],
   "source": [
    "def get_jsons_vacansions(n_vacancy, from_vacancy=1, path='https://api.hh.ru/vacancies/', verbose=False):\n",
    "    # Download vacancies\n",
    "    return [download_json(path + str(id)) for id in range(from_vacancy, from_vacancy + n_vacancy)]"
   ]
  },
  {
   "cell_type": "markdown",
   "id": "57d488f8",
   "metadata": {},
   "source": [
    "Собственно, получение JSON-чиков по списку - стартует одновременно, получение асинхронно"
   ]
  },
  {
   "cell_type": "code",
   "execution_count": 100,
   "id": "b8a62193",
   "metadata": {},
   "outputs": [],
   "source": [
    "def find_save_vacancies(df=None, n_vacancy=1, from_vacancy=1, jsons=[], name='vacancy.csv', verbose=False):\n",
    "    if df is None:\n",
    "        try:\n",
    "            df = pd.read_csv(name)\n",
    "        except FileNotFoundError:\n",
    "            df = pd.DataFrame({\n",
    "                'vacancy_id': [],\n",
    "                'json': [],\n",
    "                'description': [],\n",
    "                'tokens': []\n",
    "            })\n",
    "    current_ids = df.vacancy_id\n",
    "    if verbose:\n",
    "        print('Length before download: {}'.format(df.shape[0]))\n",
    "    paths_jsons = get_jsons_vacansions(n_vacancy, from_vacancy=from_vacancy)\n",
    "    paths_jsons = list(filter(lambda x: x not in current_ids, paths_jsons))\n",
    "    jsons = asyncio.run(asyncio.gather(*paths_jsons))\n",
    "    # Убираем значения, где получен пустой json\n",
    "    jsons = list(filter(lambda x: x is not None, jsons))\n",
    "    # Получаем описание и токен\n",
    "    descriptions = [get_description_from_string(s) for s in jsons]\n",
    "    tokens = [' '.join(get_prepared_vacancy_description(description, is_lemming=False)) for description in descriptions]\n",
    "    values = [{'vacancy_id': vacancy_id, 'json': json, 'description': description, 'tokens': token} \n",
    "              for vacancy_id, json, description, token in \n",
    "              zip(range(from_vacancy, from_vacancy + n_vacancy), jsons, descriptions, tokens)]\n",
    "    # Оставляем только тексты с русским языком\n",
    "    filtered_ru_values = list(filter(lambda x: detect(x['tokens']) == 'ru', values))\n",
    "    df = df.append(filtered_ru_values, ignore_index=True)\n",
    "    # Drop duplicates if exists (unnecessary)\n",
    "    # df = df.drop_duplicates()\n",
    "    if verbose:\n",
    "        print('Length after download: {}'.format(df.shape[0]))\n",
    "    df.to_csv(name, index=False)\n",
    "    return df"
   ]
  },
  {
   "cell_type": "markdown",
   "id": "2cc56523",
   "metadata": {},
   "source": [
    "Инициализируем датасет"
   ]
  },
  {
   "cell_type": "code",
   "execution_count": 101,
   "id": "07f6cf68",
   "metadata": {},
   "outputs": [],
   "source": [
    "df = None"
   ]
  },
  {
   "cell_type": "markdown",
   "id": "2a1b1b49",
   "metadata": {},
   "source": [
    "Параметры получения JSON-чиков:\n",
    "- `start_id` - id с которого начинаем получать вакансии\n",
    "- `CUR_NUM` - по сути, сколько объектов уже получили по всем итерациям\n",
    "- `NUM_TO_TAKE` - число объектов, которые получаем в данной операции\n",
    "\n",
    "Особенности работы:\n",
    "- Код выполняется [асинхронно](https://docs.python.org/3/library/asyncio.html)\n",
    "- Код выполняется [параллельно](https://ru.stackoverflow.com/a/1302518/455418)\n",
    "- Обрабатываются только ответы с кодом 200 (`OK`)\n",
    "- За проход получает малое число объектов (около сотни), поэтому рекомендуется либо ставить малое число `NUM_TO_TAKE`, либо перезапускать несколько раз. За перезапуск отвечает цикл. Уже полученные строки не пытается получить повторно.\n",
    "\n",
    "**ВНИМАНИЕ** общее число новых объектов может быть меньше `NUM_TO_TAKE` - в случае, если один или несколько ответов будут с кодом, отлиным от 200 (`OK`)\n",
    "\n",
    "**ВНИМАНИЕ** `CUR_NUM` менять вручную\n",
    "\n",
    "**ВНИМАНИЕ** До перезапуска датафрейм необходимо скачать, после перезапуска - загрузить в `Файлы`"
   ]
  },
  {
   "cell_type": "markdown",
   "id": "9b2e62fd",
   "metadata": {},
   "source": [
    "ПЕРЕЗАПУСКАТЬ ТУТ"
   ]
  },
  {
   "cell_type": "code",
   "execution_count": 109,
   "id": "454d3788",
   "metadata": {},
   "outputs": [
    {
     "name": "stdout",
     "output_type": "stream",
     "text": [
      "<class 'pandas.core.frame.DataFrame'>\n",
      "RangeIndex: 10388 entries, 0 to 10387\n",
      "Data columns (total 4 columns):\n",
      " #   Column       Non-Null Count  Dtype  \n",
      "---  ------       --------------  -----  \n",
      " 0   vacancy_id   10388 non-null  float64\n",
      " 1   json         10388 non-null  object \n",
      " 2   description  10388 non-null  object \n",
      " 3   tokens       10388 non-null  object \n",
      "dtypes: float64(1), object(3)\n",
      "memory usage: 324.8+ KB\n"
     ]
    }
   ],
   "source": [
    "start_id = 33551857\n",
    "CUR_NUM = 35600\n",
    "NUM_TO_TAKE = 200\n",
    "for i in range(3):\n",
    "    df = find_save_vacancies(df=df, name=name, n_vacancy=NUM_TO_TAKE, from_vacancy=start_id + CUR_NUM)\n",
    "    CUR_NUM += NUM_TO_TAKE\n",
    "df.info()"
   ]
  },
  {
   "cell_type": "code",
   "execution_count": 110,
   "id": "6b8c1c2e",
   "metadata": {},
   "outputs": [
    {
     "data": {
      "text/plain": [
       "36200"
      ]
     },
     "execution_count": 110,
     "metadata": {},
     "output_type": "execute_result"
    }
   ],
   "source": [
    "CUR_NUM"
   ]
  },
  {
   "cell_type": "markdown",
   "id": "46e3c6c2",
   "metadata": {},
   "source": [
    "Получим 10000 объектов датасета и сохраним их"
   ]
  },
  {
   "cell_type": "code",
   "execution_count": 119,
   "id": "99d0227f",
   "metadata": {},
   "outputs": [],
   "source": [
    "df = df.reset_index(drop=True)\n",
    "df = df.drop_duplicates()\n",
    "df = df.reset_index(drop=True)\n",
    "if df.shape[0] > 10000:\n",
    "    df = df.drop(range(10000, df.shape[0]))"
   ]
  },
  {
   "cell_type": "code",
   "execution_count": 120,
   "id": "c2aa3d65",
   "metadata": {},
   "outputs": [
    {
     "data": {
      "text/html": [
       "<div>\n",
       "<style scoped>\n",
       "    .dataframe tbody tr th:only-of-type {\n",
       "        vertical-align: middle;\n",
       "    }\n",
       "\n",
       "    .dataframe tbody tr th {\n",
       "        vertical-align: top;\n",
       "    }\n",
       "\n",
       "    .dataframe thead th {\n",
       "        text-align: right;\n",
       "    }\n",
       "</style>\n",
       "<table border=\"1\" class=\"dataframe\">\n",
       "  <thead>\n",
       "    <tr style=\"text-align: right;\">\n",
       "      <th></th>\n",
       "      <th>vacancy_id</th>\n",
       "      <th>json</th>\n",
       "      <th>description</th>\n",
       "      <th>tokens</th>\n",
       "    </tr>\n",
       "  </thead>\n",
       "  <tbody>\n",
       "    <tr>\n",
       "      <th>0</th>\n",
       "      <td>33551858.0</td>\n",
       "      <td>{'id': '33551858', 'premium': False, 'billing_...</td>\n",
       "      <td>&lt;p&gt; &lt;/p&gt; &lt;p&gt;Приглашаем на серьёзную ответствен...</td>\n",
       "      <td>приглаша серьезн ответствен работ приветств ли...</td>\n",
       "    </tr>\n",
       "    <tr>\n",
       "      <th>1</th>\n",
       "      <td>33551859.0</td>\n",
       "      <td>{'id': '33551859', 'premium': False, 'billing_...</td>\n",
       "      <td>&lt;p&gt;&lt;strong&gt;&lt;em&gt;Департамент управления барами –...</td>\n",
       "      <td>департамент управлен бар – « вкусн » подраздел...</td>\n",
       "    </tr>\n",
       "    <tr>\n",
       "      <th>2</th>\n",
       "      <td>33551860.0</td>\n",
       "      <td>{'id': '33551860', 'premium': False, 'billing_...</td>\n",
       "      <td>&lt;p&gt;«Сеть фитнес клубов ФизКульт является призн...</td>\n",
       "      <td>« сет фитнес клуб физкульт явля призна лидер ф...</td>\n",
       "    </tr>\n",
       "    <tr>\n",
       "      <th>3</th>\n",
       "      <td>33551861.0</td>\n",
       "      <td>{'id': '33551861', 'premium': False, 'billing_...</td>\n",
       "      <td>&lt;p&gt;&lt;strong&gt;Должностные обязанности:&lt;/strong&gt;&lt;/...</td>\n",
       "      <td>должностн обязан • осуществлен расчетно-кассов...</td>\n",
       "    </tr>\n",
       "    <tr>\n",
       "      <th>4</th>\n",
       "      <td>33551862.0</td>\n",
       "      <td>{'id': '33551862', 'premium': False, 'billing_...</td>\n",
       "      <td>&lt;p&gt;&lt;strong&gt;Обязанности:&lt;/strong&gt;&lt;/p&gt; &lt;ul&gt; &lt;li&gt;...</td>\n",
       "      <td>обязан амбулаторно-поликлиническ требован нали...</td>\n",
       "    </tr>\n",
       "    <tr>\n",
       "      <th>...</th>\n",
       "      <td>...</td>\n",
       "      <td>...</td>\n",
       "      <td>...</td>\n",
       "      <td>...</td>\n",
       "    </tr>\n",
       "    <tr>\n",
       "      <th>9995</th>\n",
       "      <td>33587501.0</td>\n",
       "      <td>{'id': '33587505', 'premium': False, 'billing_...</td>\n",
       "      <td>&lt;p&gt;&lt;em&gt;&lt;strong&gt;ИТАЛЬЯНСКАЯ ОБУВНАЯ ФАБРИКА МИЗ...</td>\n",
       "      <td>итальянск обувн фабрик мизр групп ищет рабоч о...</td>\n",
       "    </tr>\n",
       "    <tr>\n",
       "      <th>9996</th>\n",
       "      <td>33587502.0</td>\n",
       "      <td>{'id': '33587506', 'premium': False, 'billing_...</td>\n",
       "      <td>&lt;p&gt;В ООО &lt;strong&gt;«Канц-Лайн»&lt;/strong&gt; - компан...</td>\n",
       "      <td>оо « канц-лайн » компан снабжа предприят крым ...</td>\n",
       "    </tr>\n",
       "    <tr>\n",
       "      <th>9997</th>\n",
       "      <td>33587503.0</td>\n",
       "      <td>{'id': '33587507', 'premium': False, 'billing_...</td>\n",
       "      <td>&lt;p&gt;В ООО &lt;strong&gt;«Канц-Лайн»&lt;/strong&gt; - компан...</td>\n",
       "      <td>оо « канц-лайн » компан снабжа предприят крым ...</td>\n",
       "    </tr>\n",
       "    <tr>\n",
       "      <th>9998</th>\n",
       "      <td>33587504.0</td>\n",
       "      <td>{'id': '33587508', 'premium': False, 'billing_...</td>\n",
       "      <td>&lt;p&gt;Сеть магазинов товаров для животных Мир Хво...</td>\n",
       "      <td>сет магазин товар животн мир хвостат интернет-...</td>\n",
       "    </tr>\n",
       "    <tr>\n",
       "      <th>9999</th>\n",
       "      <td>33587505.0</td>\n",
       "      <td>{'id': '33587509', 'premium': False, 'billing_...</td>\n",
       "      <td>&lt;p&gt;Сеть магазинов зоотоваров Мир Хвостатых при...</td>\n",
       "      <td>сет магазин зоотовар мир хвостат приглаша сво ...</td>\n",
       "    </tr>\n",
       "  </tbody>\n",
       "</table>\n",
       "<p>10000 rows × 4 columns</p>\n",
       "</div>"
      ],
      "text/plain": [
       "      vacancy_id                                               json  \\\n",
       "0     33551858.0  {'id': '33551858', 'premium': False, 'billing_...   \n",
       "1     33551859.0  {'id': '33551859', 'premium': False, 'billing_...   \n",
       "2     33551860.0  {'id': '33551860', 'premium': False, 'billing_...   \n",
       "3     33551861.0  {'id': '33551861', 'premium': False, 'billing_...   \n",
       "4     33551862.0  {'id': '33551862', 'premium': False, 'billing_...   \n",
       "...          ...                                                ...   \n",
       "9995  33587501.0  {'id': '33587505', 'premium': False, 'billing_...   \n",
       "9996  33587502.0  {'id': '33587506', 'premium': False, 'billing_...   \n",
       "9997  33587503.0  {'id': '33587507', 'premium': False, 'billing_...   \n",
       "9998  33587504.0  {'id': '33587508', 'premium': False, 'billing_...   \n",
       "9999  33587505.0  {'id': '33587509', 'premium': False, 'billing_...   \n",
       "\n",
       "                                            description  \\\n",
       "0     <p> </p> <p>Приглашаем на серьёзную ответствен...   \n",
       "1     <p><strong><em>Департамент управления барами –...   \n",
       "2     <p>«Сеть фитнес клубов ФизКульт является призн...   \n",
       "3     <p><strong>Должностные обязанности:</strong></...   \n",
       "4     <p><strong>Обязанности:</strong></p> <ul> <li>...   \n",
       "...                                                 ...   \n",
       "9995  <p><em><strong>ИТАЛЬЯНСКАЯ ОБУВНАЯ ФАБРИКА МИЗ...   \n",
       "9996  <p>В ООО <strong>«Канц-Лайн»</strong> - компан...   \n",
       "9997  <p>В ООО <strong>«Канц-Лайн»</strong> - компан...   \n",
       "9998  <p>Сеть магазинов товаров для животных Мир Хво...   \n",
       "9999  <p>Сеть магазинов зоотоваров Мир Хвостатых при...   \n",
       "\n",
       "                                                 tokens  \n",
       "0     приглаша серьезн ответствен работ приветств ли...  \n",
       "1     департамент управлен бар – « вкусн » подраздел...  \n",
       "2     « сет фитнес клуб физкульт явля призна лидер ф...  \n",
       "3     должностн обязан • осуществлен расчетно-кассов...  \n",
       "4     обязан амбулаторно-поликлиническ требован нали...  \n",
       "...                                                 ...  \n",
       "9995  итальянск обувн фабрик мизр групп ищет рабоч о...  \n",
       "9996  оо « канц-лайн » компан снабжа предприят крым ...  \n",
       "9997  оо « канц-лайн » компан снабжа предприят крым ...  \n",
       "9998  сет магазин товар животн мир хвостат интернет-...  \n",
       "9999  сет магазин зоотовар мир хвостат приглаша сво ...  \n",
       "\n",
       "[10000 rows x 4 columns]"
      ]
     },
     "execution_count": 120,
     "metadata": {},
     "output_type": "execute_result"
    }
   ],
   "source": [
    "df"
   ]
  },
  {
   "cell_type": "markdown",
   "id": "1b34abe8",
   "metadata": {},
   "source": [
    "Сохраним датасет"
   ]
  },
  {
   "cell_type": "code",
   "execution_count": 121,
   "id": "83fed9b2",
   "metadata": {},
   "outputs": [],
   "source": [
    "df.to_csv(name, sep=',', index=False)"
   ]
  },
  {
   "cell_type": "markdown",
   "id": "f90eb3ab",
   "metadata": {},
   "source": [
    "## Обработка загруженного датасета"
   ]
  },
  {
   "cell_type": "code",
   "execution_count": 69,
   "id": "d19bb2e6",
   "metadata": {
    "scrolled": true
   },
   "outputs": [
    {
     "data": {
      "text/html": [
       "<div>\n",
       "<style scoped>\n",
       "    .dataframe tbody tr th:only-of-type {\n",
       "        vertical-align: middle;\n",
       "    }\n",
       "\n",
       "    .dataframe tbody tr th {\n",
       "        vertical-align: top;\n",
       "    }\n",
       "\n",
       "    .dataframe thead th {\n",
       "        text-align: right;\n",
       "    }\n",
       "</style>\n",
       "<table border=\"1\" class=\"dataframe\">\n",
       "  <thead>\n",
       "    <tr style=\"text-align: right;\">\n",
       "      <th></th>\n",
       "      <th>vacancy_id</th>\n",
       "      <th>json</th>\n",
       "      <th>description</th>\n",
       "      <th>tokens</th>\n",
       "    </tr>\n",
       "  </thead>\n",
       "  <tbody>\n",
       "    <tr>\n",
       "      <th>0</th>\n",
       "      <td>33551857.0</td>\n",
       "      <td>{'id': '33551857', 'premium': False, 'billing_...</td>\n",
       "      <td>&lt;strong&gt;Обов&amp;#39;язки:&lt;/strong&gt; &lt;ul&gt; &lt;li&gt;Чітке...</td>\n",
       "      <td>39 язк чітке і якісн виконан своєї робот прове...</td>\n",
       "    </tr>\n",
       "    <tr>\n",
       "      <th>1</th>\n",
       "      <td>33551858.0</td>\n",
       "      <td>{'id': '33551858', 'premium': False, 'billing_...</td>\n",
       "      <td>&lt;p&gt; &lt;/p&gt; &lt;p&gt;Приглашаем на серьёзную ответствен...</td>\n",
       "      <td>приглаша серьезн ответствен работ приветств ли...</td>\n",
       "    </tr>\n",
       "    <tr>\n",
       "      <th>2</th>\n",
       "      <td>33551859.0</td>\n",
       "      <td>{'id': '33551859', 'premium': False, 'billing_...</td>\n",
       "      <td>&lt;p&gt;&lt;strong&gt;&lt;em&gt;Департамент управления барами –...</td>\n",
       "      <td>департамент управлен бар – « вкусн » подраздел...</td>\n",
       "    </tr>\n",
       "    <tr>\n",
       "      <th>3</th>\n",
       "      <td>33551860.0</td>\n",
       "      <td>{'id': '33551860', 'premium': False, 'billing_...</td>\n",
       "      <td>&lt;p&gt;«Сеть фитнес клубов ФизКульт является призн...</td>\n",
       "      <td>« сет фитнес клуб физкульт явля призна лидер ф...</td>\n",
       "    </tr>\n",
       "    <tr>\n",
       "      <th>4</th>\n",
       "      <td>33551861.0</td>\n",
       "      <td>{'id': '33551861', 'premium': False, 'billing_...</td>\n",
       "      <td>&lt;p&gt;&lt;strong&gt;Должностные обязанности:&lt;/strong&gt;&lt;/...</td>\n",
       "      <td>должностн обязан • осуществлен расчетно-кассов...</td>\n",
       "    </tr>\n",
       "    <tr>\n",
       "      <th>...</th>\n",
       "      <td>...</td>\n",
       "      <td>...</td>\n",
       "      <td>...</td>\n",
       "      <td>...</td>\n",
       "    </tr>\n",
       "    <tr>\n",
       "      <th>9995</th>\n",
       "      <td>33587460.0</td>\n",
       "      <td>{'id': '33587460', 'premium': False, 'billing_...</td>\n",
       "      <td>&lt;p&gt;Рудник «Ирокинда» расположен в Муйском райо...</td>\n",
       "      <td>рудник « ирокинд » располож муйск район респуб...</td>\n",
       "    </tr>\n",
       "    <tr>\n",
       "      <th>9996</th>\n",
       "      <td>33587461.0</td>\n",
       "      <td>{'id': '33587461', 'premium': False, 'billing_...</td>\n",
       "      <td>&lt;p&gt;Рудник «Ирокинда» расположен в Муйском райо...</td>\n",
       "      <td>рудник « ирокинд » располож муйск район респуб...</td>\n",
       "    </tr>\n",
       "    <tr>\n",
       "      <th>9997</th>\n",
       "      <td>33587462.0</td>\n",
       "      <td>{'id': '33587462', 'premium': False, 'billing_...</td>\n",
       "      <td>&lt;strong&gt;Обязанности:&lt;/strong&gt; &lt;ul&gt; &lt;li&gt;знание ...</td>\n",
       "      <td>обязан знан программ 1с 8 3 зарплат кадр оформ...</td>\n",
       "    </tr>\n",
       "    <tr>\n",
       "      <th>9998</th>\n",
       "      <td>33587463.0</td>\n",
       "      <td>{'id': '33587463', 'premium': False, 'billing_...</td>\n",
       "      <td>&lt;p&gt;&lt;strong&gt;LaGarderobe&lt;/strong&gt; – это мультибр...</td>\n",
       "      <td>lagarderob – эт мультибрендов магазин элегантн...</td>\n",
       "    </tr>\n",
       "    <tr>\n",
       "      <th>9999</th>\n",
       "      <td>33587464.0</td>\n",
       "      <td>{'id': '33587464', 'premium': False, 'billing_...</td>\n",
       "      <td>&lt;p&gt;В связи с расширением ищем менеджера по про...</td>\n",
       "      <td>связ расширен ищ менеджер продаж одн точек ком...</td>\n",
       "    </tr>\n",
       "  </tbody>\n",
       "</table>\n",
       "<p>10000 rows × 4 columns</p>\n",
       "</div>"
      ],
      "text/plain": [
       "      vacancy_id                                               json  \\\n",
       "0     33551857.0  {'id': '33551857', 'premium': False, 'billing_...   \n",
       "1     33551858.0  {'id': '33551858', 'premium': False, 'billing_...   \n",
       "2     33551859.0  {'id': '33551859', 'premium': False, 'billing_...   \n",
       "3     33551860.0  {'id': '33551860', 'premium': False, 'billing_...   \n",
       "4     33551861.0  {'id': '33551861', 'premium': False, 'billing_...   \n",
       "...          ...                                                ...   \n",
       "9995  33587460.0  {'id': '33587460', 'premium': False, 'billing_...   \n",
       "9996  33587461.0  {'id': '33587461', 'premium': False, 'billing_...   \n",
       "9997  33587462.0  {'id': '33587462', 'premium': False, 'billing_...   \n",
       "9998  33587463.0  {'id': '33587463', 'premium': False, 'billing_...   \n",
       "9999  33587464.0  {'id': '33587464', 'premium': False, 'billing_...   \n",
       "\n",
       "                                            description  \\\n",
       "0     <strong>Обов&#39;язки:</strong> <ul> <li>Чітке...   \n",
       "1     <p> </p> <p>Приглашаем на серьёзную ответствен...   \n",
       "2     <p><strong><em>Департамент управления барами –...   \n",
       "3     <p>«Сеть фитнес клубов ФизКульт является призн...   \n",
       "4     <p><strong>Должностные обязанности:</strong></...   \n",
       "...                                                 ...   \n",
       "9995  <p>Рудник «Ирокинда» расположен в Муйском райо...   \n",
       "9996  <p>Рудник «Ирокинда» расположен в Муйском райо...   \n",
       "9997  <strong>Обязанности:</strong> <ul> <li>знание ...   \n",
       "9998  <p><strong>LaGarderobe</strong> – это мультибр...   \n",
       "9999  <p>В связи с расширением ищем менеджера по про...   \n",
       "\n",
       "                                                 tokens  \n",
       "0     39 язк чітке і якісн виконан своєї робот прове...  \n",
       "1     приглаша серьезн ответствен работ приветств ли...  \n",
       "2     департамент управлен бар – « вкусн » подраздел...  \n",
       "3     « сет фитнес клуб физкульт явля призна лидер ф...  \n",
       "4     должностн обязан • осуществлен расчетно-кассов...  \n",
       "...                                                 ...  \n",
       "9995  рудник « ирокинд » располож муйск район респуб...  \n",
       "9996  рудник « ирокинд » располож муйск район респуб...  \n",
       "9997  обязан знан программ 1с 8 3 зарплат кадр оформ...  \n",
       "9998  lagarderob – эт мультибрендов магазин элегантн...  \n",
       "9999  связ расширен ищ менеджер продаж одн точек ком...  \n",
       "\n",
       "[10000 rows x 4 columns]"
      ]
     },
     "execution_count": 69,
     "metadata": {},
     "output_type": "execute_result"
    }
   ],
   "source": [
    "df"
   ]
  },
  {
   "cell_type": "markdown",
   "id": "60501d4f",
   "metadata": {},
   "source": [
    "Получим описания датасета"
   ]
  },
  {
   "cell_type": "code",
   "execution_count": 49,
   "id": "c7594dc6",
   "metadata": {},
   "outputs": [],
   "source": [
    "df.description = [get_description_from_string(s) for s in df.json]"
   ]
  },
  {
   "cell_type": "markdown",
   "id": "1bb477f0",
   "metadata": {},
   "source": [
    "получим токены датасета"
   ]
  },
  {
   "cell_type": "code",
   "execution_count": 60,
   "id": "e8a81cf3",
   "metadata": {},
   "outputs": [],
   "source": [
    "df.tokens = [' '.join(get_prepared_vacancy_description(description, is_lemming=False)) for description in df.description]"
   ]
  },
  {
   "cell_type": "code",
   "execution_count": 61,
   "id": "faf8ac6a",
   "metadata": {
    "scrolled": true
   },
   "outputs": [
    {
     "data": {
      "text/html": [
       "<div>\n",
       "<style scoped>\n",
       "    .dataframe tbody tr th:only-of-type {\n",
       "        vertical-align: middle;\n",
       "    }\n",
       "\n",
       "    .dataframe tbody tr th {\n",
       "        vertical-align: top;\n",
       "    }\n",
       "\n",
       "    .dataframe thead th {\n",
       "        text-align: right;\n",
       "    }\n",
       "</style>\n",
       "<table border=\"1\" class=\"dataframe\">\n",
       "  <thead>\n",
       "    <tr style=\"text-align: right;\">\n",
       "      <th></th>\n",
       "      <th>vacancy_id</th>\n",
       "      <th>json</th>\n",
       "      <th>description</th>\n",
       "      <th>tokens</th>\n",
       "    </tr>\n",
       "  </thead>\n",
       "  <tbody>\n",
       "    <tr>\n",
       "      <th>0</th>\n",
       "      <td>33551857.0</td>\n",
       "      <td>{'id': '33551857', 'premium': False, 'billing_...</td>\n",
       "      <td>&lt;strong&gt;Обов&amp;#39;язки:&lt;/strong&gt; &lt;ul&gt; &lt;li&gt;Чітке...</td>\n",
       "      <td>39 язк чітке і якісн виконан своєї робот прове...</td>\n",
       "    </tr>\n",
       "    <tr>\n",
       "      <th>1</th>\n",
       "      <td>33551858.0</td>\n",
       "      <td>{'id': '33551858', 'premium': False, 'billing_...</td>\n",
       "      <td>&lt;p&gt; &lt;/p&gt; &lt;p&gt;Приглашаем на серьёзную ответствен...</td>\n",
       "      <td>приглаша серьезн ответствен работ приветств ли...</td>\n",
       "    </tr>\n",
       "    <tr>\n",
       "      <th>2</th>\n",
       "      <td>33551859.0</td>\n",
       "      <td>{'id': '33551859', 'premium': False, 'billing_...</td>\n",
       "      <td>&lt;p&gt;&lt;strong&gt;&lt;em&gt;Департамент управления барами –...</td>\n",
       "      <td>департамент управлен бар – « вкусн » подраздел...</td>\n",
       "    </tr>\n",
       "    <tr>\n",
       "      <th>3</th>\n",
       "      <td>33551860.0</td>\n",
       "      <td>{'id': '33551860', 'premium': False, 'billing_...</td>\n",
       "      <td>&lt;p&gt;«Сеть фитнес клубов ФизКульт является призн...</td>\n",
       "      <td>« сет фитнес клуб физкульт явля призна лидер ф...</td>\n",
       "    </tr>\n",
       "    <tr>\n",
       "      <th>4</th>\n",
       "      <td>33551861.0</td>\n",
       "      <td>{'id': '33551861', 'premium': False, 'billing_...</td>\n",
       "      <td>&lt;p&gt;&lt;strong&gt;Должностные обязанности:&lt;/strong&gt;&lt;/...</td>\n",
       "      <td>должностн обязан • осуществлен расчетно-кассов...</td>\n",
       "    </tr>\n",
       "    <tr>\n",
       "      <th>...</th>\n",
       "      <td>...</td>\n",
       "      <td>...</td>\n",
       "      <td>...</td>\n",
       "      <td>...</td>\n",
       "    </tr>\n",
       "    <tr>\n",
       "      <th>9995</th>\n",
       "      <td>33587460.0</td>\n",
       "      <td>{'id': '33587460', 'premium': False, 'billing_...</td>\n",
       "      <td>&lt;p&gt;Рудник «Ирокинда» расположен в Муйском райо...</td>\n",
       "      <td>рудник « ирокинд » располож муйск район респуб...</td>\n",
       "    </tr>\n",
       "    <tr>\n",
       "      <th>9996</th>\n",
       "      <td>33587461.0</td>\n",
       "      <td>{'id': '33587461', 'premium': False, 'billing_...</td>\n",
       "      <td>&lt;p&gt;Рудник «Ирокинда» расположен в Муйском райо...</td>\n",
       "      <td>рудник « ирокинд » располож муйск район респуб...</td>\n",
       "    </tr>\n",
       "    <tr>\n",
       "      <th>9997</th>\n",
       "      <td>33587462.0</td>\n",
       "      <td>{'id': '33587462', 'premium': False, 'billing_...</td>\n",
       "      <td>&lt;strong&gt;Обязанности:&lt;/strong&gt; &lt;ul&gt; &lt;li&gt;знание ...</td>\n",
       "      <td>обязан знан программ 1с 8 3 зарплат кадр оформ...</td>\n",
       "    </tr>\n",
       "    <tr>\n",
       "      <th>9998</th>\n",
       "      <td>33587463.0</td>\n",
       "      <td>{'id': '33587463', 'premium': False, 'billing_...</td>\n",
       "      <td>&lt;p&gt;&lt;strong&gt;LaGarderobe&lt;/strong&gt; – это мультибр...</td>\n",
       "      <td>lagarderob – эт мультибрендов магазин элегантн...</td>\n",
       "    </tr>\n",
       "    <tr>\n",
       "      <th>9999</th>\n",
       "      <td>33587464.0</td>\n",
       "      <td>{'id': '33587464', 'premium': False, 'billing_...</td>\n",
       "      <td>&lt;p&gt;В связи с расширением ищем менеджера по про...</td>\n",
       "      <td>связ расширен ищ менеджер продаж одн точек ком...</td>\n",
       "    </tr>\n",
       "  </tbody>\n",
       "</table>\n",
       "<p>10000 rows × 4 columns</p>\n",
       "</div>"
      ],
      "text/plain": [
       "      vacancy_id                                               json  \\\n",
       "0     33551857.0  {'id': '33551857', 'premium': False, 'billing_...   \n",
       "1     33551858.0  {'id': '33551858', 'premium': False, 'billing_...   \n",
       "2     33551859.0  {'id': '33551859', 'premium': False, 'billing_...   \n",
       "3     33551860.0  {'id': '33551860', 'premium': False, 'billing_...   \n",
       "4     33551861.0  {'id': '33551861', 'premium': False, 'billing_...   \n",
       "...          ...                                                ...   \n",
       "9995  33587460.0  {'id': '33587460', 'premium': False, 'billing_...   \n",
       "9996  33587461.0  {'id': '33587461', 'premium': False, 'billing_...   \n",
       "9997  33587462.0  {'id': '33587462', 'premium': False, 'billing_...   \n",
       "9998  33587463.0  {'id': '33587463', 'premium': False, 'billing_...   \n",
       "9999  33587464.0  {'id': '33587464', 'premium': False, 'billing_...   \n",
       "\n",
       "                                            description  \\\n",
       "0     <strong>Обов&#39;язки:</strong> <ul> <li>Чітке...   \n",
       "1     <p> </p> <p>Приглашаем на серьёзную ответствен...   \n",
       "2     <p><strong><em>Департамент управления барами –...   \n",
       "3     <p>«Сеть фитнес клубов ФизКульт является призн...   \n",
       "4     <p><strong>Должностные обязанности:</strong></...   \n",
       "...                                                 ...   \n",
       "9995  <p>Рудник «Ирокинда» расположен в Муйском райо...   \n",
       "9996  <p>Рудник «Ирокинда» расположен в Муйском райо...   \n",
       "9997  <strong>Обязанности:</strong> <ul> <li>знание ...   \n",
       "9998  <p><strong>LaGarderobe</strong> – это мультибр...   \n",
       "9999  <p>В связи с расширением ищем менеджера по про...   \n",
       "\n",
       "                                                 tokens  \n",
       "0     39 язк чітке і якісн виконан своєї робот прове...  \n",
       "1     приглаша серьезн ответствен работ приветств ли...  \n",
       "2     департамент управлен бар – « вкусн » подраздел...  \n",
       "3     « сет фитнес клуб физкульт явля призна лидер ф...  \n",
       "4     должностн обязан • осуществлен расчетно-кассов...  \n",
       "...                                                 ...  \n",
       "9995  рудник « ирокинд » располож муйск район респуб...  \n",
       "9996  рудник « ирокинд » располож муйск район респуб...  \n",
       "9997  обязан знан программ 1с 8 3 зарплат кадр оформ...  \n",
       "9998  lagarderob – эт мультибрендов магазин элегантн...  \n",
       "9999  связ расширен ищ менеджер продаж одн точек ком...  \n",
       "\n",
       "[10000 rows x 4 columns]"
      ]
     },
     "execution_count": 61,
     "metadata": {},
     "output_type": "execute_result"
    }
   ],
   "source": [
    "df"
   ]
  },
  {
   "cell_type": "code",
   "execution_count": 88,
   "id": "69f8888e",
   "metadata": {},
   "outputs": [],
   "source": [
    "df.to_csv(name, sep=',', index=False)"
   ]
  },
  {
   "cell_type": "markdown",
   "id": "1849cf14",
   "metadata": {},
   "source": [
    "# Вывод\n",
    "\n",
    "Были проведены работы по составлению датасета"
   ]
  }
 ],
 "metadata": {
  "kernelspec": {
   "display_name": "Python 3",
   "language": "python",
   "name": "python3"
  },
  "language_info": {
   "codemirror_mode": {
    "name": "ipython",
    "version": 3
   },
   "file_extension": ".py",
   "mimetype": "text/x-python",
   "name": "python",
   "nbconvert_exporter": "python",
   "pygments_lexer": "ipython3",
   "version": "3.8.10"
  }
 },
 "nbformat": 4,
 "nbformat_minor": 5
}
