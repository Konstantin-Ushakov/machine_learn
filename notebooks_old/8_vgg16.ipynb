{
 "cells": [
  {
   "cell_type": "markdown",
   "metadata": {
    "id": "raeq0JXqa8G_"
   },
   "source": [
    "https://colab.research.google.com/drive/1dWEi4V0ULEYzfQsGAlGuMPueCCe_xw3H#scrollTo=ZEMGqqKsaQN8"
   ]
  },
  {
   "cell_type": "markdown",
   "metadata": {
    "id": "KRcgaHqCbe1N"
   },
   "source": [
    "# Предобработка данных"
   ]
  },
  {
   "cell_type": "code",
   "execution_count": 1,
   "metadata": {
    "id": "ZEMGqqKsaQN8"
   },
   "outputs": [],
   "source": [
    "import numpy as np\n",
    "\n",
    "import keras\n",
    "from keras.preprocessing import image\n",
    "from keras.applications.imagenet_utils import preprocess_input\n",
    "\n",
    "from keras.layers import Dense, Conv2D, MaxPooling2D, InputLayer, Flatten\n",
    "from keras.models import Model, Sequential\n",
    "\n",
    "import random"
   ]
  },
  {
   "cell_type": "markdown",
   "metadata": {
    "id": "IhAvxSuybbT_"
   },
   "source": [
    "Скачиваем данные"
   ]
  },
  {
   "cell_type": "markdown",
   "metadata": {
    "id": "m8F0MeBi-fDf"
   },
   "source": [
    "Подключение диска\n",
    "\n",
    "В папке <code>/content/drive/MyDrive/Colab Notebooks/data/</code> должен лежать файл"
   ]
  },
  {
   "cell_type": "code",
   "execution_count": 2,
   "metadata": {
    "colab": {
     "base_uri": "https://localhost:8080/"
    },
    "id": "iqFsZ2313VGL",
    "outputId": "d2b3a784-8546-4fa1-fe72-26273bb88471"
   },
   "outputs": [
    {
     "name": "stdout",
     "output_type": "stream",
     "text": [
      "Drive already mounted at /content/drive; to attempt to forcibly remount, call drive.mount(\"/content/drive\", force_remount=True).\n"
     ]
    }
   ],
   "source": [
    "from google.colab import drive\n",
    "drive.mount('/content/drive')"
   ]
  },
  {
   "cell_type": "markdown",
   "metadata": {
    "id": "7vUodudGcMmF"
   },
   "source": [
    "Распаковка данных из архива"
   ]
  },
  {
   "cell_type": "code",
   "execution_count": 3,
   "metadata": {
    "colab": {
     "base_uri": "https://localhost:8080/"
    },
    "id": "EqzK_xAzbZ1F",
    "outputId": "d786a2b5-971f-4278-fdd9-fe2846e5c1f7"
   },
   "outputs": [
    {
     "name": "stdout",
     "output_type": "stream",
     "text": [
      "Archive:  /content/drive/MyDrive/Colab Notebooks/data/Dog_cats.zip\n",
      "  inflating: sampleSubmission.csv    \n",
      "  inflating: test1.zip               \n",
      "  inflating: train.zip               \n"
     ]
    }
   ],
   "source": [
    "!unzip '/content/drive/MyDrive/Colab Notebooks/data/Dog_cats.zip'"
   ]
  },
  {
   "cell_type": "markdown",
   "metadata": {
    "id": "Q_vBFfRPC6yh"
   },
   "source": [
    "Отключаем гугл диск"
   ]
  },
  {
   "cell_type": "code",
   "execution_count": 4,
   "metadata": {
    "id": "B0zXA8BXC9c7"
   },
   "outputs": [],
   "source": [
    "drive.flush_and_unmount()"
   ]
  },
  {
   "cell_type": "markdown",
   "metadata": {
    "id": "JMyT7aeYEAfT"
   },
   "source": [
    "Убираем ненужный файл"
   ]
  },
  {
   "cell_type": "code",
   "execution_count": 5,
   "metadata": {
    "id": "08pPGgBaD3FQ"
   },
   "outputs": [],
   "source": [
    "!rm -rf sample_data\n",
    "!rm -rf sampleSubmission.csv\n",
    "!rm -rf train\n",
    "!rm -rf test1\n",
    "!rm test1.zip"
   ]
  },
  {
   "cell_type": "markdown",
   "metadata": {
    "id": "OG2i_s3BC963"
   },
   "source": [
    "Распаковка файлов\n",
    "\n",
    "флаг -q означает скрыть вывод"
   ]
  },
  {
   "cell_type": "code",
   "execution_count": 6,
   "metadata": {
    "id": "K0QH3DKs4qLd"
   },
   "outputs": [],
   "source": [
    "!unzip -q 'train.zip'"
   ]
  },
  {
   "cell_type": "markdown",
   "metadata": {
    "id": "Nd3D6v8w41qx"
   },
   "source": [
    "Удалим архивы"
   ]
  },
  {
   "cell_type": "code",
   "execution_count": 7,
   "metadata": {
    "colab": {
     "base_uri": "https://localhost:8080/"
    },
    "id": "2jf59NxO405m",
    "outputId": "624d3aac-b50a-4915-f25d-d94bbb514c28"
   },
   "outputs": [
    {
     "name": "stdout",
     "output_type": "stream",
     "text": [
      "train\n"
     ]
    }
   ],
   "source": [
    "!rm train.zip\n",
    "!ls"
   ]
  },
  {
   "cell_type": "markdown",
   "metadata": {
    "id": "Nyh-7x1q66Y1"
   },
   "source": [
    "Создадим подпапки - <code>cat</code>, <code>dog</code>."
   ]
  },
  {
   "cell_type": "code",
   "execution_count": 8,
   "metadata": {
    "id": "RlRLCl1W6Tth"
   },
   "outputs": [],
   "source": [
    "import os\n",
    "root = 'train'\n",
    "os.mkdir('train/cat')\n",
    "os.mkdir('train/dog')"
   ]
  },
  {
   "cell_type": "markdown",
   "metadata": {
    "id": "E_Qg6DBN7BW7"
   },
   "source": [
    "Переместим изображения по соответствующим папкам\n",
    "\n",
    "Будем брать только первые 1000 изображений (иначе переполнение памяти диска)"
   ]
  },
  {
   "cell_type": "code",
   "execution_count": 9,
   "metadata": {
    "id": "tUQsrONo7LGF"
   },
   "outputs": [],
   "source": [
    "root = 'train'\n",
    "old_path = 'train/'\n",
    "new_path_cat = 'train/cat/'\n",
    "new_path_dog = 'train/dog/'\n",
    "max_img = 1000\n",
    "cat_img = 0\n",
    "dog_img = 0\n",
    "for x in os.walk(root):\n",
    "  file_names = x[2]\n",
    "  for name in file_names:\n",
    "    if name.find('cat') != -1:\n",
    "      if cat_img < max_img:\n",
    "        os.replace(old_path + name, new_path_cat + name[4:])\n",
    "        cat_img += 1\n",
    "    elif name.find('dog') != -1:\n",
    "      if dog_img < max_img:\n",
    "        os.replace(old_path + name, new_path_dog + name[4:])\n",
    "        dog_img += 1"
   ]
  },
  {
   "cell_type": "code",
   "execution_count": 10,
   "metadata": {
    "id": "8EqgZ8OV4M7q"
   },
   "outputs": [],
   "source": [
    "del old_path\n",
    "del new_path_cat\n",
    "del new_path_dog\n",
    "del max_img\n",
    "del cat_img\n",
    "del dog_img\n",
    "del file_names"
   ]
  },
  {
   "cell_type": "markdown",
   "metadata": {
    "id": "xA_SvWAC7Ldz"
   },
   "source": [
    "Получим категории"
   ]
  },
  {
   "cell_type": "code",
   "execution_count": 11,
   "metadata": {
    "colab": {
     "base_uri": "https://localhost:8080/"
    },
    "id": "DfUHdWABcjF0",
    "outputId": "e10753f6-17a2-4557-b956-a9526273d795"
   },
   "outputs": [
    {
     "data": {
      "text/plain": [
       "['train/cat', 'train/dog']"
      ]
     },
     "execution_count": 11,
     "metadata": {
      "tags": []
     },
     "output_type": "execute_result"
    }
   ],
   "source": [
    "root = 'train'\n",
    "categories = [x[0] for x in os.walk(root) if x[0]][1:]\n",
    "del root\n",
    "categories"
   ]
  },
  {
   "cell_type": "markdown",
   "metadata": {
    "id": "lLUiVOW0dtfT"
   },
   "source": [
    "Функция <code>get_image</code> получает изображение по пути <code>path</code> и преобразует его в список"
   ]
  },
  {
   "cell_type": "code",
   "execution_count": 12,
   "metadata": {
    "id": "yy1dUreldpvd"
   },
   "outputs": [],
   "source": [
    "# helper function to load image and return it and input vector\n",
    "def get_image(path):\n",
    "    img = image.load_img(path, target_size=(224, 224))\n",
    "    x = image.img_to_array(img)\n",
    "    x = np.expand_dims(x, axis=0)\n",
    "    x = preprocess_input(x)\n",
    "    return img, x  "
   ]
  },
  {
   "cell_type": "markdown",
   "metadata": {
    "id": "Vi3lZK8beGon"
   },
   "source": [
    "По каждой из выбранных категорий получаем список изображений \n",
    "\n",
    "\n",
    "```\n",
    "{\n",
    "  'x': np.array(x[0]),\n",
    "  'y': c\n",
    "}\n",
    "```\n",
    "\n",
    "где <code>x</code> - изображение в виде списка, <code>c</code> - метка класса\n",
    "\n"
   ]
  },
  {
   "cell_type": "code",
   "execution_count": 13,
   "metadata": {
    "id": "-SkkDeJIdsc5"
   },
   "outputs": [],
   "source": [
    "data = []\n",
    "for c, category in enumerate(categories):\n",
    "    images = [os.path.join(dp, f) for dp, dn, filenames \n",
    "              in os.walk(category) for f in filenames \n",
    "              if os.path.splitext(f)[1].lower() in ['.jpg']]\n",
    "    for img_path in images:\n",
    "        img, x = get_image(img_path)\n",
    "        data.append({'x':np.array(x[0]), 'y':c})\n",
    "\n",
    "# count the number of classes\n",
    "num_classes = len(categories)"
   ]
  },
  {
   "cell_type": "markdown",
   "metadata": {
    "id": "ojUHciDefADu"
   },
   "source": [
    "Разделяем данные на тренировку и тест"
   ]
  },
  {
   "cell_type": "code",
   "execution_count": 14,
   "metadata": {
    "id": "3YDqRb2ZepnG"
   },
   "outputs": [],
   "source": [
    "random.shuffle(data)\n",
    "train_split = 0.8\n",
    "idx_test = int((train_split) * len(data))\n",
    "\n",
    "data_train = data[:idx_test]\n",
    "data_test = data[idx_test:]\n",
    "del data"
   ]
  },
  {
   "cell_type": "markdown",
   "metadata": {
    "id": "jy9rhY7IfRQs"
   },
   "source": [
    "Формирование целевого признака и выборки на основе данных"
   ]
  },
  {
   "cell_type": "code",
   "execution_count": 15,
   "metadata": {
    "id": "5JIm7sIJfNsu"
   },
   "outputs": [],
   "source": [
    "x_train, y_train = np.array([t[\"x\"] for t in data_train]), [t[\"y\"] for t in data_train]\n",
    "x_test, y_test = np.array([t[\"x\"] for t in data_test]), [t[\"y\"] for t in data_test]\n",
    "del data_train\n",
    "del data_test"
   ]
  },
  {
   "cell_type": "markdown",
   "metadata": {
    "id": "_s5zOWt0fvew"
   },
   "source": [
    "Нормализуем данные x [0, 256) -> [0, 1\\]"
   ]
  },
  {
   "cell_type": "code",
   "execution_count": 16,
   "metadata": {
    "id": "NPJjlnBMfs9E"
   },
   "outputs": [],
   "source": [
    "x_train = x_train.astype('float') / 255.0\n",
    "x_test = x_test.astype('float') / 255.0"
   ]
  },
  {
   "cell_type": "markdown",
   "metadata": {
    "id": "J0DKrwh4gJ9F"
   },
   "source": [
    "Применяем One-hot кодирование"
   ]
  },
  {
   "cell_type": "code",
   "execution_count": 17,
   "metadata": {
    "colab": {
     "base_uri": "https://localhost:8080/"
    },
    "id": "51uKM94sgCYM",
    "outputId": "43a0baf6-da1d-4ce7-fec0-e5c90b47e6a3"
   },
   "outputs": [
    {
     "data": {
      "text/plain": [
       "array([[1., 0.],\n",
       "       [0., 1.],\n",
       "       [1., 0.],\n",
       "       [1., 0.],\n",
       "       [1., 0.]], dtype=float32)"
      ]
     },
     "execution_count": 17,
     "metadata": {
      "tags": []
     },
     "output_type": "execute_result"
    }
   ],
   "source": [
    "# convert labels to one-hot vectors\n",
    "y_train = keras.utils.to_categorical(y_train, num_classes)\n",
    "y_test = keras.utils.to_categorical(y_test, num_classes)\n",
    "y_train[:5]"
   ]
  },
  {
   "cell_type": "markdown",
   "metadata": {
    "id": "J7v1Eyj9gmPM"
   },
   "source": [
    "# Работа с моделью"
   ]
  },
  {
   "cell_type": "markdown",
   "metadata": {
    "id": "5xgO0sGBZSar"
   },
   "source": [
    "# Classification"
   ]
  },
  {
   "cell_type": "markdown",
   "metadata": {
    "id": "HmS5c-k3Z8xH"
   },
   "source": [
    "Создадим классификатор для классификации изображений. Будем использовать сверточную сеть."
   ]
  },
  {
   "cell_type": "markdown",
   "metadata": {
    "id": "lPzlQf-kfa20"
   },
   "source": [
    "Как работает свёртка:\n",
    "\n",
    "![](https://upload.wikimedia.org/wikipedia/commons/thumb/1/19/2D_Convolution_Animation.gif/330px-2D_Convolution_Animation.gif)"
   ]
  },
  {
   "cell_type": "markdown",
   "metadata": {
    "id": "POcEfjj1ffT1"
   },
   "source": [
    "Max Pool 2d:\n",
    "\n",
    "![](https://computersciencewiki.org/images/8/8a/MaxpoolSample2.png)"
   ]
  },
  {
   "cell_type": "code",
   "execution_count": 18,
   "metadata": {
    "colab": {
     "base_uri": "https://localhost:8080/"
    },
    "id": "CgKVsOo5gKrC",
    "outputId": "f23adc13-2e7a-4c81-c1a3-d6c7aa61993f"
   },
   "outputs": [
    {
     "name": "stdout",
     "output_type": "stream",
     "text": [
      "(1600, 224, 224, 3) (1600, 2)\n",
      "(224, 224, 3)\n"
     ]
    }
   ],
   "source": [
    "print(x_train.shape, y_train.shape)\n",
    "print(x_train.shape[1:])"
   ]
  },
  {
   "cell_type": "code",
   "execution_count": 19,
   "metadata": {
    "colab": {
     "base_uri": "https://localhost:8080/"
    },
    "id": "HdxtMEd-Z7eC",
    "outputId": "b2ddea42-2653-4e5d-d00d-651ccfaa7939"
   },
   "outputs": [
    {
     "name": "stdout",
     "output_type": "stream",
     "text": [
      "Model: \"sequential\"\n",
      "_________________________________________________________________\n",
      "Layer (type)                 Output Shape              Param #   \n",
      "=================================================================\n",
      "conv2d (Conv2D)              (None, 222, 222, 20)      560       \n",
      "_________________________________________________________________\n",
      "conv2d_1 (Conv2D)            (None, 220, 220, 20)      3620      \n",
      "_________________________________________________________________\n",
      "max_pooling2d (MaxPooling2D) (None, 22, 22, 20)        0         \n",
      "_________________________________________________________________\n",
      "flatten (Flatten)            (None, 9680)              0         \n",
      "_________________________________________________________________\n",
      "dense (Dense)                (None, 400)               3872400   \n",
      "_________________________________________________________________\n",
      "dense_1 (Dense)              (None, 100)               40100     \n",
      "_________________________________________________________________\n",
      "dense_2 (Dense)              (None, 2)                 202       \n",
      "=================================================================\n",
      "Total params: 3,916,882\n",
      "Trainable params: 3,916,882\n",
      "Non-trainable params: 0\n",
      "_________________________________________________________________\n"
     ]
    }
   ],
   "source": [
    "model = Sequential()\n",
    "# Add input layer\n",
    "model.add(InputLayer(input_shape=x_train.shape[1:]))\n",
    "# Add two Conv2D layers\n",
    "model.add(Conv2D(20, kernel_size=3))\n",
    "model.add(Conv2D(20, kernel_size=3))\n",
    "# Add max pooling layer\n",
    "model.add(MaxPooling2D(pool_size=(10, 10)))\n",
    "# Flatten layers\n",
    "model.add(Flatten())\n",
    "# Add RELU layers\n",
    "model.add(Dense(400, activation='relu'))\n",
    "model.add(Dense(100, activation='relu'))\n",
    "# Add output layer\n",
    "model.add(Dense(num_classes, activation='softmax'))\n",
    "# Compile model\n",
    "model.compile(loss='categorical_crossentropy',\n",
    "              optimizer='adam',\n",
    "              metrics=['accuracy'])\n",
    "\n",
    "model.summary()"
   ]
  },
  {
   "cell_type": "markdown",
   "metadata": {
    "id": "GPBahlsCi-IX"
   },
   "source": [
    "Обучим данную модель"
   ]
  },
  {
   "cell_type": "code",
   "execution_count": 20,
   "metadata": {
    "colab": {
     "base_uri": "https://localhost:8080/"
    },
    "id": "N1kpOCBAjAx8",
    "outputId": "bc925c92-85df-4994-ddb5-e86825f98d42"
   },
   "outputs": [
    {
     "name": "stdout",
     "output_type": "stream",
     "text": [
      "Epoch 1/10\n",
      "160/160 [==============================] - 34s 13ms/step - loss: 0.7139 - accuracy: 0.5647\n",
      "Epoch 2/10\n",
      "160/160 [==============================] - 2s 13ms/step - loss: 0.6061 - accuracy: 0.6697\n",
      "Epoch 3/10\n",
      "160/160 [==============================] - 2s 13ms/step - loss: 0.5354 - accuracy: 0.7245\n",
      "Epoch 4/10\n",
      "160/160 [==============================] - 2s 13ms/step - loss: 0.4216 - accuracy: 0.7936\n",
      "Epoch 5/10\n",
      "160/160 [==============================] - 2s 13ms/step - loss: 0.3052 - accuracy: 0.8716\n",
      "Epoch 6/10\n",
      "160/160 [==============================] - 2s 13ms/step - loss: 0.1576 - accuracy: 0.9458\n",
      "Epoch 7/10\n",
      "160/160 [==============================] - 2s 13ms/step - loss: 0.1252 - accuracy: 0.9463\n",
      "Epoch 8/10\n",
      "160/160 [==============================] - 2s 13ms/step - loss: 0.1036 - accuracy: 0.9664\n",
      "Epoch 9/10\n",
      "160/160 [==============================] - 2s 13ms/step - loss: 0.0472 - accuracy: 0.9832\n",
      "Epoch 10/10\n",
      "160/160 [==============================] - 2s 13ms/step - loss: 0.0364 - accuracy: 0.9895\n"
     ]
    },
    {
     "data": {
      "text/plain": [
       "<tensorflow.python.keras.callbacks.History at 0x7effe7751a10>"
      ]
     },
     "execution_count": 20,
     "metadata": {
      "tags": []
     },
     "output_type": "execute_result"
    }
   ],
   "source": [
    "model.fit(x_train, y_train, batch_size=10, epochs=10)"
   ]
  },
  {
   "cell_type": "markdown",
   "metadata": {
    "id": "uQ-jWe2GkVoI"
   },
   "source": [
    "подсчитаем метрики качества на тестовой выборке"
   ]
  },
  {
   "cell_type": "code",
   "execution_count": 21,
   "metadata": {
    "colab": {
     "base_uri": "https://localhost:8080/"
    },
    "id": "R5572Pn6kVod",
    "outputId": "58412833-786b-40ca-db22-42fac08e8327"
   },
   "outputs": [
    {
     "name": "stdout",
     "output_type": "stream",
     "text": [
      "Test loss: 1.2391295433044434\n",
      "Test accuracy: 0.7174999713897705\n"
     ]
    }
   ],
   "source": [
    "loss, accuracy = model.evaluate(x_test, y_test, verbose=0)\n",
    "\n",
    "print('Test loss:', loss)\n",
    "print('Test accuracy:', accuracy)\n",
    "del loss\n",
    "del accuracy\n",
    "del model"
   ]
  },
  {
   "cell_type": "markdown",
   "metadata": {
    "id": "olQRaEpOjAXI"
   },
   "source": [
    "Получаем точность 71 % - неплохую точность"
   ]
  },
  {
   "cell_type": "markdown",
   "metadata": {
    "id": "158e5VHQkiEU"
   },
   "source": [
    "# Подбор гиперпараметров"
   ]
  },
  {
   "cell_type": "markdown",
   "metadata": {
    "id": "vnSLdfFWkm5G"
   },
   "source": [
    "Будем выполнять подбор гиперпараметров\n",
    "\n",
    "Определим функцию, которая поможет нам в этом"
   ]
  },
  {
   "cell_type": "code",
   "execution_count": 22,
   "metadata": {
    "id": "B-_9n28RolXC"
   },
   "outputs": [],
   "source": [
    "def create_model(filters=[20, 20], pool_sizes=[(10, 10), (10, 10)], dense_size=[400, 100]):\n",
    "  model = Sequential()\n",
    "  # Add input layer\n",
    "  model.add(InputLayer(input_shape=x_train.shape[1:]))\n",
    "  # Add two Conv2D layers\n",
    "  model.add(Conv2D(filters[0], kernel_size=3))\n",
    "  model.add(Conv2D(filters[1], kernel_size=3))\n",
    "  # Add max pooling layer\n",
    "  model.add(MaxPooling2D(pool_size=pool_sizes[0]))\n",
    "  # Add two Conv2D layers\n",
    "  model.add(Conv2D(filters[0], kernel_size=3))\n",
    "  model.add(Conv2D(filters[1], kernel_size=3))\n",
    "  # Add max pooling layer\n",
    "  model.add(MaxPooling2D(pool_size=pool_sizes[1]))\n",
    "  # Flatten layers\n",
    "  model.add(Flatten())\n",
    "  # Add RELU layers\n",
    "  model.add(Dense(dense_size[0], activation='relu'))\n",
    "  model.add(Dense(dense_size[1], activation='relu'))\n",
    "  # Add output layer\n",
    "  model.add(Dense(num_classes, activation='softmax'))\n",
    "  # Compile model\n",
    "  model.compile(loss='categorical_crossentropy',\n",
    "                optimizer='adam',\n",
    "                metrics=['accuracy'])\n",
    "  return model"
   ]
  },
  {
   "cell_type": "code",
   "execution_count": 23,
   "metadata": {
    "id": "UJeOrqyxkp8h"
   },
   "outputs": [],
   "source": [
    "def hyp_selections(model):\n",
    "  model.fit(x_train, y_train, batch_size=10, epochs=1)\n",
    "  loss, accuracy = model.evaluate(x_test, y_test, verbose=0)\n",
    "  print('Test loss:', loss)\n",
    "  print('Test accuracy:', accuracy)\n",
    "  return loss, accuracy"
   ]
  },
  {
   "cell_type": "markdown",
   "metadata": {
    "id": "N3_yfmI3ktCj"
   },
   "source": [
    "Выполним подбор гиперпараметров"
   ]
  },
  {
   "cell_type": "code",
   "execution_count": 24,
   "metadata": {
    "colab": {
     "base_uri": "https://localhost:8080/"
    },
    "id": "TeK9Xt8okrqC",
    "outputId": "0131b92f-6349-4854-fd0a-7fb3acc9a9dc"
   },
   "outputs": [
    {
     "name": "stdout",
     "output_type": "stream",
     "text": [
      "160/160 [==============================] - 3s 13ms/step - loss: 0.6947 - accuracy: 0.5185\n",
      "Test loss: 0.7258023619651794\n",
      "Test accuracy: 0.5375000238418579\n",
      "160/160 [==============================] - 3s 13ms/step - loss: 0.6779 - accuracy: 0.5768\n",
      "Test loss: 0.6546590328216553\n",
      "Test accuracy: 0.6075000166893005\n",
      "Best \n",
      "[20, 20] filters, [(15, 15), (10, 10)] pool size, [400, 100] dense size\n",
      "Best accuracy: 0.6075000166893005\n"
     ]
    }
   ],
   "source": [
    "best_filters=[20, 20]\n",
    "best_pool_size=[(10, 10), (10, 10)]\n",
    "best_dense_size=[400, 100]\n",
    "best_acc = 0.0\n",
    "for pool_size in [(10, 10), (15, 15)]:\n",
    "  model = create_model(filters=best_filters, pool_sizes=[pool_size, (10, 10)])\n",
    "  loss, acc = hyp_selections(model)\n",
    "  if acc > best_acc:\n",
    "    best_acc = acc\n",
    "    best_pool_size = [pool_size, (10, 10)]\n",
    "  del model\n",
    "  del acc\n",
    "  del loss\n",
    "print('Best ')\n",
    "print('{} filters, {} pool size, {} dense size'.format(best_filters, best_pool_size, best_dense_size))\n",
    "print('Best accuracy: {}'.format(best_acc))"
   ]
  },
  {
   "cell_type": "markdown",
   "metadata": {
    "id": "svoAEJ-8krUA"
   },
   "source": [
    "Посчитаем точность на тестовой выборке"
   ]
  },
  {
   "cell_type": "code",
   "execution_count": 25,
   "metadata": {
    "colab": {
     "base_uri": "https://localhost:8080/"
    },
    "id": "LC7ZAhI1kqpk",
    "outputId": "6399299e-3da5-4676-eda8-9dcc024ce3a0"
   },
   "outputs": [
    {
     "name": "stdout",
     "output_type": "stream",
     "text": [
      "Epoch 1/10\n",
      "160/160 [==============================] - 3s 13ms/step - loss: 0.6847 - accuracy: 0.5594\n",
      "Epoch 2/10\n",
      "160/160 [==============================] - 2s 13ms/step - loss: 0.6510 - accuracy: 0.6191\n",
      "Epoch 3/10\n",
      "160/160 [==============================] - 2s 13ms/step - loss: 0.6266 - accuracy: 0.6500\n",
      "Epoch 4/10\n",
      "160/160 [==============================] - 2s 13ms/step - loss: 0.6107 - accuracy: 0.6586\n",
      "Epoch 5/10\n",
      "160/160 [==============================] - 2s 13ms/step - loss: 0.6096 - accuracy: 0.6687\n",
      "Epoch 6/10\n",
      "160/160 [==============================] - 2s 13ms/step - loss: 0.5833 - accuracy: 0.6947\n",
      "Epoch 7/10\n",
      "160/160 [==============================] - 2s 13ms/step - loss: 0.5748 - accuracy: 0.6792\n",
      "Epoch 8/10\n",
      "160/160 [==============================] - 2s 13ms/step - loss: 0.5648 - accuracy: 0.6983\n",
      "Epoch 9/10\n",
      "160/160 [==============================] - 2s 13ms/step - loss: 0.5211 - accuracy: 0.7366\n",
      "Epoch 10/10\n",
      "160/160 [==============================] - 2s 13ms/step - loss: 0.4750 - accuracy: 0.7699\n",
      "Test loss: 0.6180073618888855\n",
      "Test accuracy: 0.6924999952316284\n"
     ]
    }
   ],
   "source": [
    "best_model = create_model(filters=best_filters, pool_sizes=best_pool_size, dense_size=best_dense_size)\n",
    "best_model.fit(x_train, y_train, batch_size=10, epochs=10)\n",
    "loss, accuracy = best_model.evaluate(x_test, y_test, verbose=0)\n",
    "print('Test loss:', loss)\n",
    "print('Test accuracy:', accuracy)"
   ]
  },
  {
   "cell_type": "markdown",
   "metadata": {
    "id": "34NJ51zTwlK7"
   },
   "source": [
    "Для своего классификатора точность 70% - неплохая"
   ]
  },
  {
   "cell_type": "markdown",
   "metadata": {
    "id": "Xpj5THol8z71"
   },
   "source": [
    "Очистим данные"
   ]
  },
  {
   "cell_type": "code",
   "execution_count": 26,
   "metadata": {
    "id": "RP4FL-RQ8z77"
   },
   "outputs": [],
   "source": [
    "locals().clear()\n",
    "for element in dir():\n",
    "    if element[0:2] != \"__\":\n",
    "        del globals()[element]"
   ]
  },
  {
   "cell_type": "markdown",
   "metadata": {
    "id": "a1MoRw2YZNe6"
   },
   "source": [
    "# Сеть VGG16"
   ]
  },
  {
   "cell_type": "markdown",
   "metadata": {
    "id": "DfbTmhBO9uH6"
   },
   "source": [
    "Восстановим данные после очищения"
   ]
  },
  {
   "cell_type": "code",
   "execution_count": 27,
   "metadata": {
    "id": "aS2xMitO_Lgu"
   },
   "outputs": [],
   "source": [
    "import numpy as np\n",
    "\n",
    "import keras\n",
    "from keras.preprocessing import image\n",
    "from keras.applications.imagenet_utils import preprocess_input\n",
    "\n",
    "from keras.layers import Dense, Conv2D, MaxPooling2D, InputLayer, Flatten\n",
    "from keras.models import Model, Sequential\n",
    "\n",
    "import random"
   ]
  },
  {
   "cell_type": "code",
   "execution_count": 28,
   "metadata": {
    "colab": {
     "base_uri": "https://localhost:8080/"
    },
    "id": "f-2GO2Ye9BH6",
    "outputId": "6062804c-0eb7-455a-9b58-431a60da4afd"
   },
   "outputs": [
    {
     "name": "stdout",
     "output_type": "stream",
     "text": [
      "['train/cat', 'train/dog']\n"
     ]
    }
   ],
   "source": [
    "import os\n",
    "\n",
    "root = 'train'\n",
    "categories = [x[0] for x in os.walk(root) if x[0]][1:]\n",
    "del root\n",
    "\n",
    "print(categories)"
   ]
  },
  {
   "cell_type": "code",
   "execution_count": 29,
   "metadata": {
    "id": "sEsRzlsD_AVv"
   },
   "outputs": [],
   "source": [
    "# helper function to load image and return it and input vector\n",
    "def get_image(path):\n",
    "    img = image.load_img(path, target_size=(224, 224))\n",
    "    x = image.img_to_array(img)\n",
    "    x = np.expand_dims(x, axis=0)\n",
    "    x = preprocess_input(x)\n",
    "    return img, x  "
   ]
  },
  {
   "cell_type": "code",
   "execution_count": 30,
   "metadata": {
    "colab": {
     "base_uri": "https://localhost:8080/"
    },
    "id": "0Dj0qw2Q9BIA",
    "outputId": "55dfa208-f7c8-4980-b899-55c6ea5b2348"
   },
   "outputs": [
    {
     "name": "stdout",
     "output_type": "stream",
     "text": [
      "[[0. 1.]\n",
      " [1. 0.]\n",
      " [0. 1.]\n",
      " [1. 0.]\n",
      " [0. 1.]]\n"
     ]
    }
   ],
   "source": [
    "data = []\n",
    "for c, category in enumerate(categories):\n",
    "    images = [os.path.join(dp, f) for dp, dn, filenames \n",
    "              in os.walk(category) for f in filenames \n",
    "              if os.path.splitext(f)[1].lower() in ['.jpg']]\n",
    "    for img_path in images:\n",
    "        img, x = get_image(img_path)\n",
    "        data.append({'x':np.array(x[0]), 'y':c})\n",
    "\n",
    "# count the number of classes\n",
    "num_classes = len(categories)\n",
    "\n",
    "random.shuffle(data)\n",
    "train_split = 0.8\n",
    "idx_test = int((train_split) * len(data))\n",
    "\n",
    "data_train = data[:idx_test]\n",
    "data_test = data[idx_test:]\n",
    "del data\n",
    "x_train, y_train = np.array([t[\"x\"] for t in data_train]), [t[\"y\"] for t in data_train]\n",
    "x_test, y_test = np.array([t[\"x\"] for t in data_test]), [t[\"y\"] for t in data_test]\n",
    "del data_train\n",
    "del data_test\n",
    "x_train = x_train.astype('float') / 255.0\n",
    "x_test = x_test.astype('float') / 255.0\n",
    "# convert labels to one-hot vectors\n",
    "y_train = keras.utils.to_categorical(y_train, num_classes)\n",
    "y_test = keras.utils.to_categorical(y_test, num_classes)\n",
    "print(y_train[:5])"
   ]
  },
  {
   "cell_type": "markdown",
   "metadata": {
    "id": "SdgnIteWfMpM"
   },
   "source": [
    "![image.png](data:image/png;base64,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)\n",
    "\n",
    "https://arxiv.org/pdf/1409.1556.pdf"
   ]
  },
  {
   "cell_type": "markdown",
   "metadata": {
    "id": "lAGJPpzugp_3"
   },
   "source": [
    "Загрузка модели [VGG16](https://arxiv.org/pdf/1409.1556.pdf) по [ссылке](https://storage.googleapis.com/tensorflow/keras-applications/vgg16/vgg16_weights_tf_dim_ordering_tf_kernels.h5)"
   ]
  },
  {
   "cell_type": "code",
   "execution_count": 31,
   "metadata": {
    "colab": {
     "base_uri": "https://localhost:8080/"
    },
    "id": "efqXmiWggXcL",
    "outputId": "ebca94bc-1995-4a70-ea02-bbd5721f0bb3"
   },
   "outputs": [
    {
     "name": "stdout",
     "output_type": "stream",
     "text": [
      "Downloading data from https://storage.googleapis.com/tensorflow/keras-applications/vgg16/vgg16_weights_tf_dim_ordering_tf_kernels.h5\n",
      "553467904/553467096 [==============================] - 4s 0us/step\n",
      "Model: \"vgg16\"\n",
      "_________________________________________________________________\n",
      "Layer (type)                 Output Shape              Param #   \n",
      "=================================================================\n",
      "input_5 (InputLayer)         [(None, 224, 224, 3)]     0         \n",
      "_________________________________________________________________\n",
      "block1_conv1 (Conv2D)        (None, 224, 224, 64)      1792      \n",
      "_________________________________________________________________\n",
      "block1_conv2 (Conv2D)        (None, 224, 224, 64)      36928     \n",
      "_________________________________________________________________\n",
      "block1_pool (MaxPooling2D)   (None, 112, 112, 64)      0         \n",
      "_________________________________________________________________\n",
      "block2_conv1 (Conv2D)        (None, 112, 112, 128)     73856     \n",
      "_________________________________________________________________\n",
      "block2_conv2 (Conv2D)        (None, 112, 112, 128)     147584    \n",
      "_________________________________________________________________\n",
      "block2_pool (MaxPooling2D)   (None, 56, 56, 128)       0         \n",
      "_________________________________________________________________\n",
      "block3_conv1 (Conv2D)        (None, 56, 56, 256)       295168    \n",
      "_________________________________________________________________\n",
      "block3_conv2 (Conv2D)        (None, 56, 56, 256)       590080    \n",
      "_________________________________________________________________\n",
      "block3_conv3 (Conv2D)        (None, 56, 56, 256)       590080    \n",
      "_________________________________________________________________\n",
      "block3_pool (MaxPooling2D)   (None, 28, 28, 256)       0         \n",
      "_________________________________________________________________\n",
      "block4_conv1 (Conv2D)        (None, 28, 28, 512)       1180160   \n",
      "_________________________________________________________________\n",
      "block4_conv2 (Conv2D)        (None, 28, 28, 512)       2359808   \n",
      "_________________________________________________________________\n",
      "block4_conv3 (Conv2D)        (None, 28, 28, 512)       2359808   \n",
      "_________________________________________________________________\n",
      "block4_pool (MaxPooling2D)   (None, 14, 14, 512)       0         \n",
      "_________________________________________________________________\n",
      "block5_conv1 (Conv2D)        (None, 14, 14, 512)       2359808   \n",
      "_________________________________________________________________\n",
      "block5_conv2 (Conv2D)        (None, 14, 14, 512)       2359808   \n",
      "_________________________________________________________________\n",
      "block5_conv3 (Conv2D)        (None, 14, 14, 512)       2359808   \n",
      "_________________________________________________________________\n",
      "block5_pool (MaxPooling2D)   (None, 7, 7, 512)         0         \n",
      "_________________________________________________________________\n",
      "flatten (Flatten)            (None, 25088)             0         \n",
      "_________________________________________________________________\n",
      "fc1 (Dense)                  (None, 4096)              102764544 \n",
      "_________________________________________________________________\n",
      "fc2 (Dense)                  (None, 4096)              16781312  \n",
      "_________________________________________________________________\n",
      "predictions (Dense)          (None, 1000)              4097000   \n",
      "=================================================================\n",
      "Total params: 138,357,544\n",
      "Trainable params: 138,357,544\n",
      "Non-trainable params: 0\n",
      "_________________________________________________________________\n"
     ]
    }
   ],
   "source": [
    "vgg = keras.applications.VGG16(weights='imagenet', include_top=True)\n",
    "vgg.summary()"
   ]
  },
  {
   "cell_type": "markdown",
   "metadata": {
    "id": "180FvUQ_hOvh"
   },
   "source": [
    "Замена последнего слоя на пользовательский, который будет уметь предсказывать ровно три класса - те, которые мы задали. Отсоединяем предыдущий последний слой и подсоединяем созданный"
   ]
  },
  {
   "cell_type": "code",
   "execution_count": 32,
   "metadata": {
    "id": "yEbnjp0pgtJI"
   },
   "outputs": [],
   "source": [
    "# make a reference to VGG's input layer\n",
    "inp = vgg.input\n",
    "\n",
    "# make a new softmax layer with num_classes neurons\n",
    "new_classification_layer = Dense(num_classes, activation='softmax')\n",
    "\n",
    "# connect our new layer to the second to last layer in VGG, and make a reference to it\n",
    "out = new_classification_layer(vgg.layers[-2].output)\n",
    "\n",
    "# create a new network between inp and out\n",
    "model_new = Model(inp, out)"
   ]
  },
  {
   "cell_type": "markdown",
   "metadata": {
    "id": "6RirGEP2mGi3"
   },
   "source": [
    "Просмотр всех слоев модели"
   ]
  },
  {
   "cell_type": "code",
   "execution_count": 33,
   "metadata": {
    "colab": {
     "base_uri": "https://localhost:8080/"
    },
    "id": "bqRU2CPfjI-I",
    "outputId": "de23b48a-60c1-4dd1-ce7c-c72a1e8db17f"
   },
   "outputs": [
    {
     "name": "stdout",
     "output_type": "stream",
     "text": [
      "Model: \"model\"\n",
      "_________________________________________________________________\n",
      "Layer (type)                 Output Shape              Param #   \n",
      "=================================================================\n",
      "input_5 (InputLayer)         [(None, 224, 224, 3)]     0         \n",
      "_________________________________________________________________\n",
      "block1_conv1 (Conv2D)        (None, 224, 224, 64)      1792      \n",
      "_________________________________________________________________\n",
      "block1_conv2 (Conv2D)        (None, 224, 224, 64)      36928     \n",
      "_________________________________________________________________\n",
      "block1_pool (MaxPooling2D)   (None, 112, 112, 64)      0         \n",
      "_________________________________________________________________\n",
      "block2_conv1 (Conv2D)        (None, 112, 112, 128)     73856     \n",
      "_________________________________________________________________\n",
      "block2_conv2 (Conv2D)        (None, 112, 112, 128)     147584    \n",
      "_________________________________________________________________\n",
      "block2_pool (MaxPooling2D)   (None, 56, 56, 128)       0         \n",
      "_________________________________________________________________\n",
      "block3_conv1 (Conv2D)        (None, 56, 56, 256)       295168    \n",
      "_________________________________________________________________\n",
      "block3_conv2 (Conv2D)        (None, 56, 56, 256)       590080    \n",
      "_________________________________________________________________\n",
      "block3_conv3 (Conv2D)        (None, 56, 56, 256)       590080    \n",
      "_________________________________________________________________\n",
      "block3_pool (MaxPooling2D)   (None, 28, 28, 256)       0         \n",
      "_________________________________________________________________\n",
      "block4_conv1 (Conv2D)        (None, 28, 28, 512)       1180160   \n",
      "_________________________________________________________________\n",
      "block4_conv2 (Conv2D)        (None, 28, 28, 512)       2359808   \n",
      "_________________________________________________________________\n",
      "block4_conv3 (Conv2D)        (None, 28, 28, 512)       2359808   \n",
      "_________________________________________________________________\n",
      "block4_pool (MaxPooling2D)   (None, 14, 14, 512)       0         \n",
      "_________________________________________________________________\n",
      "block5_conv1 (Conv2D)        (None, 14, 14, 512)       2359808   \n",
      "_________________________________________________________________\n",
      "block5_conv2 (Conv2D)        (None, 14, 14, 512)       2359808   \n",
      "_________________________________________________________________\n",
      "block5_conv3 (Conv2D)        (None, 14, 14, 512)       2359808   \n",
      "_________________________________________________________________\n",
      "block5_pool (MaxPooling2D)   (None, 7, 7, 512)         0         \n",
      "_________________________________________________________________\n",
      "flatten (Flatten)            (None, 25088)             0         \n",
      "_________________________________________________________________\n",
      "fc1 (Dense)                  (None, 4096)              102764544 \n",
      "_________________________________________________________________\n",
      "fc2 (Dense)                  (None, 4096)              16781312  \n",
      "_________________________________________________________________\n",
      "dense_12 (Dense)             (None, 2)                 8194      \n",
      "=================================================================\n",
      "Total params: 134,268,738\n",
      "Trainable params: 134,268,738\n",
      "Non-trainable params: 0\n",
      "_________________________________________________________________\n"
     ]
    }
   ],
   "source": [
    "model_new.summary()"
   ]
  },
  {
   "cell_type": "markdown",
   "metadata": {
    "id": "1TdYsK10lh1B"
   },
   "source": [
    "Выключаем тренировку для всех слоев кроме последнего (dense_1).\n",
    "\n",
    "Включаем тренировку для последнего слоя."
   ]
  },
  {
   "cell_type": "code",
   "execution_count": 34,
   "metadata": {
    "id": "mOkhOU-blPfg"
   },
   "outputs": [],
   "source": [
    "for l, layer in enumerate(model_new.layers[:-1]):\n",
    "    layer.trainable = False\n",
    "\n",
    "# ensure the last layer is trainable/not frozen\n",
    "for l, layer in enumerate(model_new.layers[-1:]):\n",
    "    layer.trainable = True"
   ]
  },
  {
   "cell_type": "markdown",
   "metadata": {
    "id": "0R7QzMH6mYvr"
   },
   "source": [
    "Компилируем модель с:\n",
    "- категориальной кроссэнтропией (именно для нее мы применяли one hot кодирование) Метки классов\n",
    "[[1.0, 0.0],\n",
    "[0.0, 0.0],...\n",
    "],\n",
    "\n",
    "- оптимизатором adam ([adaptive moments](https://vbystricky.github.io/2018/03/optimization_grad_desc.html)) - работа на основе моментов\n",
    "\n",
    "- метрикой accuracy (точность)"
   ]
  },
  {
   "cell_type": "code",
   "execution_count": 35,
   "metadata": {
    "colab": {
     "base_uri": "https://localhost:8080/"
    },
    "id": "Wc549NqCmWoG",
    "outputId": "7cb26176-8a59-4cb2-aa5d-c121450ecad3"
   },
   "outputs": [
    {
     "name": "stdout",
     "output_type": "stream",
     "text": [
      "Model: \"model\"\n",
      "_________________________________________________________________\n",
      "Layer (type)                 Output Shape              Param #   \n",
      "=================================================================\n",
      "input_5 (InputLayer)         [(None, 224, 224, 3)]     0         \n",
      "_________________________________________________________________\n",
      "block1_conv1 (Conv2D)        (None, 224, 224, 64)      1792      \n",
      "_________________________________________________________________\n",
      "block1_conv2 (Conv2D)        (None, 224, 224, 64)      36928     \n",
      "_________________________________________________________________\n",
      "block1_pool (MaxPooling2D)   (None, 112, 112, 64)      0         \n",
      "_________________________________________________________________\n",
      "block2_conv1 (Conv2D)        (None, 112, 112, 128)     73856     \n",
      "_________________________________________________________________\n",
      "block2_conv2 (Conv2D)        (None, 112, 112, 128)     147584    \n",
      "_________________________________________________________________\n",
      "block2_pool (MaxPooling2D)   (None, 56, 56, 128)       0         \n",
      "_________________________________________________________________\n",
      "block3_conv1 (Conv2D)        (None, 56, 56, 256)       295168    \n",
      "_________________________________________________________________\n",
      "block3_conv2 (Conv2D)        (None, 56, 56, 256)       590080    \n",
      "_________________________________________________________________\n",
      "block3_conv3 (Conv2D)        (None, 56, 56, 256)       590080    \n",
      "_________________________________________________________________\n",
      "block3_pool (MaxPooling2D)   (None, 28, 28, 256)       0         \n",
      "_________________________________________________________________\n",
      "block4_conv1 (Conv2D)        (None, 28, 28, 512)       1180160   \n",
      "_________________________________________________________________\n",
      "block4_conv2 (Conv2D)        (None, 28, 28, 512)       2359808   \n",
      "_________________________________________________________________\n",
      "block4_conv3 (Conv2D)        (None, 28, 28, 512)       2359808   \n",
      "_________________________________________________________________\n",
      "block4_pool (MaxPooling2D)   (None, 14, 14, 512)       0         \n",
      "_________________________________________________________________\n",
      "block5_conv1 (Conv2D)        (None, 14, 14, 512)       2359808   \n",
      "_________________________________________________________________\n",
      "block5_conv2 (Conv2D)        (None, 14, 14, 512)       2359808   \n",
      "_________________________________________________________________\n",
      "block5_conv3 (Conv2D)        (None, 14, 14, 512)       2359808   \n",
      "_________________________________________________________________\n",
      "block5_pool (MaxPooling2D)   (None, 7, 7, 512)         0         \n",
      "_________________________________________________________________\n",
      "flatten (Flatten)            (None, 25088)             0         \n",
      "_________________________________________________________________\n",
      "fc1 (Dense)                  (None, 4096)              102764544 \n",
      "_________________________________________________________________\n",
      "fc2 (Dense)                  (None, 4096)              16781312  \n",
      "_________________________________________________________________\n",
      "dense_12 (Dense)             (None, 2)                 8194      \n",
      "=================================================================\n",
      "Total params: 134,268,738\n",
      "Trainable params: 8,194\n",
      "Non-trainable params: 134,260,544\n",
      "_________________________________________________________________\n"
     ]
    }
   ],
   "source": [
    "model_new.compile(loss='categorical_crossentropy',\n",
    "              optimizer='adam',\n",
    "              metrics=['accuracy'])\n",
    "\n",
    "model_new.summary()"
   ]
  },
  {
   "cell_type": "markdown",
   "metadata": {
    "id": "hw5kC1ann9nP"
   },
   "source": [
    "Замечаем, что число параметров для тренировки равно числу параметров последнего слоя - мы отключили тренировку для остальных слоев."
   ]
  },
  {
   "cell_type": "markdown",
   "metadata": {
    "id": "ibF_8Lr0oQsH"
   },
   "source": [
    "## Обучение модели"
   ]
  },
  {
   "cell_type": "code",
   "execution_count": 36,
   "metadata": {
    "colab": {
     "base_uri": "https://localhost:8080/"
    },
    "id": "vvVlIjD6n63f",
    "outputId": "8256829f-60c1-4d6e-ed15-30d819c3ef85"
   },
   "outputs": [
    {
     "name": "stdout",
     "output_type": "stream",
     "text": [
      "Epoch 1/10\n",
      "160/160 [==============================] - 12s 56ms/step - loss: 0.5808 - accuracy: 0.6893\n",
      "Epoch 2/10\n",
      "160/160 [==============================] - 9s 58ms/step - loss: 0.3731 - accuracy: 0.8314\n",
      "Epoch 3/10\n",
      "160/160 [==============================] - 10s 61ms/step - loss: 0.2923 - accuracy: 0.8733\n",
      "Epoch 4/10\n",
      "160/160 [==============================] - 10s 61ms/step - loss: 0.2859 - accuracy: 0.8858\n",
      "Epoch 5/10\n",
      "160/160 [==============================] - 10s 61ms/step - loss: 0.2355 - accuracy: 0.8998\n",
      "Epoch 6/10\n",
      "160/160 [==============================] - 10s 61ms/step - loss: 0.2377 - accuracy: 0.9024\n",
      "Epoch 7/10\n",
      "160/160 [==============================] - 10s 61ms/step - loss: 0.2363 - accuracy: 0.9086\n",
      "Epoch 8/10\n",
      "160/160 [==============================] - 10s 60ms/step - loss: 0.2183 - accuracy: 0.9105\n",
      "Epoch 9/10\n",
      "160/160 [==============================] - 9s 59ms/step - loss: 0.1611 - accuracy: 0.9448\n",
      "Epoch 10/10\n",
      "160/160 [==============================] - 9s 59ms/step - loss: 0.1529 - accuracy: 0.9378\n"
     ]
    }
   ],
   "source": [
    "model_new.fit(x_train, y_train, batch_size=10, epochs=10)\n",
    "del x_train\n",
    "del y_train"
   ]
  },
  {
   "cell_type": "markdown",
   "metadata": {
    "id": "QL5jyT4KoniH"
   },
   "source": [
    "подсчитаем метрики качества на тестовой выборке"
   ]
  },
  {
   "cell_type": "code",
   "execution_count": 37,
   "metadata": {
    "colab": {
     "base_uri": "https://localhost:8080/"
    },
    "id": "JxMCZT_CoUpi",
    "outputId": "8836f41b-0a0e-49f5-aab3-4b2ec66a6877"
   },
   "outputs": [
    {
     "name": "stdout",
     "output_type": "stream",
     "text": [
      "Test loss: 0.1574888974428177\n",
      "Test accuracy: 0.9474999904632568\n"
     ]
    }
   ],
   "source": [
    "loss, accuracy = model_new.evaluate(x_test, y_test, verbose=0)\n",
    "del x_test\n",
    "del y_test\n",
    "print('Test loss:', loss)\n",
    "print('Test accuracy:', accuracy)"
   ]
  },
  {
   "cell_type": "markdown",
   "metadata": {
    "id": "Z-hht44fLXzS"
   },
   "source": [
    "94% - неплохой результат для тестовых данных. Попробуем улучшить его.\n",
    "\n",
    "Попробуем пойти другим путем - дообучать модель - благо у нас есть 10000 изображений.\n",
    "\n",
    "Обучим на первых 11500, а остальные 1000 оставим на тест."
   ]
  },
  {
   "cell_type": "markdown",
   "metadata": {
    "id": "r0Ps4atuzvxz"
   },
   "source": [
    "Очистим все переменные"
   ]
  },
  {
   "cell_type": "code",
   "execution_count": 40,
   "metadata": {
    "id": "S7QGl0EnC8zn"
   },
   "outputs": [],
   "source": [
    "locals().clear()\n",
    "for element in dir():\n",
    "    if element[0:2] != \"__\":\n",
    "        del globals()[element]"
   ]
  },
  {
   "cell_type": "markdown",
   "metadata": {
    "id": "7hdXh_iuoNUQ"
   },
   "source": [
    "Распределим все изображения по соответствующим папкам"
   ]
  },
  {
   "cell_type": "code",
   "execution_count": 41,
   "metadata": {
    "id": "zq4D9SwkC-ht"
   },
   "outputs": [],
   "source": [
    "import os\n",
    "root = 'train'\n",
    "old_path = 'train/'\n",
    "new_path_cat = 'train/cat/'\n",
    "new_path_dog = 'train/dog/'\n",
    "for x in os.walk(root):\n",
    "  file_names = x[2]\n",
    "  for name in file_names:\n",
    "    if name.find('cat') != -1:\n",
    "      os.replace(old_path + name, new_path_cat + name[4:])\n",
    "    elif name.find('dog') != -1:\n",
    "      os.replace(old_path + name, new_path_dog + name[4:])"
   ]
  },
  {
   "cell_type": "code",
   "execution_count": 42,
   "metadata": {
    "id": "R634SatNzyEY"
   },
   "outputs": [],
   "source": [
    "locals().clear()\n",
    "for element in dir():\n",
    "    if element[0:2] != \"__\":\n",
    "        del globals()[element]"
   ]
  },
  {
   "cell_type": "markdown",
   "metadata": {
    "id": "cMpHNGpJQKWm"
   },
   "source": [
    "Проделаем все операции выше, только с батчами\n",
    "\n",
    "Следим за памятью"
   ]
  },
  {
   "cell_type": "code",
   "execution_count": 43,
   "metadata": {
    "id": "IFppGpg-_uCz"
   },
   "outputs": [],
   "source": [
    "import numpy as np\n",
    "\n",
    "import keras\n",
    "from keras.preprocessing import image\n",
    "from keras.applications.imagenet_utils import preprocess_input\n",
    "\n",
    "from keras.layers import Dense\n",
    "from keras.models import Model\n",
    "\n",
    "import os"
   ]
  },
  {
   "cell_type": "markdown",
   "metadata": {
    "id": "MS9ZkA59NfbY"
   },
   "source": [
    "Объявим функцию перебора индекса - она будет разделять данные на обучение и тест"
   ]
  },
  {
   "cell_type": "code",
   "execution_count": 44,
   "metadata": {
    "id": "RJwbrmDeNmpk"
   },
   "outputs": [],
   "source": [
    "# return range, bool\n",
    "# bool is index of test elements\n",
    "def split_lens_data(lens=0, test_size=1000, batch_size=1000):\n",
    "  new_lens = lens - test_size\n",
    "  last_idx = 0\n",
    "  for i in range(new_lens // batch_size):\n",
    "    yield [last_idx, last_idx + batch_size], True\n",
    "    last_idx += batch_size\n",
    "  if new_lens % batch_size:\n",
    "    yield [last_idx, new_lens], True\n",
    "  yield [new_lens, new_lens + test_size], False"
   ]
  },
  {
   "cell_type": "code",
   "execution_count": 45,
   "metadata": {
    "id": "-SFHs3LI_2pR"
   },
   "outputs": [],
   "source": [
    "# helper function to load image and return it and input vector\n",
    "def get_image(path):\n",
    "    img = image.load_img(path, target_size=(224, 224))\n",
    "    x = image.img_to_array(img)\n",
    "    x = np.expand_dims(x, axis=0)\n",
    "    x = preprocess_input(x)\n",
    "    return img, x  "
   ]
  },
  {
   "cell_type": "code",
   "execution_count": 46,
   "metadata": {
    "id": "6ITgEg0J6pjJ"
   },
   "outputs": [],
   "source": [
    "vgg = keras.applications.VGG16(weights='imagenet', include_top=True)\n",
    "\n",
    "# make a reference to VGG's input layer\n",
    "inp = vgg.input\n",
    "\n",
    "num_classes = 2\n",
    "# make a new softmax layer with num_classes neurons\n",
    "new_classification_layer = Dense(num_classes, activation='softmax')\n",
    "\n",
    "\n",
    "# connect our new layer to the second to last layer in VGG, and make a reference to it\n",
    "out = new_classification_layer(vgg.layers[-2].output)\n",
    "\n",
    "# create a new network between inp and out\n",
    "model_new = Model(inp, out)\n",
    "del new_classification_layer\n",
    "del inp\n",
    "del out\n",
    "del vgg\n",
    "\n",
    "for l, layer in enumerate(model_new.layers[:-1]):\n",
    "    layer.trainable = False\n",
    "# ensure the last layer is trainable/not frozen\n",
    "for l, layer in enumerate(model_new.layers[-1:]):\n",
    "    layer.trainable = True\n",
    "\n",
    "model_new.compile(loss='categorical_crossentropy',\n",
    "              optimizer='adam',\n",
    "              metrics=['accuracy'])"
   ]
  },
  {
   "cell_type": "code",
   "execution_count": 47,
   "metadata": {
    "colab": {
     "base_uri": "https://localhost:8080/"
    },
    "id": "jxmHurFLHErc",
    "outputId": "991b4678-d3d6-4d3f-a259-214670a40e17"
   },
   "outputs": [
    {
     "name": "stdout",
     "output_type": "stream",
     "text": [
      "[12500, 12500]\n"
     ]
    }
   ],
   "source": [
    "roots = ['train/cat/', 'train/dog/']\n",
    "lens = []\n",
    "for root in roots:\n",
    "  # распечатать все файлы и папки рекурсивно\n",
    "  for dirpath, dirnames, filenames in os.walk(root):\n",
    "      # перебрать файлы\n",
    "      lens.append(len(filenames))\n",
    "print(lens)"
   ]
  },
  {
   "cell_type": "code",
   "execution_count": 48,
   "metadata": {
    "id": "zzbHYn8SRrwV"
   },
   "outputs": [],
   "source": [
    "lens_data = lens[0]"
   ]
  },
  {
   "cell_type": "code",
   "execution_count": 51,
   "metadata": {
    "colab": {
     "base_uri": "https://localhost:8080/"
    },
    "id": "nGccGkSCNc9E",
    "outputId": "63f842ca-d97b-4362-82e8-bc846cc139f6"
   },
   "outputs": [
    {
     "name": "stdout",
     "output_type": "stream",
     "text": [
      "Train on images: [0, 1000]\n",
      "Epoch 1/10\n",
      "200/200 [==============================] - 12s 58ms/step - loss: 0.2215 - accuracy: 0.9050\n",
      "Epoch 2/10\n",
      "200/200 [==============================] - 12s 61ms/step - loss: 0.2013 - accuracy: 0.9190\n",
      "Epoch 3/10\n",
      "200/200 [==============================] - 12s 61ms/step - loss: 0.2103 - accuracy: 0.9130\n",
      "Epoch 4/10\n",
      "200/200 [==============================] - 12s 61ms/step - loss: 0.1821 - accuracy: 0.9230\n",
      "Epoch 5/10\n",
      "200/200 [==============================] - 12s 61ms/step - loss: 0.2198 - accuracy: 0.9045\n",
      "Epoch 6/10\n",
      "200/200 [==============================] - 12s 59ms/step - loss: 0.1784 - accuracy: 0.9230\n",
      "Epoch 7/10\n",
      "200/200 [==============================] - 12s 58ms/step - loss: 0.1749 - accuracy: 0.9230\n",
      "Epoch 8/10\n",
      "200/200 [==============================] - 12s 59ms/step - loss: 0.1795 - accuracy: 0.9265\n",
      "Epoch 9/10\n",
      "200/200 [==============================] - 12s 60ms/step - loss: 0.1863 - accuracy: 0.9235\n",
      "Epoch 10/10\n",
      "200/200 [==============================] - 12s 61ms/step - loss: 0.1780 - accuracy: 0.9225\n",
      "Train on images: [1000, 2000]\n",
      "Epoch 1/10\n",
      "200/200 [==============================] - 12s 60ms/step - loss: 0.2538 - accuracy: 0.9070\n",
      "Epoch 2/10\n",
      "200/200 [==============================] - 12s 61ms/step - loss: 0.2462 - accuracy: 0.9100\n",
      "Epoch 3/10\n",
      "200/200 [==============================] - 12s 61ms/step - loss: 0.2405 - accuracy: 0.9015\n",
      "Epoch 4/10\n",
      "200/200 [==============================] - 12s 61ms/step - loss: 0.2076 - accuracy: 0.9195\n",
      "Epoch 5/10\n",
      "200/200 [==============================] - 12s 60ms/step - loss: 0.2194 - accuracy: 0.9055\n",
      "Epoch 6/10\n",
      "200/200 [==============================] - 12s 60ms/step - loss: 0.1902 - accuracy: 0.9245\n",
      "Epoch 7/10\n",
      "200/200 [==============================] - 12s 60ms/step - loss: 0.1894 - accuracy: 0.9225\n",
      "Epoch 8/10\n",
      "200/200 [==============================] - 12s 60ms/step - loss: 0.2304 - accuracy: 0.9075\n",
      "Epoch 9/10\n",
      "200/200 [==============================] - 12s 61ms/step - loss: 0.1850 - accuracy: 0.9190\n",
      "Epoch 10/10\n",
      "200/200 [==============================] - 12s 61ms/step - loss: 0.2729 - accuracy: 0.8940\n",
      "Train on images: [2000, 3000]\n",
      "Epoch 1/10\n",
      "200/200 [==============================] - 12s 59ms/step - loss: 0.2256 - accuracy: 0.9140\n",
      "Epoch 2/10\n",
      "200/200 [==============================] - 12s 61ms/step - loss: 0.2015 - accuracy: 0.9240\n",
      "Epoch 3/10\n",
      "200/200 [==============================] - 12s 61ms/step - loss: 0.2032 - accuracy: 0.9210\n",
      "Epoch 4/10\n",
      "200/200 [==============================] - 12s 61ms/step - loss: 0.2550 - accuracy: 0.9010\n",
      "Epoch 5/10\n",
      "200/200 [==============================] - 12s 61ms/step - loss: 0.2081 - accuracy: 0.9180\n",
      "Epoch 6/10\n",
      "200/200 [==============================] - 12s 59ms/step - loss: 0.1947 - accuracy: 0.9190\n",
      "Epoch 7/10\n",
      "200/200 [==============================] - 12s 59ms/step - loss: 0.1956 - accuracy: 0.9185\n",
      "Epoch 8/10\n",
      "200/200 [==============================] - 12s 60ms/step - loss: 0.1828 - accuracy: 0.9175\n",
      "Epoch 9/10\n",
      "200/200 [==============================] - 12s 61ms/step - loss: 0.1778 - accuracy: 0.9280\n",
      "Epoch 10/10\n",
      "200/200 [==============================] - 12s 61ms/step - loss: 0.1533 - accuracy: 0.9330\n",
      "Train on images: [3000, 4000]\n",
      "Epoch 1/10\n",
      "200/200 [==============================] - 12s 59ms/step - loss: 0.2584 - accuracy: 0.9060\n",
      "Epoch 2/10\n",
      "200/200 [==============================] - 12s 61ms/step - loss: 0.2638 - accuracy: 0.8970\n",
      "Epoch 3/10\n",
      "200/200 [==============================] - 12s 61ms/step - loss: 0.2571 - accuracy: 0.9010\n",
      "Epoch 4/10\n",
      "200/200 [==============================] - 12s 61ms/step - loss: 0.2276 - accuracy: 0.9100\n",
      "Epoch 5/10\n",
      "200/200 [==============================] - 12s 60ms/step - loss: 0.2242 - accuracy: 0.9095\n",
      "Epoch 6/10\n",
      "200/200 [==============================] - 12s 59ms/step - loss: 0.2131 - accuracy: 0.9145\n",
      "Epoch 7/10\n",
      "200/200 [==============================] - 12s 60ms/step - loss: 0.2183 - accuracy: 0.9055\n",
      "Epoch 8/10\n",
      "200/200 [==============================] - 12s 61ms/step - loss: 0.1993 - accuracy: 0.9210\n",
      "Epoch 9/10\n",
      "200/200 [==============================] - 12s 61ms/step - loss: 0.2541 - accuracy: 0.8995\n",
      "Epoch 10/10\n",
      "200/200 [==============================] - 12s 61ms/step - loss: 0.2005 - accuracy: 0.9180\n",
      "Train on images: [4000, 5000]\n",
      "Epoch 1/10\n",
      "200/200 [==============================] - 12s 59ms/step - loss: 0.2179 - accuracy: 0.9140\n",
      "Epoch 2/10\n",
      "200/200 [==============================] - 12s 61ms/step - loss: 0.2070 - accuracy: 0.9120\n",
      "Epoch 3/10\n",
      "200/200 [==============================] - 12s 61ms/step - loss: 0.2497 - accuracy: 0.9045\n",
      "Epoch 4/10\n",
      "200/200 [==============================] - 12s 61ms/step - loss: 0.2385 - accuracy: 0.9070\n",
      "Epoch 5/10\n",
      "200/200 [==============================] - 12s 60ms/step - loss: 0.1826 - accuracy: 0.9260\n",
      "Epoch 6/10\n",
      "200/200 [==============================] - 12s 60ms/step - loss: 0.1775 - accuracy: 0.9295\n",
      "Epoch 7/10\n",
      "200/200 [==============================] - 12s 60ms/step - loss: 0.2298 - accuracy: 0.9040\n",
      "Epoch 8/10\n",
      "200/200 [==============================] - 12s 60ms/step - loss: 0.1801 - accuracy: 0.9215\n",
      "Epoch 9/10\n",
      "200/200 [==============================] - 12s 61ms/step - loss: 0.1739 - accuracy: 0.9255\n",
      "Epoch 10/10\n",
      "200/200 [==============================] - 12s 61ms/step - loss: 0.2073 - accuracy: 0.9145\n",
      "Train on images: [5000, 6000]\n",
      "Epoch 1/10\n",
      "200/200 [==============================] - 12s 59ms/step - loss: 0.2188 - accuracy: 0.9130\n",
      "Epoch 2/10\n",
      "200/200 [==============================] - 12s 61ms/step - loss: 0.1913 - accuracy: 0.9275\n",
      "Epoch 3/10\n",
      "200/200 [==============================] - 12s 61ms/step - loss: 0.1853 - accuracy: 0.9250\n",
      "Epoch 4/10\n",
      "200/200 [==============================] - 12s 61ms/step - loss: 0.2089 - accuracy: 0.9130\n",
      "Epoch 5/10\n",
      "200/200 [==============================] - 12s 61ms/step - loss: 0.2341 - accuracy: 0.9140\n",
      "Epoch 6/10\n",
      "200/200 [==============================] - 12s 60ms/step - loss: 0.1716 - accuracy: 0.9260\n",
      "Epoch 7/10\n",
      "200/200 [==============================] - 12s 60ms/step - loss: 0.1854 - accuracy: 0.9270\n",
      "Epoch 8/10\n",
      "200/200 [==============================] - 12s 61ms/step - loss: 0.1530 - accuracy: 0.9375\n",
      "Epoch 9/10\n",
      "200/200 [==============================] - 12s 61ms/step - loss: 0.1516 - accuracy: 0.9365\n",
      "Epoch 10/10\n",
      "200/200 [==============================] - 12s 61ms/step - loss: 0.1539 - accuracy: 0.9375\n",
      "Train on images: [6000, 7000]\n",
      "Epoch 1/10\n",
      "200/200 [==============================] - 12s 59ms/step - loss: 0.3011 - accuracy: 0.8880\n",
      "Epoch 2/10\n",
      "200/200 [==============================] - 12s 61ms/step - loss: 0.1961 - accuracy: 0.9250\n",
      "Epoch 3/10\n",
      "200/200 [==============================] - 12s 61ms/step - loss: 0.1997 - accuracy: 0.9180\n",
      "Epoch 4/10\n",
      "200/200 [==============================] - 12s 61ms/step - loss: 0.2190 - accuracy: 0.9140\n",
      "Epoch 5/10\n",
      "200/200 [==============================] - 12s 61ms/step - loss: 0.1843 - accuracy: 0.9270\n",
      "Epoch 6/10\n",
      "200/200 [==============================] - 12s 60ms/step - loss: 0.1724 - accuracy: 0.9300\n",
      "Epoch 7/10\n",
      "200/200 [==============================] - 12s 59ms/step - loss: 0.1955 - accuracy: 0.9190\n",
      "Epoch 8/10\n",
      "200/200 [==============================] - 12s 61ms/step - loss: 0.1707 - accuracy: 0.9315\n",
      "Epoch 9/10\n",
      "200/200 [==============================] - 12s 61ms/step - loss: 0.1697 - accuracy: 0.9255\n",
      "Epoch 10/10\n",
      "200/200 [==============================] - 12s 61ms/step - loss: 0.1785 - accuracy: 0.9280\n",
      "Train on images: [7000, 8000]\n",
      "Epoch 1/10\n",
      "200/200 [==============================] - 12s 60ms/step - loss: 0.2785 - accuracy: 0.9000\n",
      "Epoch 2/10\n",
      "200/200 [==============================] - 12s 61ms/step - loss: 0.2209 - accuracy: 0.9200\n",
      "Epoch 3/10\n",
      "200/200 [==============================] - 12s 61ms/step - loss: 0.2464 - accuracy: 0.9030\n",
      "Epoch 4/10\n",
      "200/200 [==============================] - 12s 61ms/step - loss: 0.1921 - accuracy: 0.9235\n",
      "Epoch 5/10\n",
      "200/200 [==============================] - 12s 61ms/step - loss: 0.2043 - accuracy: 0.9260\n",
      "Epoch 6/10\n",
      "200/200 [==============================] - 12s 60ms/step - loss: 0.1711 - accuracy: 0.9300\n",
      "Epoch 7/10\n",
      "200/200 [==============================] - 12s 59ms/step - loss: 0.2240 - accuracy: 0.9175\n",
      "Epoch 8/10\n",
      "200/200 [==============================] - 12s 61ms/step - loss: 0.2122 - accuracy: 0.9200\n",
      "Epoch 9/10\n",
      "200/200 [==============================] - 12s 61ms/step - loss: 0.1696 - accuracy: 0.9340\n",
      "Epoch 10/10\n",
      "200/200 [==============================] - 12s 61ms/step - loss: 0.2032 - accuracy: 0.9240\n",
      "Train on images: [8000, 9000]\n",
      "Epoch 1/10\n",
      "200/200 [==============================] - 12s 59ms/step - loss: 0.1928 - accuracy: 0.9295\n",
      "Epoch 2/10\n",
      "200/200 [==============================] - 12s 61ms/step - loss: 0.1875 - accuracy: 0.9260\n",
      "Epoch 3/10\n",
      "200/200 [==============================] - 12s 61ms/step - loss: 0.1824 - accuracy: 0.9310\n",
      "Epoch 4/10\n",
      "200/200 [==============================] - 12s 61ms/step - loss: 0.1890 - accuracy: 0.9255\n",
      "Epoch 5/10\n",
      "200/200 [==============================] - 12s 61ms/step - loss: 0.1846 - accuracy: 0.9345\n",
      "Epoch 6/10\n",
      "200/200 [==============================] - 12s 60ms/step - loss: 0.1855 - accuracy: 0.9270\n",
      "Epoch 7/10\n",
      "200/200 [==============================] - 12s 60ms/step - loss: 0.1820 - accuracy: 0.9280\n",
      "Epoch 8/10\n",
      "200/200 [==============================] - 12s 61ms/step - loss: 0.2046 - accuracy: 0.9205\n",
      "Epoch 9/10\n",
      "200/200 [==============================] - 12s 61ms/step - loss: 0.1430 - accuracy: 0.9445\n",
      "Epoch 10/10\n",
      "200/200 [==============================] - 12s 61ms/step - loss: 0.1735 - accuracy: 0.9390\n",
      "Train on images: [9000, 10000]\n",
      "Epoch 1/10\n",
      "200/200 [==============================] - 12s 59ms/step - loss: 0.2312 - accuracy: 0.9135\n",
      "Epoch 2/10\n",
      "200/200 [==============================] - 12s 60ms/step - loss: 0.2299 - accuracy: 0.9155\n",
      "Epoch 3/10\n",
      "200/200 [==============================] - 12s 61ms/step - loss: 0.2082 - accuracy: 0.9250\n",
      "Epoch 4/10\n",
      "200/200 [==============================] - 12s 61ms/step - loss: 0.2198 - accuracy: 0.9285\n",
      "Epoch 5/10\n",
      "200/200 [==============================] - 12s 61ms/step - loss: 0.2290 - accuracy: 0.9095\n",
      "Epoch 6/10\n",
      "200/200 [==============================] - 12s 61ms/step - loss: 0.1987 - accuracy: 0.9295\n",
      "Epoch 7/10\n",
      "200/200 [==============================] - 12s 61ms/step - loss: 0.1605 - accuracy: 0.9350\n",
      "Epoch 8/10\n",
      "200/200 [==============================] - 12s 61ms/step - loss: 0.1841 - accuracy: 0.9290\n",
      "Epoch 9/10\n",
      "200/200 [==============================] - 12s 61ms/step - loss: 0.1906 - accuracy: 0.9300\n",
      "Epoch 10/10\n",
      "200/200 [==============================] - 12s 61ms/step - loss: 0.1732 - accuracy: 0.9280\n",
      "Train on images: [10000, 11000]\n",
      "Epoch 1/10\n",
      "200/200 [==============================] - 12s 58ms/step - loss: 0.2604 - accuracy: 0.9010\n",
      "Epoch 2/10\n",
      "200/200 [==============================] - 12s 60ms/step - loss: 0.2089 - accuracy: 0.9175\n",
      "Epoch 3/10\n",
      "200/200 [==============================] - 12s 61ms/step - loss: 0.1917 - accuracy: 0.9250\n",
      "Epoch 4/10\n",
      "200/200 [==============================] - 12s 61ms/step - loss: 0.2285 - accuracy: 0.9175\n",
      "Epoch 5/10\n",
      "200/200 [==============================] - 12s 61ms/step - loss: 0.1843 - accuracy: 0.9260\n",
      "Epoch 6/10\n",
      "200/200 [==============================] - 12s 61ms/step - loss: 0.2330 - accuracy: 0.9115\n",
      "Epoch 7/10\n",
      "200/200 [==============================] - 12s 61ms/step - loss: 0.1609 - accuracy: 0.9355\n",
      "Epoch 8/10\n",
      "200/200 [==============================] - 12s 61ms/step - loss: 0.1907 - accuracy: 0.9245\n",
      "Epoch 9/10\n",
      "200/200 [==============================] - 12s 61ms/step - loss: 0.1889 - accuracy: 0.9295\n",
      "Epoch 10/10\n",
      "200/200 [==============================] - 12s 61ms/step - loss: 0.1792 - accuracy: 0.9295\n",
      "Train on images: [11000, 11500]\n",
      "Epoch 1/10\n",
      "100/100 [==============================] - 6s 60ms/step - loss: 0.2135 - accuracy: 0.9200\n",
      "Epoch 2/10\n",
      "100/100 [==============================] - 6s 61ms/step - loss: 0.2517 - accuracy: 0.9120\n",
      "Epoch 3/10\n",
      "100/100 [==============================] - 6s 61ms/step - loss: 0.2620 - accuracy: 0.9100\n",
      "Epoch 4/10\n",
      "100/100 [==============================] - 6s 61ms/step - loss: 0.2238 - accuracy: 0.9080\n",
      "Epoch 5/10\n",
      "100/100 [==============================] - 6s 61ms/step - loss: 0.2408 - accuracy: 0.9100\n",
      "Epoch 6/10\n",
      "100/100 [==============================] - 6s 61ms/step - loss: 0.1691 - accuracy: 0.9390\n",
      "Epoch 7/10\n",
      "100/100 [==============================] - 6s 61ms/step - loss: 0.1669 - accuracy: 0.9280\n",
      "Epoch 8/10\n",
      "100/100 [==============================] - 6s 61ms/step - loss: 0.1953 - accuracy: 0.9210\n",
      "Epoch 9/10\n",
      "100/100 [==============================] - 6s 61ms/step - loss: 0.1702 - accuracy: 0.9250\n",
      "Epoch 10/10\n",
      "100/100 [==============================] - 6s 61ms/step - loss: 0.2009 - accuracy: 0.9220\n",
      "Test on images: [11500, 12500]\n",
      "Test loss: 0.26800036430358887\n",
      "Test accuracy: 0.9125000238418579\n"
     ]
    }
   ],
   "source": [
    "root = 'train'\n",
    "categories = [x[0] for x in os.walk(root) if x[0]][1:]\n",
    "del root\n",
    "for range_data, is_train in split_lens_data(lens_data):\n",
    "  data = []\n",
    "  # parse data\n",
    "  for c, category in enumerate(categories):\n",
    "      images = [os.path.join(dp, f) for dp, dn, filenames \n",
    "                in os.walk(category) for f in filenames \n",
    "                if os.path.splitext(f)[1].lower() in ['.jpg']]\n",
    "      for img_path in images[range_data[0]:range_data[1]]:\n",
    "          img, x = get_image(img_path)\n",
    "          data.append({'x':np.array(x[0]), 'y':c})\n",
    "      del images\n",
    "  del img\n",
    "  # count the number of classes\n",
    "  num_classes = len(categories)\n",
    "  x, y = np.array([t[\"x\"] for t in data]), [t[\"y\"] for t in data]\n",
    "  del data\n",
    "  # Предобработка данных\n",
    "  x = x.astype('float') / 255.0\n",
    "  y = keras.utils.to_categorical(y, num_classes)\n",
    "  # Тренировка и тест\n",
    "  if is_train:\n",
    "    print(\"Train on images: {}\".format(range_data))\n",
    "    model_new.fit(x, y, batch_size=10, epochs=10)\n",
    "  else:\n",
    "    print(\"Test on images: {}\".format(range_data))\n",
    "    # evaluate train, test loss accuracy\n",
    "    loss, accuracy = model_new.evaluate(x, y, verbose=0)\n",
    "    print('Test loss:', loss)\n",
    "    print('Test accuracy:', accuracy)\n",
    "    del loss\n",
    "    del accuracy\n",
    "  del x\n",
    "  del y"
   ]
  },
  {
   "cell_type": "markdown",
   "metadata": {
    "id": "BMgJt7rzTCyg"
   },
   "source": [
    "Точность предсказаний радует (91%)"
   ]
  },
  {
   "cell_type": "code",
   "execution_count": 52,
   "metadata": {
    "id": "gcFUgotpto_6"
   },
   "outputs": [],
   "source": [
    "!rm -rf train"
   ]
  },
  {
   "cell_type": "code",
   "execution_count": 53,
   "metadata": {
    "id": "lOycG2vTo_im"
   },
   "outputs": [],
   "source": [
    "locals().clear()\n",
    "for element in dir():\n",
    "    if element[0:2] != \"__\":\n",
    "        del globals()[element]"
   ]
  },
  {
   "cell_type": "markdown",
   "metadata": {
    "id": "FhQ5zio-6k7l"
   },
   "source": [
    "# Выводы\n",
    "\n",
    "Мы реализовали собственный классификатор, который показал не самую ужасную точность, попробовали использовать VGG16 классификатор, который показал огромную точность.\n",
    "\n",
    "Для корректной работы ноутбука была реализована работа с памятью (освобождение после группы операций)"
   ]
  },
  {
   "cell_type": "code",
   "execution_count": null,
   "metadata": {
    "id": "0S6xkf2168jT"
   },
   "outputs": [],
   "source": []
  }
 ],
 "metadata": {
  "accelerator": "GPU",
  "colab": {
   "collapsed_sections": [],
   "name": "8_vgg16.ipynb",
   "provenance": [],
   "toc_visible": true
  },
  "kernelspec": {
   "display_name": "Python 3",
   "language": "python",
   "name": "python3"
  },
  "language_info": {
   "codemirror_mode": {
    "name": "ipython",
    "version": 3
   },
   "file_extension": ".py",
   "mimetype": "text/x-python",
   "name": "python",
   "nbconvert_exporter": "python",
   "pygments_lexer": "ipython3",
   "version": "3.8.5"
  }
 },
 "nbformat": 4,
 "nbformat_minor": 1
}
